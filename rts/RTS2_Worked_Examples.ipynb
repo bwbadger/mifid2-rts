{
 "cells": [
  {
   "cell_type": "markdown",
   "metadata": {},
   "source": [
    "## Read me\n",
    "\n",
    "The objective of [this project](https://github.com/bwbadger/mifid2-rts) is to show that it is better to express regulatory requirements using executable expressions which all interested parties can share and run and test, rather than to express regulatory requirements as text documents which everyone has to interpret for themselves.\n",
    "\n",
    "This page is a Jupyter notebook.  It is a combination of a document and some live software which you can execute if you are running your own jupyter-notebook server.  If you are not running a Jupyter server you can still read the document and see the code examples - you just can't run them.\n",
    "\n",
    "If you see something wrong on this page or in the code, please [create an issue in the GitHub project](https://github.com/bwbadger/mifid2-rts/issues).\n",
    "\n",
    "\n",
    "## MiFID II classification of trades using the RTS 2 Annex 3 taxonomy.\n",
    "\n",
    "Governments would prefer to avoid another financial crisis like the one in 2008 and believe that making the big players operate in a more open and transparent way will help avoid another crash.\n",
    "\n",
    "Markets in Financial Instruments Directive II (MiFID II) is an EU law which has market transparency as its key objective.  The predecessor law, MiFID I, only looked at a part of what banking firms do.  MiFID II aims to cover most mainstream activity.\n",
    "\n",
    "Governments rely on regulators to make sure that their laws are being followed.  For MiFID II the primary regulator is ESMA.  ESMA have produced a number of Regulatory Technical Standard (RTS) documents which aim to explain what banking firms must do to comply with the MiFID II law.\n",
    "\n",
    "One of the RTS documents, RTS 2, explains how different kinds of trading activity can be identified.  Having a clear way to say what has been traded is an important part of making the markets more transparent.\n",
    "\n",
    "Some kinds of trading activity are already pretty transparent, for example buying and selling shares in a public company.  Trades of this kind are mostly done using a public exchange, such as the New York or London stock exchanges.  The 'price' for a given stock is simply the amount of money paid in the most recent trade and this price is made public by the exchange so everyone can see what the latest price is.  It is pretty easy to identify what has been traded because each stock has a identifier, e.g. 'AAPL' identifies Apple Inc. shares.\n",
    "\n",
    "Not all trades happen on public exchanges.  Many trades happen directly between two parties and these are known as over the counter (OTC) trades.  Each OTC trade can be fine-tuned, for example setting payment dates and interest rates.  The fine tuning of OTC trades makes it hard to give an identity to what has been traded, but this is where RTS 2 comes in. \n",
    "\n",
    "The easiest way to understand what RTS 2 is all about is to use it to classify some trades, and you can do just that below.\n",
    "\n",
    "### A Python Implementation of RTS 2 Annex 3\n",
    "\n",
    "It would be nice if ESMA published a working software implememtation of the RTS rules along with some test data so people can see exactly how the rules are supposed to work, and how reports are supposed to look.  But ESMA don't do that.  Each participant must somehow get an implementation of the RTS rules, either by writing it themselves or buying an implementation.\n",
    "\n",
    "One market participant implemented the RTS rules themselves and have now released part of that implementation under an open source license, the BSD license, so anyone can see the implementaion and use it.  This document forms a part of that release.\n",
    "\n",
    "Hopefully this software will encourage ESMA to produce reference implementaions of their rules in future.  They could even take this software as a starting point.\n",
    "\n",
    "The software here is written in the Python programming language.  Python was chosen because the language is ubiquitous, that is it can be used easily and immediately on most modern computers; everything from a Raspberry Pi to the largest of big data clusters.\n",
    "\n",
    "### Running a really simple initial classification\n",
    "\n",
    "The box below contains python code which runs the classification software.  If you are just viewing this page then you won't be able to run the code, but if you start the page using your own local Jupyter notebook server then the code will really run if you select the box below and press control+enter.  If you can run the code you might like to try changing the values of the attributes below (e.g. to_date) to see what happens.\n"
   ]
  },
  {
   "cell_type": "code",
   "execution_count": 1,
   "metadata": {
    "collapsed": false
   },
   "outputs": [
    {
     "data": {
      "text/plain": [
       "OrderedDict([('RTS2 version', 'EU 2017/583 of 14 July 2016'),\n",
       "             ('Asset class', 'Foreign Exchange Derivatives'),\n",
       "             ('Sub-asset class', 'Deliverable FX options (DO)'),\n",
       "             ('Segmentation criterion 1 description',\n",
       "              'underlying currency pair defined as combination of the two currencies underlying the derivative contract'),\n",
       "             ('Segmentation criterion 1', \"('GBP', 'USD')\"),\n",
       "             ('Segmentation criterion 2 description',\n",
       "              'time to maturity bucket of the swap defined as follows:'),\n",
       "             ('Segmentation criterion 2',\n",
       "              'Maturity bucket 2: 1 week to 3 months')])"
      ]
     },
     "execution_count": 1,
     "metadata": {},
     "output_type": "execute_result"
    }
   ],
   "source": [
    "# Import the RTS 2 module and the Python date & time tools module\n",
    "import rts2_annex3\n",
    "import datetime\n",
    "\n",
    "# Create a simple Python object to represent a trade.\n",
    "class SampleTrade(object):\n",
    "    pass\n",
    "sample_trade = SampleTrade()\n",
    "sample_trade.asset_class_name = 'Foreign Exchange Derivatives'\n",
    "sample_trade.sub_asset_class_name= 'Deliverable FX options (DO)'\n",
    "sample_trade.underlying_currency_pair = ('GBP', 'USD')\n",
    "sample_trade.from_date = datetime.date(2017, 9, 13)\n",
    "sample_trade.to_date = datetime.date(2017, 10, 12)\n",
    "\n",
    "# Now classify the trade\n",
    "sample_classification = rts2_annex3.class_root.classification_for(sample_trade)\n",
    "\n",
    "# Lastly, display the classificaton\n",
    "sample_classification.classification_dict()"
   ]
  },
  {
   "cell_type": "markdown",
   "metadata": {},
   "source": [
    "### Understanding a classification\n",
    "\n",
    "The classification is shown here as a Python dictionary, but one could imagine presenting this classification in many ways ... and this is a problem.  What is the official accepted literal form of an RTS 2 classification?  Nobody seems to know.  So let's go with this dictionary for now.\n",
    "\n",
    "Another point about the above representation is that it is very big, and the example is not one of the biggest!  The reason for the size is that the text which appears is exactly as it appears in RTS 2.  There is no obvious way to shorten the classification without inventing something, and that would open the door to arguments about what is right.  This way, the classification links back to the RTS document in an extremely obvious, if verbose, way.  No arguments.\n",
    "\n",
    "To a large degree, the classification is simply repeating the information we gave our sample_trade object in the code above, but information has been checked and other information added.\n",
    "\n",
    "This classification first confirms the identity of the RTS document the classification is based upon.  The RTS rules may change over time, so it is important to know which version of the RTS a particular classification is based upon.\n",
    "\n",
    "Next we see the Asset class and Sub-asset class, which is repeating just what we said above.  When classifying a trade there are some things you just have to know.  There will be some help on how to choose Asset classes and Sub-asset classes below.\n",
    "\n",
    "Then we see something we didn't include in our trade object.  The RTS 2 Annex 3 document defines a number of criteria for each kind of Sub-asset class.  The Sub-asset class in this case has two criteria, and the classification included the description, the exact text, from the RTS document to explain what the criteria mean.\n",
    "\n",
    "The values for the criteria do come from the values on our object, but some involve calculation.  The currency pair criterion, criterion 1, is simply the name of underlying_currency_pair value we provided.  Criterion 2 gets its value from date calculations which use the from and to dates we gave; the resulting value is a date bucket, bucket 2 in this case.\n",
    "\n",
    "### Would Json be a better format for classifications?\n",
    "\n",
    "Because the classification is just a Python object we can change its implementation to render the classification in any way we please, or we can take the dictionary it currently produces and convert it to something else.  Here, the classification above is shown as json:"
   ]
  },
  {
   "cell_type": "code",
   "execution_count": 2,
   "metadata": {
    "collapsed": false
   },
   "outputs": [
    {
     "name": "stdout",
     "output_type": "stream",
     "text": [
      "{\n",
      "    \"RTS2 version\": \"EU 2017/583 of 14 July 2016\",\n",
      "    \"Asset class\": \"Foreign Exchange Derivatives\",\n",
      "    \"Sub-asset class\": \"Deliverable FX options (DO)\",\n",
      "    \"Segmentation criterion 1 description\": \"underlying currency pair defined as combination of the two currencies underlying the derivative contract\",\n",
      "    \"Segmentation criterion 1\": \"('GBP', 'USD')\",\n",
      "    \"Segmentation criterion 2 description\": \"time to maturity bucket of the swap defined as follows:\",\n",
      "    \"Segmentation criterion 2\": \"Maturity bucket 2: 1 week to 3 months\"\n",
      "}\n"
     ]
    }
   ],
   "source": [
    "import json\n",
    "print(json.dumps(sample_classification.classification_dict(), indent=4))"
   ]
  },
  {
   "cell_type": "markdown",
   "metadata": {},
   "source": [
    "### RTS 2 Annex 3 defines a taxonomy. A Tree.¶\n",
    "\n",
    "To understand how the classification process works we need to look at what the RTS says.\n",
    "\n",
    "The RTS 2 Annex 3 taxonomy is made up of Asset classes which get broken down into Sub-asset classes which are further broken down by combinations of criteria values.\n",
    "\n",
    "Here is some code to list the names of elements of the taxonomy:"
   ]
  },
  {
   "cell_type": "code",
   "execution_count": 3,
   "metadata": {
    "collapsed": false
   },
   "outputs": [
    {
     "data": {
      "text/plain": [
       "['Bonds (all bond types except ETCs and ETNs)',\n",
       " 'Bonds (ETC and ETN bond types)',\n",
       " 'Structured Finance Products (SFPs)',\n",
       " 'Securitised Derivatives',\n",
       " 'Interest Rate Derivatives',\n",
       " 'Equity Derivatives',\n",
       " 'Commodity Derivatives',\n",
       " 'Foreign Exchange Derivatives',\n",
       " 'Credit Derivatives',\n",
       " 'C10 Derivatives',\n",
       " 'Financial contracts for differences (CFDs)',\n",
       " 'Emission Allowances',\n",
       " 'Emission Allowance Derivatives']"
      ]
     },
     "execution_count": 3,
     "metadata": {},
     "output_type": "execute_result"
    }
   ],
   "source": [
    "# The root of the taxonomy is rts2_annex3.class_root.  Here we ask the\n",
    "# root for the asset classes, and then ask each asset class for its name.\n",
    "# The names are exactly the names of the Asset classes you'll see in the RTS document.\n",
    "[asset_class.name for asset_class in rts2_annex3.class_root.asset_classes]"
   ]
  },
  {
   "cell_type": "code",
   "execution_count": 4,
   "metadata": {
    "collapsed": false
   },
   "outputs": [
    {
     "data": {
      "text/plain": [
       "['Non-deliverable forward (NDF)',\n",
       " 'Deliverable forward (DF)',\n",
       " 'Non-Deliverable FX options (NDO)',\n",
       " 'Deliverable FX options (DO)',\n",
       " 'Non-Deliverable FX swaps (NDS)',\n",
       " 'Deliverable FX swaps (DS)',\n",
       " 'FX futures',\n",
       " 'Other Foreign Exchange Derivatives']"
      ]
     },
     "execution_count": 4,
     "metadata": {},
     "output_type": "execute_result"
    }
   ],
   "source": [
    "# Each asset class is broken down into Sub-asset classes. \n",
    "# So now we take the FX Derivatives asset class and display the names of \n",
    "# its children, the sub-asset classes.\n",
    "fx_asset_class = rts2_annex3.class_root.asset_class_by_name('Foreign Exchange Derivatives')\n",
    "[sub_asset_class.name for sub_asset_class in fx_asset_class.children]"
   ]
  },
  {
   "cell_type": "code",
   "execution_count": 5,
   "metadata": {
    "collapsed": false
   },
   "outputs": [
    {
     "data": {
      "text/plain": [
       "['underlying currency pair defined as combination of the two currencies underlying the derivative contract',\n",
       " 'time to maturity bucket of the swap defined as follows:']"
      ]
     },
     "execution_count": 5,
     "metadata": {},
     "output_type": "execute_result"
    }
   ],
   "source": [
    "# Each sub-asset class has a number of criteria.\n",
    "# Here we ask the Deliverable FX Options sub-asset class to list its\n",
    "# criteria:\n",
    "fx_do_sub_asset_class = fx_asset_class.sub_asset_class_by_name('Deliverable FX options (DO)')\n",
    "[criterion.description for criterion in fx_do_sub_asset_class.criteria]"
   ]
  },
  {
   "cell_type": "markdown",
   "metadata": {},
   "source": [
    "### Viewing the RTS 2 taxonomy using ipywidgets\n",
    "\n",
    "If you are running this notebook on a live Jupyter server then you can run the code below to display widgets which let you navigate the RTS 2 taxonomy.\n",
    "\n",
    "You can select an asset class in a drop-down widget.  This then populates the sub-asset classes drop-down widget for the selected asset class.  Selecting a sub-asset class causes the criteria for that sub-asset class to be displayed.\n",
    "\n",
    "Here is a screen shot of how the widgets look in action.  In this example I have selected Energy Commodity Swaps which has seven criteria:\n",
    "\n",
    "![Screenshot of Energy Commodity Swaps](https://drive.google.com/uc?export=view&id=0B2yYXKtCVfspQTNUZlU2Mnh3a0U)"
   ]
  },
  {
   "cell_type": "code",
   "execution_count": 6,
   "metadata": {
    "collapsed": false
   },
   "outputs": [],
   "source": [
    "import rts2_annex3\n",
    "import collections\n",
    "import ipywidgets as widgets\n",
    "from IPython.display import display\n",
    "\n",
    "asset_classes = rts2_annex3.class_root.asset_classes\n",
    "asset_class_dict = collections.OrderedDict([\n",
    "        (an_asset_class.name, an_asset_class) \n",
    "        for an_asset_class \n",
    "        in asset_classes])\n",
    "\n",
    "asset_class_widget = widgets.Dropdown(\n",
    "    options=asset_class_dict,\n",
    "    description='Asset Classes:',\n",
    "    disabled=False,\n",
    ")\n",
    "\n",
    "def sub_asset_class_dict(asset_class):\n",
    "    return collections.OrderedDict([\n",
    "        (sub_asset_class.name, sub_asset_class) \n",
    "        for sub_asset_class \n",
    "        in asset_class.sub_asset_classes])\n",
    "\n",
    "sub_asset_class_widget = widgets.Dropdown(\n",
    "    options=sub_asset_class_dict(asset_class_widget.value),\n",
    "    description='Sub-asset Classes:',\n",
    "    disabled=False,\n",
    ")\n",
    "\n",
    "criteria_vbox = widgets.VBox([])\n",
    "\n",
    "def criteria_widgets(sub_asset_class):\n",
    "    # OK, in here I need to look up the criteria for the\n",
    "    # sub-asset class and build the widgets in rows of HBox es\n",
    "    return [widgets.Label(criterion.display(prefix=\"\"))\n",
    "            for criterion\n",
    "            in sub_asset_class.criteria]\n",
    "    \n",
    "def asset_class_changed(change):\n",
    "    if change['type'] == 'change' and change['name'] == 'value':\n",
    "        selected_asset_class = change['new']\n",
    "        sub_asset_class_widget.options = sub_asset_class_dict(selected_asset_class)\n",
    "        \n",
    "def sub_asset_class_changed(change):\n",
    "    if change['type'] == 'change' and change['name'] == 'value':\n",
    "        selected_sub_asset_class = change['new']\n",
    "        criteria_vbox.children = criteria_widgets(selected_sub_asset_class)\n",
    "\n",
    "asset_class_widget.observe(asset_class_changed)\n",
    "sub_asset_class_widget.observe(sub_asset_class_changed)\n",
    "display(asset_class_widget)\n",
    "display(sub_asset_class_widget)\n",
    "criteria_vbox.children = criteria_widgets(sub_asset_class_widget.value)\n",
    "display(criteria_vbox)\n"
   ]
  },
  {
   "cell_type": "markdown",
   "metadata": {},
   "source": [
    "### Viewing the RTS 2 Annex 3 taxonomy as a tree\n",
    "\n",
    "The following code walks the RTS 2 Annex 3 taxonomy building up a string which presents the taxonomy as a tree, in the same kind of way that nested file folders on a computer could be shown as  a tree.\n",
    "\n",
    "The names are all trimmed to 50 characters just to force each item onto a single line."
   ]
  },
  {
   "cell_type": "code",
   "execution_count": 7,
   "metadata": {
    "collapsed": false
   },
   "outputs": [
    {
     "name": "stdout",
     "output_type": "stream",
     "text": [
      "\n",
      "Don't forget, all strings have been trimmed to 50 characters! ... \n",
      "\n",
      "Root\n",
      "  Asset class: \"Bonds (all bond types except ETCs and ETNs)\"\n",
      "    Sub-asset class: \"Sovereign Bond\"\n",
      "    Sub-asset class: \"Other Public Bond\"\n",
      "    Sub-asset class: \"Convertible Bond\"\n",
      "    Sub-asset class: \"Covered Bond\"\n",
      "    Sub-asset class: \"Corporate Bond\"\n",
      "    Sub-asset class: \"Other Bond\"\n",
      "  Asset class: \"Bonds (ETC and ETN bond types)\"\n",
      "    Sub-asset class: \"Exchange Traded Commodities (ETCs)\"\n",
      "    Sub-asset class: \"Exchange Traded Notes (ETNs)\"\n",
      "  Asset class: \"Structured Finance Products (SFPs)\"\n",
      "  Asset class: \"Securitised Derivatives\"\n",
      "  Asset class: \"Interest Rate Derivatives\"\n",
      "    Sub-asset class: \"Bond futures/forwards\"\n",
      "      Critrion: 1 \"issuer of the underlying\"\n",
      "      Critrion: 2 \"term of the underlying deliverable bond defined as\"\n",
      "      Critrion: 3 \"time to maturity bucket of the swap defined as fol\"\n",
      "    Sub-asset class: \"Bond options\"\n",
      "      Critrion: 1 \"underlying bond or underlying bond future/forward\"\n",
      "      Critrion: 2 \"time to maturity bucket of the swap defined as fol\"\n",
      "    Sub-asset class: \"IR futures and FRA\"\n",
      "      Critrion: 1 \"underlying interest rate\"\n",
      "      Critrion: 2 \"term of the underlying interest rate\"\n",
      "      Critrion: 3 \"time to maturity bucket of the swap defined as fol\"\n",
      "    Sub-asset class: \"IR options\"\n",
      "      Critrion: 1 \"underlying interest rate or underlying interest ra\"\n",
      "      Critrion: 2 \"term of the underlying interest rate\"\n",
      "      Critrion: 3 \"time to maturity bucket of the swap defined as fol\"\n",
      "    Sub-asset class: \"Swaptions\"\n",
      "      Critrion: 1 \"underlying swap type defined as follows: fixed-to-\"\n",
      "      Critrion: 2 \"notional currency defined as the currency in which\"\n",
      "      Critrion: 3 \"inflation index if the underlying swap type is eit\"\n",
      "      Critrion: 4 \"time to maturity bucket of the swap defined as fol\"\n",
      "      Critrion: 5 \"time to maturity bucket of the option defined as f\"\n",
      "    Sub-asset class: \"Fixed-to-Float 'multi-currency swaps' or 'cross-cu\"\n",
      "      Critrion: 1 \"notional currency pair defined as combination of t\"\n",
      "      Critrion: 2 \"time to maturity bucket of the swap defined as fol\"\n",
      "    Sub-asset class: \"Float-to-Float 'multi-currency swaps' or 'cross-cu\"\n",
      "      Critrion: 1 \"notional currency pair defined as combination of t\"\n",
      "      Critrion: 2 \"time to maturity bucket of the swap defined as fol\"\n",
      "    Sub-asset class: \"Fixed-to-Fixed 'multi-currency swaps' or 'cross-cu\"\n",
      "      Critrion: 1 \"notional currency pair defined as combination of t\"\n",
      "      Critrion: 2 \"time to maturity bucket of the swap defined as fol\"\n",
      "    Sub-asset class: \"Overnight Index Swap (OIS) 'multi-currency swaps' \"\n",
      "      Critrion: 1 \"notional currency pair defined as combination of t\"\n",
      "      Critrion: 2 \"time to maturity bucket of the swap defined as fol\"\n",
      "    Sub-asset class: \"Inflation 'multi-currency swaps' or 'cross-currenc\"\n",
      "      Critrion: 1 \"notional currency pair defined as combination of t\"\n",
      "      Critrion: 2 \"time to maturity bucket of the swap defined as fol\"\n",
      "    Sub-asset class: \"Fixed-to-Float 'single currency swaps' and futures\"\n",
      "      Critrion: 1 \"notional currency in which the two legs of the swa\"\n",
      "      Critrion: 2 \"time to maturity bucket of the swap defined as fol\"\n",
      "    Sub-asset class: \"Float-to-Float 'single currency swaps' and futures\"\n",
      "      Critrion: 1 \"notional currency in which the two legs of the swa\"\n",
      "      Critrion: 2 \"time to maturity bucket of the swap defined as fol\"\n",
      "    Sub-asset class: \"Fixed-to-Fixed 'single currency swaps' and futures\"\n",
      "      Critrion: 1 \"notional currency in which the two legs of the swa\"\n",
      "      Critrion: 2 \"time to maturity bucket of the swap defined as fol\"\n",
      "    Sub-asset class: \"Overnight Index Swap (OIS) 'single currency swaps'\"\n",
      "      Critrion: 1 \"notional currency in which the two legs of the swa\"\n",
      "      Critrion: 2 \"time to maturity bucket of the swap defined as fol\"\n",
      "    Sub-asset class: \"Inflation 'single currency swaps' and futures/forw\"\n",
      "      Critrion: 1 \"notional currency in which the two legs of the swa\"\n",
      "      Critrion: 2 \"time to maturity bucket of the swap defined as fol\"\n",
      "    Sub-asset class: \"Other Interest Rate Derivatives\"\n",
      "  Asset class: \"Equity Derivatives\"\n",
      "    Sub-asset class: \"Stock index options\"\n",
      "      Critrion: 1 \"underlying stock index\"\n",
      "    Sub-asset class: \"Stock index futures/ forwards\"\n",
      "      Critrion: 1 \"underlying stock index\"\n",
      "    Sub-asset class: \"Stock options\"\n",
      "      Critrion: 1 \"underlying share\"\n",
      "    Sub-asset class: \"Stock futures/ forwards\"\n",
      "      Critrion: 1 \"underlying share\"\n",
      "    Sub-asset class: \"Stock dividend options\"\n",
      "      Critrion: 1 \"underlying share entitling to dividends\"\n",
      "    Sub-asset class: \"Stock dividend futures/ forwards\"\n",
      "      Critrion: 1 \"underlying share entitling to dividends\"\n",
      "    Sub-asset class: \"Dividend index options\"\n",
      "      Critrion: 1 \"underlying dvidend index\"\n",
      "    Sub-asset class: \"Dividend index futures/ forwards\"\n",
      "      Critrion: 1 \"underlying dividend index\"\n",
      "    Sub-asset class: \"Volatility index options\"\n",
      "      Critrion: 1 \"underlying volatility index\"\n",
      "    Sub-asset class: \"Volatility index futures/ forwards\"\n",
      "      Critrion: 1 \"underlying volatility index\"\n",
      "    Sub-asset class: \"ETF options\"\n",
      "      Critrion: 1 \"underlying ETF\"\n",
      "    Sub-asset class: \"ETF futures/ forwards\"\n",
      "      Critrion: 1 \"underlying ETF\"\n",
      "    Sub-asset class: \"Swaps\"\n",
      "      Critrion: 1 \"underlying type: single name, index, basket\"\n",
      "      Critrion: 2 \"underlying single name, index, basket\"\n",
      "      Critrion: 3 \"parameter: price return basic performance paramete\"\n",
      "      Critrion: 4 \"time to maturity bucket of the swap defined as fol\"\n",
      "    Sub-asset class: \"Portfolio Swaps\"\n",
      "      Critrion: 1 \"underlying type: single name, index, basket\"\n",
      "      Critrion: 2 \"underlying single name, index, basket\"\n",
      "      Critrion: 3 \"parameter: price return basic performance paramete\"\n",
      "      Critrion: 4 \"Price return basic performance parameter\"\n",
      "    Sub-asset class: \"Other equity derivatives\"\n",
      "  Asset class: \"Commodity Derivatives\"\n",
      "    Sub-asset class: \"Metal commodity futures/forwards\"\n",
      "      Critrion: 1 \"metal type: precious metal, non-precious metal\"\n",
      "      Critrion: 2 \"underlying metal\"\n",
      "      Critrion: 3 \"notional currency defined as the currency in which\"\n",
      "      Critrion: 4 \"time to maturity bucket of the future/forward defi\"\n",
      "    Sub-asset class: \"Metal commodity options\"\n",
      "      Critrion: 1 \"metal type: precious metal, non-precious metal\"\n",
      "      Critrion: 2 \"underlying metal\"\n",
      "      Critrion: 3 \"notional currency defined as the currency in which\"\n",
      "      Critrion: 4 \"time to maturity bucket of the option defined as f\"\n",
      "    Sub-asset class: \"Metal commodity swaps\"\n",
      "      Critrion: 1 \"metal type: precious metal, non-precious metal\"\n",
      "      Critrion: 2 \"underlying metal\"\n",
      "      Critrion: 3 \"notional currency defined as the currency in which\"\n",
      "      Critrion: 4 \"settlement type defined as cash, physical or other\"\n",
      "      Critrion: 5 \"time to maturity bucket of the swap defined as fol\"\n",
      "    Sub-asset class: \"Energy commodity futures/forwards\"\n",
      "      Critrion: 1 \"energy type: oil, oil distillates, coal, oil light\"\n",
      "      Critrion: 2 \"underlying energy\"\n",
      "      Critrion: 3 \"notional currency defined as the currency in which\"\n",
      "      Critrion: 4 \"load type defined as baseload, peakload, off-peak \"\n",
      "      Critrion: 5 \"delivery/ cash settlement location applicable to e\"\n",
      "      Critrion: 6 \"time to maturity bucket of the future/forward defi\"\n",
      "    Sub-asset class: \"Energy commodity options\"\n",
      "      Critrion: 1 \"energy type: oil, oil distillates, coal, oil light\"\n",
      "      Critrion: 2 \"underlying energy\"\n",
      "      Critrion: 3 \"notional currency defined as the currency in which\"\n",
      "      Critrion: 4 \"load type defined as baseload, peakload, off-peak \"\n",
      "      Critrion: 5 \"delivery/ cash settlement location applicable to e\"\n",
      "      Critrion: 6 \"time to maturity bucket of the option defined as f\"\n",
      "    Sub-asset class: \"Energy commodity swaps\"\n",
      "      Critrion: 1 \"energy type: oil, oil distillates, coal, oil light\"\n",
      "      Critrion: 2 \"underlying energy\"\n",
      "      Critrion: 3 \"notional currency defined as the currency in which\"\n",
      "      Critrion: 4 \"settlement type defined as cash, physical or other\"\n",
      "      Critrion: 5 \"load type defined as baseload, peakload, off-peak \"\n",
      "      Critrion: 6 \"delivery/ cash settlement location applicable to e\"\n",
      "      Critrion: 7 \"time to maturity bucket of the swap defined as fol\"\n",
      "    Sub-asset class: \"Agricultural commodity futures/forwards\"\n",
      "      Critrion: 1 \"underlying agricultural commodity\"\n",
      "      Critrion: 2 \"notional currency defined as the currency in which\"\n",
      "      Critrion: 3 \"time to maturity bucket of the future/forward defi\"\n",
      "    Sub-asset class: \"Agricultural commodity options\"\n",
      "      Critrion: 1 \"underlying agricultural commodity\"\n",
      "      Critrion: 2 \"notional currency defined as the currency in which\"\n",
      "      Critrion: 3 \"time to maturity bucket of the option defined as f\"\n",
      "    Sub-asset class: \"Agricultural commodity swaps\"\n",
      "      Critrion: 1 \"underlying agricultural commodity\"\n",
      "      Critrion: 2 \"notional currency defined as the currency in which\"\n",
      "      Critrion: 3 \"settlement type defined as cash, physical or other\"\n",
      "      Critrion: 4 \"time to maturity bucket of the swap defined as fol\"\n",
      "    Sub-asset class: \"Other commodity derivatives\"\n",
      "  Asset class: \"Foreign Exchange Derivatives\"\n",
      "    Sub-asset class: \"Non-deliverable forward (NDF)\"\n",
      "      Critrion: 1 \"underlying currency pair defined as combination of\"\n",
      "      Critrion: 2 \"time to maturity bucket of the swap defined as fol\"\n",
      "    Sub-asset class: \"Deliverable forward (DF)\"\n",
      "      Critrion: 1 \"underlying currency pair defined as combination of\"\n",
      "      Critrion: 2 \"time to maturity bucket of the swap defined as fol\"\n",
      "    Sub-asset class: \"Non-Deliverable FX options (NDO)\"\n",
      "      Critrion: 1 \"underlying currency pair defined as combination of\"\n",
      "      Critrion: 2 \"time to maturity bucket of the swap defined as fol\"\n",
      "    Sub-asset class: \"Deliverable FX options (DO)\"\n",
      "      Critrion: 1 \"underlying currency pair defined as combination of\"\n",
      "      Critrion: 2 \"time to maturity bucket of the swap defined as fol\"\n",
      "    Sub-asset class: \"Non-Deliverable FX swaps (NDS)\"\n",
      "      Critrion: 1 \"underlying currency pair defined as combination of\"\n",
      "      Critrion: 2 \"time to maturity bucket of the swap defined as fol\"\n",
      "    Sub-asset class: \"Deliverable FX swaps (DS)\"\n",
      "      Critrion: 1 \"underlying currency pair defined as combination of\"\n",
      "      Critrion: 2 \"time to maturity bucket of the swap defined as fol\"\n",
      "    Sub-asset class: \"FX futures\"\n",
      "      Critrion: 1 \"underlying currency pair defined as combination of\"\n",
      "      Critrion: 2 \"time to maturity bucket of the swap defined as fol\"\n",
      "    Sub-asset class: \"Other Foreign Exchange Derivatives\"\n",
      "  Asset class: \"Credit Derivatives\"\n",
      "    Sub-asset class: \"Index credit default swap (CDS)\"\n",
      "      Critrion: 1 \"underlying index\"\n",
      "      Critrion: 2 \"notional currency defined as the currency in which\"\n",
      "      Critrion: 3 \"time maturity bucket of the CDS defined as follows\"\n",
      "    Sub-asset class: \"Single name credit default swap (CDS)\"\n",
      "      Critrion: 1 \"underlying reference entity\"\n",
      "      Critrion: 2 \"underlying reference entity type defined as follow\"\n",
      "      Critrion: 3 \"notional currency defined as the currency in which\"\n",
      "      Critrion: 4 \"time maturity bucket of the CDS defined as follows\"\n",
      "    Sub-asset class: \"Bespoke basket credit default swap (CDS)\"\n",
      "    Sub-asset class: \"CDS index options\"\n",
      "      Critrion: 1 \"CDS index sub-class as specified for the sub-asset\"\n",
      "      Critrion: 2 \"time maturity bucket of the option defined as foll\"\n",
      "    Sub-asset class: \"Single name CDS options\"\n",
      "      Critrion: 1 \"single name CDS sub-class as specified for the sub\"\n",
      "      Critrion: 2 \"time maturity bucket of the option defined as foll\"\n",
      "    Sub-asset class: \"Other credit derivatives\"\n",
      "  Asset class: \"C10 Derivatives\"\n",
      "    Sub-asset class: \"Freight derivatives\"\n",
      "      Critrion: 1 \"contract type: Forward Freight Agreements (FFAs) o\"\n",
      "      Critrion: 2 \"freight type: wet freight, dry freight\"\n",
      "      Critrion: 3 \"freight sub-type: dry bulk carriers, tanker, conta\"\n",
      "      Critrion: 4 \"specification of the size related to the freight s\"\n",
      "      Critrion: 5 \"specific route or time charter average\"\n",
      "      Critrion: 6 \"time maturity bucket of the derivative defined as \"\n",
      "    Sub-asset class: \"Other C10 derivatives\"\n",
      "  Asset class: \"Financial contracts for differences (CFDs)\"\n",
      "    Sub-asset class: \"Currency CFDs\"\n",
      "      Critrion: 1 \"a currency CFD sub-class is defined by the underly\"\n",
      "    Sub-asset class: \"Commodity CFDs\"\n",
      "      Critrion: 1 \"a commodity CFD sub-class is defined by the underl\"\n",
      "    Sub-asset class: \"Equity CFDs\"\n",
      "      Critrion: 1 \"an equity CFD sub-class is defined by the underlyi\"\n",
      "    Sub-asset class: \"Bond CFDs\"\n",
      "      Critrion: 1 \"a bond CFD sub-class is defined by the underlying \"\n",
      "    Sub-asset class: \"CFDs on an equity future/forward\"\n",
      "      Critrion: 1 \"a CFD on an equity future/forward sub-class is def\"\n",
      "    Sub-asset class: \"CFDs on an equity option\"\n",
      "      Critrion: 1 \"a CFD on an equity option sub-class is defined by \"\n",
      "    Sub-asset class: \"Other CFDs\"\n",
      "  Asset class: \"Emission Allowances\"\n",
      "    Sub-asset class: \"European Union Allowances (EUA)\"\n",
      "    Sub-asset class: \"European Union Aviation Allowances (EUAA)\"\n",
      "    Sub-asset class: \"Certified Emission Reductions (CER)\"\n",
      "    Sub-asset class: \"Emission Reduction Units (ERU)\"\n",
      "  Asset class: \"Emission Allowance Derivatives\"\n",
      "    Sub-asset class: \"Emission allowance derivatives whose underlying is\"\n",
      "    Sub-asset class: \"Emission allowance derivatives whose underlying is\"\n",
      "    Sub-asset class: \"Emission allowance derivatives whose underlying is\"\n",
      "    Sub-asset class: \"Emission allowance derivatives whose underlying is\"\n",
      "\n"
     ]
    }
   ],
   "source": [
    "import rts2_annex3\n",
    "from IPython.display import display\n",
    "\n",
    "max_name_length = 50\n",
    "target_string = ''\n",
    "root = rts2_annex3.class_root\n",
    "target_string += 'Root\\n'\n",
    "for asset_class in root.asset_classes:\n",
    "    target_string += '  Asset class: \"' + asset_class.name + '\"\\n'\n",
    "    for sub_asset_class in asset_class.children:\n",
    "        target_string += '    Sub-asset class: \"' \\\n",
    "            + sub_asset_class.name[:max_name_length] \\\n",
    "            + '\"\\n'\n",
    "        for criterion in sub_asset_class.criteria:\n",
    "            target_string += '      Critrion: ' \\\n",
    "                + str(criterion.criterion_number) \\\n",
    "                + ' \"' \\\n",
    "                + criterion.description[:max_name_length] \\\n",
    "                + '\"\\n'\n",
    "\n",
    "print(\"\\nDon't forget, all strings have been trimmed to {limit} characters! ... \\n\".format(\n",
    "        limit=max_name_length))\n",
    "print(target_string)"
   ]
  }
 ],
 "metadata": {
  "kernelspec": {
   "display_name": "Python 3",
   "language": "python",
   "name": "python3"
  },
  "language_info": {
   "codemirror_mode": {
    "name": "ipython",
    "version": 3
   },
   "file_extension": ".py",
   "mimetype": "text/x-python",
   "name": "python",
   "nbconvert_exporter": "python",
   "pygments_lexer": "ipython3",
   "version": "3.5.3"
  },
  "widgets": {
   "state": {
    "93dab4ce0e0044329dc97dc1bf452b0e": {
     "views": [
      {
       "cell_index": 9
      }
     ]
    },
    "e0bf8200a52d4c0f812825c6a0f48bed": {
     "views": [
      {
       "cell_index": 9
      }
     ]
    },
    "f80cd561ac9b4a66b1039b338e269cb7": {
     "views": [
      {
       "cell_index": 9
      }
     ]
    }
   },
   "version": "1.2.0"
  }
 },
 "nbformat": 4,
 "nbformat_minor": 2
}
