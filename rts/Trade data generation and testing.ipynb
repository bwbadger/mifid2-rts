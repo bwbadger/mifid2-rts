{
 "cells": [
  {
   "cell_type": "markdown",
   "metadata": {},
   "source": [
    "## Generate and use test trade data\n",
    "\n",
    "Here we use the RTS 2 Annex 3 model to generate test trade data which we then classify.\n",
    "\n",
    "In these first examples we generate a couple of really simple cases.  Read the comments in the code which explain what  is happening at each step.\n",
    "\n",
    "Do run the steps in order.  The later steps build on work done by the earlier steps ... if you skip a step something may break.  If that happens, just start again from the top."
   ]
  },
  {
   "cell_type": "code",
   "execution_count": 1,
   "metadata": {
    "collapsed": false
   },
   "outputs": [
    {
     "name": "stdout",
     "output_type": "stream",
     "text": [
      "<rts2_annex3_model.AssetClassSet object at 0x7f0e5829a400>\n"
     ]
    }
   ],
   "source": [
    "# Import the RTS 2 Annex III taxonomy \n",
    "# ... and get hold of the object which represents the root of the taxonomy tree.\n",
    "import rts2_annex3\n",
    "root = rts2_annex3.class_root\n",
    "\n",
    "# Now we print the root object to see what it is.\n",
    "print(root)"
   ]
  },
  {
   "cell_type": "code",
   "execution_count": 2,
   "metadata": {
    "collapsed": false
   },
   "outputs": [
    {
     "name": "stdout",
     "output_type": "stream",
     "text": [
      "OrderedDict([('RTS2 version', 'EU 2017/583 of 14 July 2016'), ('Asset class', 'Bonds (ETC and ETN bond types)'), ('Sub-asset class', 'Exchange Traded Notes (ETNs)')])\n"
     ]
    }
   ],
   "source": [
    "# Now we'll use the taxonomy to generate some test data.\n",
    "# First a really simple example using a Sub-asset class which has no criteria:\n",
    "sub_asset_class = root.sub_asset_class_by_name(\"Exchange Traded Notes (ETNs)\")\n",
    "sample_trade = sub_asset_class.make_test_samples(1)[0]\n",
    "classification = root.classification_for(subject=sample_trade)\n",
    "print(classification.classification_dict())"
   ]
  },
  {
   "cell_type": "code",
   "execution_count": 3,
   "metadata": {
    "collapsed": false
   },
   "outputs": [
    {
     "name": "stdout",
     "output_type": "stream",
     "text": [
      "{\n",
      "    \"RTS2 version\": \"EU 2017/583 of 14 July 2016\",\n",
      "    \"Asset class\": \"Bonds (ETC and ETN bond types)\",\n",
      "    \"Sub-asset class\": \"Exchange Traded Notes (ETNs)\"\n",
      "}\n"
     ]
    }
   ],
   "source": [
    "# The model is implemented in Python and the printed result above is just the\n",
    "# literal form of a Python dictionary.\n",
    "\n",
    "# We can make the classification easier to understand using JSON.\n",
    "# ... but note that the content is just the same as above.\n",
    "\n",
    "import json\n",
    "print(json.dumps(classification.classification_dict(), indent=4))\n"
   ]
  },
  {
   "cell_type": "code",
   "execution_count": 4,
   "metadata": {
    "collapsed": false
   },
   "outputs": [
    {
     "name": "stdout",
     "output_type": "stream",
     "text": [
      "{\n",
      "    \"RTS2 version\": \"EU 2017/583 of 14 July 2016\",\n",
      "    \"Asset class\": \"Bonds (ETC and ETN bond types)\",\n",
      "    \"Sub-asset class\": \"Exchange Traded Notes (ETNs)\"\n",
      "}\n"
     ]
    }
   ],
   "source": [
    "# Above we made a sample trade for a specific Sub-asset class.  Now we'll \n",
    "# make a sample for a specifc Asset class.  The Asset class will make the \n",
    "# sample trade using one (a random one) of it's Sub-asset classes.\n",
    "# Run this code many times and you'll see that you get about 50/50 of each\n",
    "# of the 2 (in this case) Sub-asset classes.\n",
    "\n",
    "asset_class = root.asset_class_by_name(\"Bonds (ETC and ETN bond types)\")\n",
    "sample = asset_class.make_test_samples(1)[0]\n",
    "classification = root.classification_for(subject=sample)\n",
    "print(json.dumps(classification.classification_dict(), indent=4))\n"
   ]
  },
  {
   "cell_type": "code",
   "execution_count": 5,
   "metadata": {
    "collapsed": false
   },
   "outputs": [
    {
     "name": "stdout",
     "output_type": "stream",
     "text": [
      "{'energy_type': 'DIST', 'from_date': datetime.date(2018, 4, 18), 'to_date': datetime.date(2018, 5, 18), 'asset_class_name': 'Commodity Derivatives', 'notional_currency': 'notional_currency.value', 'delivery': 'delivery.value', 'load_type': 'load_type.value', 'underlying_energy': 'underlying_energy.value', 'sub_asset_class_name': 'Energy commodity swaps', 'settlement_type': 'settlement_type.value'}\n",
      "{\n",
      "    \"RTS2 version\": \"EU 2017/583 of 14 July 2016\",\n",
      "    \"Asset class\": \"Commodity Derivatives\",\n",
      "    \"Sub-asset class\": \"Energy commodity swaps\",\n",
      "    \"Segmentation criterion 1 description\": \"energy type: oil, oil distillates, coal, oil light ends, natural gas, electricity, inter-energy\",\n",
      "    \"Segmentation criterion 1\": \"DIST\",\n",
      "    \"Segmentation criterion 2 description\": \"underlying energy\",\n",
      "    \"Segmentation criterion 2\": \"underlying_energy.value\",\n",
      "    \"Segmentation criterion 3 description\": \"notional currency defined as the currency in which the notional amount of the swap is denominated\",\n",
      "    \"Segmentation criterion 3\": \"None\",\n",
      "    \"Segmentation criterion 4 description\": \"settlement type defined as cash, physical or other\",\n",
      "    \"Segmentation criterion 4\": \"settlement_type.value\",\n",
      "    \"Segmentation criterion 5 description\": \"load type defined as baseload, peakload, off-peak or others, applicable to energy type: electricity\",\n",
      "    \"Segmentation criterion 5\": \"load_type.value\",\n",
      "    \"Segmentation criterion 6 description\": \"delivery/ cash settlement location applicable to energy types: oil, oil distillates, oil light ends, electricity, inter-energy\",\n",
      "    \"Segmentation criterion 6\": \"delivery.value\",\n",
      "    \"Segmentation criterion 7 description\": \"Oil/ Oil Distillates/ Oil Light ends\",\n",
      "    \"Segmentation criterion 7\": \"Maturity bucket 1: Zero to 4 months\"\n",
      "}\n"
     ]
    }
   ],
   "source": [
    "# Now to make a more complex Sub-asset class.  One with lots of criteria\n",
    "sub_asset_class = root.sub_asset_class_by_name(\"Energy commodity swaps\")\n",
    "sample = sub_asset_class.make_test_samples(1)[0]\n",
    "print(sample.__dict__)\n",
    "classification = root.classification_for(subject=sample)\n",
    "print(json.dumps(classification.classification_dict(), indent=4))"
   ]
  },
  {
   "cell_type": "code",
   "execution_count": 6,
   "metadata": {
    "collapsed": false
   },
   "outputs": [
    {
     "name": "stdout",
     "output_type": "stream",
     "text": [
      "{\n",
      "    \"RTS2 version\": \"EU 2017/583 of 14 July 2016\",\n",
      "    \"Asset class\": \"Commodity Derivatives\",\n",
      "    \"Sub-asset class\": \"Energy commodity swaps\",\n",
      "    \"Segmentation criterion 1 description\": \"energy type: oil, oil distillates, coal, oil light ends, natural gas, electricity, inter-energy\",\n",
      "    \"Segmentation criterion 1\": \"OILP\",\n",
      "    \"Segmentation criterion 2 description\": \"underlying energy\",\n",
      "    \"Segmentation criterion 2\": \"www\",\n",
      "    \"Segmentation criterion 3 description\": \"notional currency defined as the currency in which the notional amount of the swap is denominated\",\n",
      "    \"Segmentation criterion 3\": \"None\",\n",
      "    \"Segmentation criterion 4 description\": \"settlement type defined as cash, physical or other\",\n",
      "    \"Segmentation criterion 4\": \"xxx\",\n",
      "    \"Segmentation criterion 5 description\": \"load type defined as baseload, peakload, off-peak or others, applicable to energy type: electricity\",\n",
      "    \"Segmentation criterion 5\": \"yyy\",\n",
      "    \"Segmentation criterion 6 description\": \"delivery/ cash settlement location applicable to energy types: oil, oil distillates, oil light ends, electricity, inter-energy\",\n",
      "    \"Segmentation criterion 6\": \"zzz\",\n",
      "    \"Segmentation criterion 7 description\": \"Oil/ Oil Distillates/ Oil Light ends\",\n",
      "    \"Segmentation criterion 7\": \"Maturity bucket 3: 8 months to 1 year\"\n",
      "}\n"
     ]
    }
   ],
   "source": [
    "# Now to make a more complex Sub-asset class.  One with lots of criteria\n",
    "sub_asset_class = root.sub_asset_class_by_name(\n",
    "    sub_asset_class_name=\"Energy commodity swaps\")\n",
    "sample = sub_asset_class.make_test_samples(1)[0]\n",
    "sample.energy_type = 'OILP'\n",
    "import datetime\n",
    "sample.from_date = datetime.date(2018, 4, 1)\n",
    "sample.to_date = datetime.date(2019, 4, 1)\n",
    "sample.underlying_energy = 'www'\n",
    "sample.notional_currency = 'GBP'\n",
    "sample.settlement_type = 'xxx'\n",
    "sample.load_type = 'yyy'\n",
    "sample.delivery = 'zzz'\n",
    "classification = root.classification_for(subject=sample)\n",
    "print(json.dumps(classification.classification_dict(), indent=4))"
   ]
  },
  {
   "cell_type": "code",
   "execution_count": 8,
   "metadata": {
    "collapsed": false
   },
   "outputs": [
    {
     "name": "stdout",
     "output_type": "stream",
     "text": [
      "Sovereign Bond\n",
      "Other Public Bond\n",
      "Convertible Bond\n",
      "Covered Bond\n",
      "Corporate Bond\n",
      "Other Bond\n",
      "Exchange Traded Commodities (ETCs)\n",
      "Exchange Traded Notes (ETNs)\n",
      "Bond futures/forwards\n",
      "Bond options\n",
      "IR futures and FRA\n",
      "IR options\n",
      "Swaptions\n",
      "Fixed-to-Float 'multi-currency swaps' or 'cross-currency swaps' and futures/forwards on Fixed-to-Float 'multi-currency swaps' or 'cross-currency swaps'\n",
      "Float-to-Float 'multi-currency swaps' or 'cross-currency swaps' and futures/forwards on Float-to-Float 'multi-currency swaps' or 'cross-currency swaps'\n",
      "Fixed-to-Fixed 'multi-currency swaps' or 'cross-currency swaps' and futures/forwards on Fixed-to-Fixed 'multi-currency swaps' or 'cross-currency swaps'\n",
      "Overnight Index Swap (OIS) 'multi-currency swaps' or 'cross-currency swaps' and futures/forwards on Overnight Index Swap (OIS) 'multi-currency swaps' or 'cross-currency swaps'\n",
      "Inflation 'multi-currency swaps' or 'cross-currency swaps' and futures/forwards on Inflation 'multi-currency swaps' or 'cross-currency swaps'\n",
      "Fixed-to-Float 'single currency swaps' and futures/forwards on Fixed-to-Float 'single currency swaps'\n",
      "Float-to-Float 'single currency swaps' and futures/forwards on Float-to-Float 'single currency swaps'\n",
      "Fixed-to-Fixed 'single currency swaps' and futures/forwards on Fixed-to-Fixed 'single currency swaps'\n",
      "Overnight Index Swap (OIS) 'single currency swaps' and futures/forwards on Overnight Index Swap (OIS) 'single currency swaps'\n",
      "Inflation 'single currency swaps' and futures/forwards on Inflation 'single currency swaps'\n",
      "Other Interest Rate Derivatives\n",
      "Stock index options\n",
      "Stock index futures/ forwards\n",
      "Stock options\n",
      "Stock futures/ forwards\n",
      "Stock dividend options\n",
      "Stock dividend futures/ forwards\n",
      "Dividend index options\n",
      "Dividend index futures/ forwards\n",
      "Volatility index options\n",
      "Volatility index futures/ forwards\n",
      "ETF options\n",
      "ETF futures/ forwards\n",
      "Swaps\n",
      "Portfolio Swaps\n",
      "Other equity derivatives\n",
      "Metal commodity futures/forwards\n",
      "Metal commodity options\n",
      "Metal commodity swaps\n",
      "Energy commodity futures/forwards\n",
      "Energy commodity options\n",
      "Energy commodity swaps\n",
      "Agricultural commodity futures/forwards\n",
      "Agricultural commodity options\n",
      "Agricultural commodity swaps\n",
      "Other commodity derivatives\n",
      "Non-deliverable forward (NDF)\n",
      "Deliverable forward (DF)\n",
      "Non-Deliverable FX options (NDO)\n",
      "Deliverable FX options (DO)\n",
      "Non-Deliverable FX swaps (NDS)\n",
      "Deliverable FX swaps (DS)\n",
      "FX futures\n",
      "Other Foreign Exchange Derivatives\n",
      "Index credit default swap (CDS)\n",
      "Single name credit default swap (CDS)\n",
      "Bespoke basket credit default swap (CDS)\n",
      "CDS index options\n",
      "Single name CDS options\n",
      "Other credit derivatives\n",
      "Freight derivatives\n",
      "Other C10 derivatives\n",
      "Currency CFDs\n",
      "Commodity CFDs\n",
      "Equity CFDs\n",
      "Bond CFDs\n",
      "CFDs on an equity future/forward\n",
      "CFDs on an equity option\n",
      "Other CFDs\n",
      "European Union Allowances (EUA)\n",
      "European Union Aviation Allowances (EUAA)\n",
      "Certified Emission Reductions (CER)\n",
      "Emission Reduction Units (ERU)\n",
      "Emission allowance derivatives whose underlying is of the type European Union Allowances (EUA)\n",
      "Emission allowance derivatives whose underlying is of the type European Union Aviation Allowances (EUAA)\n",
      "Emission allowance derivatives whose underlying is of the type Certified Emission Reductions (CER)\n",
      "Emission allowance derivatives whose underlying is of the type Emission Reduction Units (ERU)\n"
     ]
    }
   ],
   "source": [
    "# Now we generate a smaple trade for each Sub-asset class in the taxonomy\n",
    "\n",
    "samples = []\n",
    "for sub_asset_class in root.all_sub_asset_classes():\n",
    "    print(sub_asset_class.name) \n",
    "    # samples.extend(sub_asset_class.make_test_samples(1))"
   ]
  }
 ],
 "metadata": {
  "kernelspec": {
   "display_name": "Python 3",
   "language": "python",
   "name": "python3"
  },
  "language_info": {
   "codemirror_mode": {
    "name": "ipython",
    "version": 3
   },
   "file_extension": ".py",
   "mimetype": "text/x-python",
   "name": "python",
   "nbconvert_exporter": "python",
   "pygments_lexer": "ipython3",
   "version": "3.5.3"
  }
 },
 "nbformat": 4,
 "nbformat_minor": 2
}
