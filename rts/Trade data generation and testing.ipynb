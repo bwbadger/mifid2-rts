{
 "cells": [
  {
   "cell_type": "markdown",
   "metadata": {},
   "source": [
    "## Generate and use test trade data\n",
    "\n",
    "Here we use the RTS 2 Annex 3 model to generate test trade data which we then classify.\n",
    "\n",
    "In these first examples we generate a couple of really simple cases.  Read the comments in the code which explain what  is happening at each step.\n",
    "\n",
    "Do run the steps in order.  The later steps build on work done by the earlier steps ... if you skip a step something may break.  If that happens, just start again from the top."
   ]
  },
  {
   "cell_type": "code",
   "execution_count": 1,
   "metadata": {
    "collapsed": false
   },
   "outputs": [
    {
     "name": "stdout",
     "output_type": "stream",
     "text": [
      "<rts2_annex3_model.AssetClassSet object at 0x7ffa64be7400>\n"
     ]
    }
   ],
   "source": [
    "# Import the RTS 2 Annex III taxonomy \n",
    "# ... and get hold of the object which represents the root of the taxonomy tree.\n",
    "import rts2_annex3\n",
    "root = rts2_annex3.class_root\n",
    "\n",
    "# Now we print the root object to see what it is.\n",
    "print(root)"
   ]
  },
  {
   "cell_type": "code",
   "execution_count": 2,
   "metadata": {
    "collapsed": false
   },
   "outputs": [
    {
     "name": "stdout",
     "output_type": "stream",
     "text": [
      "OrderedDict([('RTS2 version', 'EU 2017/583 of 14 July 2016'), ('Asset class', 'Bonds (ETC and ETN bond types)'), ('Sub-asset class', 'Exchange Traded Notes (ETNs)')])\n"
     ]
    }
   ],
   "source": [
    "# Now we'll use the taxonomy to generate some test data.\n",
    "# First a really simple example using a Sub-asset class which has no criteria:\n",
    "sub_asset_class = root.sub_asset_class_by_name(\"Exchange Traded Notes (ETNs)\")\n",
    "sample_trade = sub_asset_class.make_test_samples(1)[0]\n",
    "classification = root.classification_for(subject=sample_trade)\n",
    "print(classification.classification_dict())"
   ]
  },
  {
   "cell_type": "code",
   "execution_count": 3,
   "metadata": {
    "collapsed": false
   },
   "outputs": [
    {
     "name": "stdout",
     "output_type": "stream",
     "text": [
      "{\n",
      "    \"RTS2 version\": \"EU 2017/583 of 14 July 2016\",\n",
      "    \"Asset class\": \"Bonds (ETC and ETN bond types)\",\n",
      "    \"Sub-asset class\": \"Exchange Traded Notes (ETNs)\"\n",
      "}\n"
     ]
    }
   ],
   "source": [
    "# The model is implemented in Python and the printed result above is just the\n",
    "# literal form of a Python dictionary.\n",
    "\n",
    "# We can make the classification easier to understand using JSON.\n",
    "# ... but note that the content is just the same as above.\n",
    "\n",
    "import json\n",
    "print(json.dumps(classification.classification_dict(), indent=4))\n"
   ]
  },
  {
   "cell_type": "code",
   "execution_count": 4,
   "metadata": {
    "collapsed": false
   },
   "outputs": [
    {
     "name": "stdout",
     "output_type": "stream",
     "text": [
      "{\n",
      "    \"RTS2 version\": \"EU 2017/583 of 14 July 2016\",\n",
      "    \"Asset class\": \"Bonds (ETC and ETN bond types)\",\n",
      "    \"Sub-asset class\": \"Exchange Traded Commodities (ETCs)\"\n",
      "}\n"
     ]
    }
   ],
   "source": [
    "# Above we made a sample trade for a specific Sub-asset class.  Now we'll \n",
    "# make a sample for a specifc Asset class.  The Asset class will make the \n",
    "# sample trade using one (a random one) of it's Sub-asset classes.\n",
    "# Run this code many times and you'll see that you get about 50/50 of each\n",
    "# of the 2 (in this case) Sub-asset classes.\n",
    "\n",
    "asset_class = root.asset_class_by_name(\"Bonds (ETC and ETN bond types)\")\n",
    "sample = asset_class.make_test_samples(1)[0]\n",
    "classification = root.classification_for(subject=sample)\n",
    "print(json.dumps(classification.classification_dict(), indent=4))\n"
   ]
  },
  {
   "cell_type": "code",
   "execution_count": 5,
   "metadata": {
    "collapsed": false
   },
   "outputs": [
    {
     "name": "stdout",
     "output_type": "stream",
     "text": [
      "{'energy_type': 'INRG', 'to_date': datetime.date(2019, 4, 19), 'from_date': datetime.date(2018, 4, 19), 'underlying_energy': 'underlying_energy.value', 'settlement_type': 'settlement_type.value', 'load_type': 'load_type.value', 'asset_class_name': 'Commodity Derivatives', 'sub_asset_class_name': 'Energy commodity swaps', 'notional_currency': 'notional_currency.value', 'delivery': 'delivery.value'}\n",
      "{\n",
      "    \"RTS2 version\": \"EU 2017/583 of 14 July 2016\",\n",
      "    \"Asset class\": \"Commodity Derivatives\",\n",
      "    \"Sub-asset class\": \"Energy commodity swaps\",\n",
      "    \"Segmentation criterion 1 description\": \"energy type: oil, oil distillates, coal, oil light ends, natural gas, electricity, inter-energy\",\n",
      "    \"Segmentation criterion 1\": \"INRG\",\n",
      "    \"Segmentation criterion 2 description\": \"underlying energy\",\n",
      "    \"Segmentation criterion 2\": \"underlying_energy.value\",\n",
      "    \"Segmentation criterion 3 description\": \"notional currency defined as the currency in which the notional amount of the swap is denominated\",\n",
      "    \"Segmentation criterion 3\": \"notional_currency.value\",\n",
      "    \"Segmentation criterion 4 description\": \"settlement type defined as cash, physical or other\",\n",
      "    \"Segmentation criterion 4\": \"settlement_type.value\",\n",
      "    \"Segmentation criterion 5 description\": \"load type defined as baseload, peakload, off-peak or others, applicable to energy type: electricity\",\n",
      "    \"Segmentation criterion 5\": \"load_type.value\",\n",
      "    \"Segmentation criterion 6 description\": \"delivery/ cash settlement location applicable to energy types: oil, oil distillates, oil light ends, electricity, inter-energy\",\n",
      "    \"Segmentation criterion 6\": \"delivery.value\",\n",
      "    \"Segmentation criterion 7 description\": \"Natural Gas/'Electricity/Inter-energy\",\n",
      "    \"Segmentation criterion 7\": \"Maturity bucket 2: 1 month to 1 year\"\n",
      "}\n"
     ]
    }
   ],
   "source": [
    "# Now to make a more complex Sub-asset class.  One with lots of criteria\n",
    "sub_asset_class = root.sub_asset_class_by_name(\"Energy commodity swaps\")\n",
    "sample = sub_asset_class.make_test_samples(1)[0]\n",
    "print(sample.__dict__)\n",
    "classification = root.classification_for(subject=sample)\n",
    "print(json.dumps(classification.classification_dict(), indent=4))"
   ]
  },
  {
   "cell_type": "code",
   "execution_count": 6,
   "metadata": {
    "collapsed": false
   },
   "outputs": [
    {
     "name": "stdout",
     "output_type": "stream",
     "text": [
      "{\n",
      "    \"RTS2 version\": \"EU 2017/583 of 14 July 2016\",\n",
      "    \"Asset class\": \"Emission Allowance Derivatives\",\n",
      "    \"Sub-asset class\": \"Emission allowance derivatives whose underlying is of the type European Union Allowances (EUA)\"\n",
      "}\n",
      "{\n",
      "    \"RTS2 version\": \"EU 2017/583 of 14 July 2016\",\n",
      "    \"Asset class\": \"Interest Rate Derivatives\",\n",
      "    \"Sub-asset class\": \"IR futures and FRA\",\n",
      "    \"Segmentation criterion 1 description\": \"underlying interest rate\",\n",
      "    \"Segmentation criterion 1\": \"underlying_interest_rate.value\",\n",
      "    \"Segmentation criterion 2 description\": \"term of the underlying interest rate\",\n",
      "    \"Segmentation criterion 2\": \"term_of_underlying_interest_rate.value\",\n",
      "    \"Segmentation criterion 3 description\": \"time to maturity bucket of the swap defined as follows:\",\n",
      "    \"Segmentation criterion 3\": \"Maturity bucket 1: Zero to 3 months\"\n",
      "}\n"
     ]
    }
   ],
   "source": [
    "# Generate a sample trade for each Sub-asset class in the taxonomy\n",
    "samples = []\n",
    "for sub_asset_class in root.all_sub_asset_classes():\n",
    "    samples.extend(sub_asset_class.make_test_samples(1))\n",
    "\n",
    "# Classify each sample\n",
    "classifications = [root.classification_for(subject=sample) for sample in samples]\n",
    "\n",
    "# Show a couple of random examples of the classifications\n",
    "import random\n",
    "print(json.dumps(random.choice(classifications).classification_dict(), indent=4))\n",
    "print(json.dumps(random.choice(classifications).classification_dict(), indent=4))\n"
   ]
  }
 ],
 "metadata": {
  "kernelspec": {
   "display_name": "Python 3",
   "language": "python",
   "name": "python3"
  },
  "language_info": {
   "codemirror_mode": {
    "name": "ipython",
    "version": 3
   },
   "file_extension": ".py",
   "mimetype": "text/x-python",
   "name": "python",
   "nbconvert_exporter": "python",
   "pygments_lexer": "ipython3",
   "version": "3.5.3"
  }
 },
 "nbformat": 4,
 "nbformat_minor": 2
}
