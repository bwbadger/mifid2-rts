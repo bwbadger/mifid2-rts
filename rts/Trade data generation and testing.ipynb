{
 "cells": [
  {
   "cell_type": "markdown",
   "metadata": {},
   "source": [
    "## Generate and use test trade data\n",
    "\n",
    "Here we use the RTS 2 Annex 3 model to generate test trade data which we then classify.\n",
    "\n",
    "In these first examples we generate a couple of really simple cases.  Read the comments in the code which explain what  is happening at each step.\n",
    "\n",
    "Do run the steps in order.  The later steps build on work done by the earlier steps ... if you skip a step something may break.  If that happens, just start again from the top."
   ]
  },
  {
   "cell_type": "code",
   "execution_count": 1,
   "metadata": {
    "collapsed": false
   },
   "outputs": [
    {
     "name": "stdout",
     "output_type": "stream",
     "text": [
      "<rts2_annex3_model.AssetClassSet object at 0x7f2278de5400>\n"
     ]
    }
   ],
   "source": [
    "# Import the RTS 2 Annex III taxonomy \n",
    "# ... and get hold of the object which represents the root of the taxonomy tree.\n",
    "import rts2_annex3\n",
    "root = rts2_annex3.class_root\n",
    "\n",
    "# Now we print the root object to see what it is.\n",
    "print(root)"
   ]
  },
  {
   "cell_type": "code",
   "execution_count": 2,
   "metadata": {
    "collapsed": false
   },
   "outputs": [
    {
     "name": "stdout",
     "output_type": "stream",
     "text": [
      "OrderedDict([('RTS2 version', 'EU 2017/583 of 14 July 2016'), ('Asset class', 'Bonds (ETC and ETN bond types)'), ('Sub-asset class', 'Exchange Traded Notes (ETNs)')])\n"
     ]
    }
   ],
   "source": [
    "# Using the taxonomy to generate some test data:\n",
    "\n",
    "# Starting with a Sub-asset class which has no criteria:\n",
    "sub_asset_class = root.sub_asset_class_by_name(\"Exchange Traded Notes (ETNs)\")\n",
    "\n",
    "# Ask the Sub-asset class to generate a single sample trade\n",
    "sample_trades = sub_asset_class.make_test_samples(number=1)\n",
    "sample_trade = sample_trades[0]\n",
    "\n",
    "# Get the RTS 2 Annex III taxonomy to classify the trade\n",
    "classification = root.classification_for(subject=sample_trade)\n",
    "\n",
    "print(classification.classification_dict())"
   ]
  },
  {
   "cell_type": "code",
   "execution_count": 3,
   "metadata": {
    "collapsed": false
   },
   "outputs": [
    {
     "name": "stdout",
     "output_type": "stream",
     "text": [
      "{\n",
      "    \"RTS2 version\": \"EU 2017/583 of 14 July 2016\",\n",
      "    \"Asset class\": \"Bonds (ETC and ETN bond types)\",\n",
      "    \"Sub-asset class\": \"Exchange Traded Notes (ETNs)\"\n",
      "}\n"
     ]
    }
   ],
   "source": [
    "# Note that RTS 2 taxonomy is implemented in Python so the printed result above is \n",
    "# simply the literal form of a Python OrderedDict.\n",
    "\n",
    "# We can make the classification easier to understand using JSON.\n",
    "# ... but note that the content is just the same as above.\n",
    "\n",
    "import json\n",
    "print(json.dumps(classification.classification_dict(), indent=4))\n"
   ]
  },
  {
   "cell_type": "code",
   "execution_count": 4,
   "metadata": {
    "collapsed": false
   },
   "outputs": [
    {
     "name": "stdout",
     "output_type": "stream",
     "text": [
      "{\n",
      "    \"RTS2 version\": \"EU 2017/583 of 14 July 2016\",\n",
      "    \"Asset class\": \"Bonds (ETC and ETN bond types)\",\n",
      "    \"Sub-asset class\": \"Exchange Traded Notes (ETNs)\"\n",
      "}\n"
     ]
    }
   ],
   "source": [
    "# Now we generate a sample trade for an Asset class.\n",
    "\n",
    "# We select an Asset class which has two child Sub-asset classes, including\n",
    "# the Sub-asset class used as an example above.\n",
    "asset_class = root.asset_class_by_name(\"Bonds (ETC and ETN bond types)\")\n",
    "\n",
    "# When we ask the asset class to make a sample it randomly chooses one of\n",
    "# its two children.\n",
    "sample = asset_class.make_test_samples(1)[0]\n",
    "\n",
    "# This new sample trade is classified.\n",
    "classification = root.classification_for(subject=sample)\n",
    "print(json.dumps(classification.classification_dict(), indent=4))\n",
    "\n",
    "# Run the this cell many times and note that the Sub-asset class is selected randomly\n"
   ]
  },
  {
   "cell_type": "markdown",
   "metadata": {},
   "source": [
    "The above example uses Sub-asset classes which have no criteria.  This makes for a simpler example but is not the most common case, most Sub-asset classes have criteria.\n",
    "\n",
    "The next examples generate trades for Sub-asset classes which do have criteria.  Some criteria are defined in the RTS to have a fixed nuber of options, for example segmentation criteria 1 for the \"Energy commodity swaps\" Sub-asset class is an energy type and must be one of 'ELEC', 'NGAS', 'OILP', 'COAL', 'INRG', 'RNNG', 'LGHT' and 'DIST' from RTS 23 table 2.  Other criteria do not have value ranges defined in the RTS.  In cases where the implementation can select a reasonable random option it does so e.g. 'NGAS', in cases where the values are not defined in RTS 2 generated trades contain values like 'settlement_type.value' which is not realistic, but is obvious.\n",
    "\n",
    "For date buckets the code always generates the from_date as today and then chooses a random duration from a small set of options.  This means the date buckets are alway valid and vary a bit to add some variety.\n",
    "\n",
    "Note that it is possible to generate a sample trade and then modify the trade with more realistic values.  We'll do that a bit later."
   ]
  },
  {
   "cell_type": "code",
   "execution_count": 5,
   "metadata": {
    "collapsed": false
   },
   "outputs": [
    {
     "name": "stdout",
     "output_type": "stream",
     "text": [
      "{'asset_class_name': 'Commodity Derivatives', 'underlying_energy': 'underlying_energy.value', 'from_date': datetime.date(2018, 4, 21), 'load_type': 'load_type.value', 'notional_currency': 'notional_currency.value', 'settlement_type': 'settlement_type.value', 'delivery': 'delivery.value', 'sub_asset_class_name': 'Energy commodity swaps', 'to_date': datetime.date(2019, 4, 21), 'energy_type': 'ELEC'}\n",
      "{\n",
      "    \"RTS2 version\": \"EU 2017/583 of 14 July 2016\",\n",
      "    \"Asset class\": \"Commodity Derivatives\",\n",
      "    \"Sub-asset class\": \"Energy commodity swaps\",\n",
      "    \"Segmentation criterion 1 description\": \"energy type: oil, oil distillates, coal, oil light ends, natural gas, electricity, inter-energy\",\n",
      "    \"Segmentation criterion 1\": \"ELEC\",\n",
      "    \"Segmentation criterion 2 description\": \"underlying energy\",\n",
      "    \"Segmentation criterion 2\": \"underlying_energy.value\",\n",
      "    \"Segmentation criterion 3 description\": \"notional currency defined as the currency in which the notional amount of the swap is denominated\",\n",
      "    \"Segmentation criterion 3\": \"notional_currency.value\",\n",
      "    \"Segmentation criterion 4 description\": \"settlement type defined as cash, physical or other\",\n",
      "    \"Segmentation criterion 4\": \"settlement_type.value\",\n",
      "    \"Segmentation criterion 5 description\": \"load type defined as baseload, peakload, off-peak or others, applicable to energy type: electricity\",\n",
      "    \"Segmentation criterion 5\": \"load_type.value\",\n",
      "    \"Segmentation criterion 6 description\": \"delivery/ cash settlement location applicable to energy types: oil, oil distillates, oil light ends, electricity, inter-energy\",\n",
      "    \"Segmentation criterion 6\": \"delivery.value\",\n",
      "    \"Segmentation criterion 7 description\": \"Natural Gas/'Electricity/Inter-energy\",\n",
      "    \"Segmentation criterion 7\": \"Maturity bucket 2: 1 month to 1 year\"\n",
      "}\n"
     ]
    }
   ],
   "source": [
    "# We now make a sample trade which has many criteria.  First \n",
    "# get hold of the Sub-asset class\n",
    "sub_asset_class = root.sub_asset_class_by_name(\"Energy commodity swaps\")\n",
    "\n",
    "# Then generate a sample trade\n",
    "sample_trade = sub_asset_class.make_test_samples(1)[0]\n",
    "\n",
    "# Notice that the sample trade has some values which change randomly, e.g. to_date\n",
    "print(vars(sample_trade))\n",
    "\n",
    "# ... so when the trade is classified the maturity bucket criteion varies\n",
    "classification = root.classification_for(subject=sample_trade)\n",
    "print(json.dumps(classification.classification_dict(), indent=4))\n"
   ]
  },
  {
   "cell_type": "code",
   "execution_count": 6,
   "metadata": {
    "collapsed": false
   },
   "outputs": [
    {
     "name": "stdout",
     "output_type": "stream",
     "text": [
      "\n",
      "Sample trade 0 looks like this:\n",
      "{'asset_class_name': 'Bonds (all bond types except ETCs and ETNs)', 'sub_asset_class_name': 'Sovereign Bond'}\n",
      "\n",
      "The classification of sample trade 0 looks like this:\n",
      "{\n",
      "    \"RTS2 version\": \"EU 2017/583 of 14 July 2016\",\n",
      "    \"Asset class\": \"Bonds (all bond types except ETCs and ETNs)\",\n",
      "    \"Sub-asset class\": \"Sovereign Bond\"\n",
      "}\n",
      "\n",
      "Sample trade 1 looks like this:\n",
      "{'asset_class_name': 'Credit Derivatives', 'ref_entity_type': 'ref_entity_type.value', 'notional_currency': 'notional_currency.value', 'underlying_ref_entity': 'underlying_ref_entity.value', 'from_date': datetime.date(2018, 4, 21), 'sub_asset_class_name': 'Single name credit default swap (CDS)', 'to_date': datetime.date(2021, 1, 15)}\n",
      "\n",
      "The classification of sample trade 1 looks like this:\n",
      "{\n",
      "    \"RTS2 version\": \"EU 2017/583 of 14 July 2016\",\n",
      "    \"Asset class\": \"Credit Derivatives\",\n",
      "    \"Sub-asset class\": \"Single name credit default swap (CDS)\",\n",
      "    \"Segmentation criterion 1 description\": \"underlying reference entity\",\n",
      "    \"Segmentation criterion 1\": \"underlying_ref_entity.value\",\n",
      "    \"Segmentation criterion 2 description\": \"underlying reference entity type defined as follows: \\\"Issuer of sovereign and public type\\\" means an issuer entity which is either: (a) the Union; (b) a Member State including a government department, an agency or a special purpose vehicle of a Member State; (c) a sovereign entity which is not listed under points (a) and (b); (d) in the case of a federal Member State, a member of that federation; (e) a special purpose vehicle for several Member States; (f) an international financial institution established by two or more Member States which have the purpose of mobilising funding and providing financial assistance to the benefit of its members that are experiencing or are threatened by severe financial problems; (g) the European Investment Bank; (h) a public entity which is not a sovereign issuer as specified in the points (a) to (c). \\\"Issuer of corporate type\\\" means an issuer entity which is not an issuer of sovereign and public type.\",\n",
      "    \"Segmentation criterion 2\": \"ref_entity_type.value\",\n",
      "    \"Segmentation criterion 3 description\": \"notional currency defined as the currency in which the notional amount of the derivative is denominated\",\n",
      "    \"Segmentation criterion 3\": \"notional_currency.value\",\n",
      "    \"Segmentation criterion 4 description\": \"time maturity bucket of the CDS defined as follows:\",\n",
      "    \"Segmentation criterion 4\": \"Maturity bucket 3: 2 years to 3 years\"\n",
      "}\n"
     ]
    }
   ],
   "source": [
    "# Now to generate and clasify lots of sample trades\n",
    "\n",
    "# Generate a sample trade for each Sub-asset class in the taxonomy\n",
    "samples = []\n",
    "for sub_asset_class in root.all_sub_asset_classes():\n",
    "    samples.extend(sub_asset_class.make_test_samples(1))\n",
    "\n",
    "# Classify each sample\n",
    "classifications = [root.classification_for(subject=sample) for sample in samples]\n",
    "\n",
    "# Show a couple of random examples of the classifications\n",
    "import random\n",
    "for n in range(2):\n",
    "    a_classification = random.choice(classifications)\n",
    "    print(\"\\nSample trade {n} looks like this:\".format(n=n))\n",
    "    print(vars(a_classification.subject))\n",
    "    print(\"\\nThe classification of sample trade {n} looks like this:\".format(n=n))\n",
    "    print(json.dumps(a_classification.classification_dict(), indent=4))\n"
   ]
  }
 ],
 "metadata": {
  "kernelspec": {
   "display_name": "Python 3",
   "language": "python",
   "name": "python3"
  },
  "language_info": {
   "codemirror_mode": {
    "name": "ipython",
    "version": 3
   },
   "file_extension": ".py",
   "mimetype": "text/x-python",
   "name": "python",
   "nbconvert_exporter": "python",
   "pygments_lexer": "ipython3",
   "version": "3.5.3"
  }
 },
 "nbformat": 4,
 "nbformat_minor": 2
}
