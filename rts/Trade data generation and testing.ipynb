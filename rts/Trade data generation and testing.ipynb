{
 "cells": [
  {
   "cell_type": "markdown",
   "metadata": {},
   "source": [
    "## Generate and use test trade data\n",
    "\n",
    "Here we use the RTS 2 Annex 3 model to generate test trade data which we then classify.\n",
    "\n",
    "In these first examples we generate a couple of really simple cases.  Read the comments in the code which explain what  is happening at each step.\n",
    "\n",
    "Do run the steps in order.  The later steps build on work done by the earlier steps ... if you skip a step something may break.  If that happens, just start again from the top."
   ]
  },
  {
   "cell_type": "code",
   "execution_count": 1,
   "metadata": {
    "collapsed": false
   },
   "outputs": [
    {
     "name": "stdout",
     "output_type": "stream",
     "text": [
      "<rts2_annex3_model.AssetClassSet object at 0x7ffa64be7400>\n"
     ]
    }
   ],
   "source": [
    "# Import the RTS 2 Annex III taxonomy \n",
    "# ... and get hold of the object which represents the root of the taxonomy tree.\n",
    "import rts2_annex3\n",
    "root = rts2_annex3.class_root\n",
    "\n",
    "# Now we print the root object to see what it is.\n",
    "print(root)"
   ]
  },
  {
   "cell_type": "code",
   "execution_count": 11,
   "metadata": {
    "collapsed": false
   },
   "outputs": [
    {
     "name": "stdout",
     "output_type": "stream",
     "text": [
      "OrderedDict([('RTS2 version', 'EU 2017/583 of 14 July 2016'), ('Asset class', 'Bonds (ETC and ETN bond types)'), ('Sub-asset class', 'Exchange Traded Notes (ETNs)')])\n"
     ]
    }
   ],
   "source": [
    "# Using the taxonomy to generate some test data:\n",
    "\n",
    "# Starting with a Sub-asset class which has no criteria:\n",
    "sub_asset_class = root.sub_asset_class_by_name(\"Exchange Traded Notes (ETNs)\")\n",
    "\n",
    "# Ask the Sub-asset class to generate a single sample trade\n",
    "sample_trades = sub_asset_class.make_test_samples(number=1)\n",
    "sample_trade = sample_trades[0]\n",
    "\n",
    "# Get the RTS 2 Annex III taxonomy to classify the trade\n",
    "classification = root.classification_for(subject=sample_trade)\n",
    "\n",
    "print(classification.classification_dict())"
   ]
  },
  {
   "cell_type": "code",
   "execution_count": 12,
   "metadata": {
    "collapsed": false
   },
   "outputs": [
    {
     "name": "stdout",
     "output_type": "stream",
     "text": [
      "{\n",
      "    \"RTS2 version\": \"EU 2017/583 of 14 July 2016\",\n",
      "    \"Asset class\": \"Bonds (ETC and ETN bond types)\",\n",
      "    \"Sub-asset class\": \"Exchange Traded Notes (ETNs)\"\n",
      "}\n"
     ]
    }
   ],
   "source": [
    "# Note that model is implemented in Python and the printed result above is \n",
    "# simply the literal form of a Python OrderedDict.\n",
    "\n",
    "# We can make the classification easier to understand using JSON.\n",
    "# ... but note that the content is just the same as above.\n",
    "\n",
    "import json\n",
    "print(json.dumps(classification.classification_dict(), indent=4))\n"
   ]
  },
  {
   "cell_type": "code",
   "execution_count": 16,
   "metadata": {
    "collapsed": false
   },
   "outputs": [
    {
     "name": "stdout",
     "output_type": "stream",
     "text": [
      "{\n",
      "    \"RTS2 version\": \"EU 2017/583 of 14 July 2016\",\n",
      "    \"Asset class\": \"Bonds (ETC and ETN bond types)\",\n",
      "    \"Sub-asset class\": \"Exchange Traded Commodities (ETCs)\"\n",
      "}\n"
     ]
    }
   ],
   "source": [
    "# Now we generate a sample trade for an Asset class.\n",
    "\n",
    "# We select an Asset class which has two child Sub-asset classes, including\n",
    "# the Sub-asset class used as an example above.\n",
    "asset_class = root.asset_class_by_name(\"Bonds (ETC and ETN bond types)\")\n",
    "\n",
    "# When we ask the asset class to make a sample it randomly chooses one of\n",
    "# its two children.\n",
    "sample = asset_class.make_test_samples(1)[0]\n",
    "\n",
    "# This new sample trade is classified.\n",
    "classification = root.classification_for(subject=sample)\n",
    "print(json.dumps(classification.classification_dict(), indent=4))\n",
    "\n",
    "# Run the this cell many times and note that the Sub-asset class is selected randomly\n"
   ]
  },
  {
   "cell_type": "code",
   "execution_count": 36,
   "metadata": {
    "collapsed": false
   },
   "outputs": [
    {
     "name": "stdout",
     "output_type": "stream",
     "text": [
      "{'energy_type': 'LGHT', 'to_date': datetime.date(2018, 5, 21), 'from_date': datetime.date(2018, 4, 21), 'underlying_energy': 'underlying_energy.value', 'settlement_type': 'settlement_type.value', 'load_type': 'load_type.value', 'asset_class_name': 'Commodity Derivatives', 'sub_asset_class_name': 'Energy commodity swaps', 'notional_currency': 'notional_currency.value', 'delivery': 'delivery.value'}\n",
      "{\n",
      "    \"RTS2 version\": \"EU 2017/583 of 14 July 2016\",\n",
      "    \"Asset class\": \"Commodity Derivatives\",\n",
      "    \"Sub-asset class\": \"Energy commodity swaps\",\n",
      "    \"Segmentation criterion 1 description\": \"energy type: oil, oil distillates, coal, oil light ends, natural gas, electricity, inter-energy\",\n",
      "    \"Segmentation criterion 1\": \"LGHT\",\n",
      "    \"Segmentation criterion 2 description\": \"underlying energy\",\n",
      "    \"Segmentation criterion 2\": \"underlying_energy.value\",\n",
      "    \"Segmentation criterion 3 description\": \"notional currency defined as the currency in which the notional amount of the swap is denominated\",\n",
      "    \"Segmentation criterion 3\": \"notional_currency.value\",\n",
      "    \"Segmentation criterion 4 description\": \"settlement type defined as cash, physical or other\",\n",
      "    \"Segmentation criterion 4\": \"settlement_type.value\",\n",
      "    \"Segmentation criterion 5 description\": \"load type defined as baseload, peakload, off-peak or others, applicable to energy type: electricity\",\n",
      "    \"Segmentation criterion 5\": \"load_type.value\",\n",
      "    \"Segmentation criterion 6 description\": \"delivery/ cash settlement location applicable to energy types: oil, oil distillates, oil light ends, electricity, inter-energy\",\n",
      "    \"Segmentation criterion 6\": \"delivery.value\",\n",
      "    \"Segmentation criterion 7 description\": \"Oil/ Oil Distillates/ Oil Light ends\",\n",
      "    \"Segmentation criterion 7\": \"Maturity bucket 1: Zero to 4 months\"\n",
      "}\n"
     ]
    }
   ],
   "source": [
    "# The examples above make sample trades for Sub-asset classes which have no\n",
    "# criteria.  Now we make a sample trade which has many criteria.  First \n",
    "# get hold of the Sub-asset class\n",
    "sub_asset_class = root.sub_asset_class_by_name(\"Energy commodity swaps\")\n",
    "\n",
    "# Then generate a sample trade\n",
    "sample_trade = sub_asset_class.make_test_samples(1)[0]\n",
    "\n",
    "# Notice that the sample trade has some values which change randomly, e.g. to_date\n",
    "print(vars(sample_trade))\n",
    "\n",
    "# ... so when the trade is classified the maturity bucket criteion varies\n",
    "classification = root.classification_for(subject=sample_trade)\n",
    "print(json.dumps(classification.classification_dict(), indent=4))\n"
   ]
  },
  {
   "cell_type": "code",
   "execution_count": 41,
   "metadata": {
    "collapsed": false
   },
   "outputs": [
    {
     "name": "stdout",
     "output_type": "stream",
     "text": [
      "\n",
      "Sample trade 0 looks like this:\n",
      "{'asset_class_name': 'Financial contracts for differences (CFDs)', 'sub_asset_class_name': 'Other CFDs'}\n",
      "\n",
      "The classification of sample trade 0 looks like this:\n",
      "{\n",
      "    \"RTS2 version\": \"EU 2017/583 of 14 July 2016\",\n",
      "    \"Asset class\": \"Financial contracts for differences (CFDs)\",\n",
      "    \"Sub-asset class\": \"Other CFDs\"\n",
      "}\n",
      "\n",
      "Sample trade 1 looks like this:\n",
      "{'energy_type': 'INRG', 'to_date': datetime.date(2019, 4, 21), 'from_date': datetime.date(2018, 4, 21), 'underlying_energy': 'underlying_energy.value', 'load_type': 'load_type.value', 'asset_class_name': 'Commodity Derivatives', 'sub_asset_class_name': 'Energy commodity futures/forwards', 'notional_currency': 'notional_currency.value', 'delivery': 'delivery.value'}\n",
      "\n",
      "The classification of sample trade 1 looks like this:\n",
      "{\n",
      "    \"RTS2 version\": \"EU 2017/583 of 14 July 2016\",\n",
      "    \"Asset class\": \"Commodity Derivatives\",\n",
      "    \"Sub-asset class\": \"Energy commodity futures/forwards\",\n",
      "    \"Segmentation criterion 1 description\": \"energy type: oil, oil distillates, coal, oil light ends, natural gas, electricity, inter-energy\",\n",
      "    \"Segmentation criterion 1\": \"INRG\",\n",
      "    \"Segmentation criterion 2 description\": \"underlying energy\",\n",
      "    \"Segmentation criterion 2\": \"underlying_energy.value\",\n",
      "    \"Segmentation criterion 3 description\": \"notional currency defined as the currency in which the notional amount of the future/forward is denominated\",\n",
      "    \"Segmentation criterion 3\": \"notional_currency.value\",\n",
      "    \"Segmentation criterion 4 description\": \"load type defined as baseload, peakload, off-peak or others, applicable to energy type: electricity\",\n",
      "    \"Segmentation criterion 4\": \"load_type.value\",\n",
      "    \"Segmentation criterion 5 description\": \"delivery/ cash settlement location applicable to energy types: oil, oil distillates, oil light ends, electricity, inter-energy\",\n",
      "    \"Segmentation criterion 5\": \"delivery.value\",\n",
      "    \"Segmentation criterion 6 description\": \"Natural Gas/'Electricity/Inter-energy\",\n",
      "    \"Segmentation criterion 6\": \"Maturity bucket 2: 1 month to 1 year\"\n",
      "}\n"
     ]
    }
   ],
   "source": [
    "# Now to generate and clasify lots of sample trades\n",
    "\n",
    "# Generate a sample trade for each Sub-asset class in the taxonomy\n",
    "samples = []\n",
    "for sub_asset_class in root.all_sub_asset_classes():\n",
    "    samples.extend(sub_asset_class.make_test_samples(1))\n",
    "\n",
    "# Classify each sample\n",
    "classifications = [root.classification_for(subject=sample) for sample in samples]\n",
    "\n",
    "# Show a couple of random examples of the classifications\n",
    "import random\n",
    "for n in range(2):\n",
    "    a_classification = random.choice(classifications)\n",
    "    print(\"\\nSample trade {n} looks like this:\".format(n=n))\n",
    "    print(vars(a_classification.subject))\n",
    "    print(\"\\nThe classification of sample trade {n} looks like this:\".format(n=n))\n",
    "    print(json.dumps(a_classification.classification_dict(), indent=4))\n"
   ]
  }
 ],
 "metadata": {
  "kernelspec": {
   "display_name": "Python 3",
   "language": "python",
   "name": "python3"
  },
  "language_info": {
   "codemirror_mode": {
    "name": "ipython",
    "version": 3
   },
   "file_extension": ".py",
   "mimetype": "text/x-python",
   "name": "python",
   "nbconvert_exporter": "python",
   "pygments_lexer": "ipython3",
   "version": "3.5.3"
  }
 },
 "nbformat": 4,
 "nbformat_minor": 2
}
