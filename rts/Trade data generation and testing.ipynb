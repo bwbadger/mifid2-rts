{
 "cells": [
  {
   "cell_type": "markdown",
   "metadata": {},
   "source": [
    "Here we use the RTS 2 Annex 3 model to generate test trade data which we then classify.\n",
    "\n",
    "In these first examples we generate a couple of really simple cases:\n",
    "* Generate a sample trade for a specific Sub-asset class\n",
    "* Generate a sample trade for a specific Asset class and a random Sub-asset class"
   ]
  },
  {
   "cell_type": "code",
   "execution_count": 6,
   "metadata": {
    "collapsed": false
   },
   "outputs": [
    {
     "name": "stdout",
     "output_type": "stream",
     "text": [
      "Generating samples for Exchange Traded Notes (ETNs).\n",
      "{\n",
      "    \"RTS2 version\": \"EU 2017/583 of 14 July 2016\",\n",
      "    \"Asset class\": \"Bonds (ETC and ETN bond types)\",\n",
      "    \"Sub-asset class\": \"Exchange Traded Notes (ETNs)\"\n",
      "}\n",
      "Generating samples for Bonds (ETC and ETN bond types).\n",
      "Generating samples for Exchange Traded Commodities (ETCs).\n",
      "{\n",
      "    \"RTS2 version\": \"EU 2017/583 of 14 July 2016\",\n",
      "    \"Asset class\": \"Bonds (ETC and ETN bond types)\",\n",
      "    \"Sub-asset class\": \"Exchange Traded Commodities (ETCs)\"\n",
      "}\n"
     ]
    }
   ],
   "source": [
    "import rts2_annex3\n",
    "import json\n",
    "\n",
    "root = rts2_annex3.class_root\n",
    "\n",
    "# Generate a test sample for a sub-asset class with no criteria\n",
    "sub_asset_class = root.sub_asset_class_by_name(\n",
    "    sub_asset_class_name=\"Exchange Traded Notes (ETNs)\")\n",
    "sample = sub_asset_class.make_test_samples(1)[0]\n",
    "classification = root.classification_for(subject=sample)\n",
    "print(json.dumps(classification.classification_dict(), indent=4))\n",
    "\n",
    "# Now make a sample for a specifc asset class, but let the sub-asset class be random\n",
    "asset_class = root.asset_class_by_name(asset_class_name=\"Bonds (ETC and ETN bond types)\")\n",
    "sample = asset_class.make_test_samples(1)[0]\n",
    "classification = root.classification_for(subject=sample)\n",
    "print(json.dumps(classification.classification_dict(), indent=4))\n"
   ]
  }
 ],
 "metadata": {
  "kernelspec": {
   "display_name": "Python 3",
   "language": "python",
   "name": "python3"
  },
  "language_info": {
   "codemirror_mode": {
    "name": "ipython",
    "version": 3
   },
   "file_extension": ".py",
   "mimetype": "text/x-python",
   "name": "python",
   "nbconvert_exporter": "python",
   "pygments_lexer": "ipython3",
   "version": "3.5.3"
  }
 },
 "nbformat": 4,
 "nbformat_minor": 2
}
