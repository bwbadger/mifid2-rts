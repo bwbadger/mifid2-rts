{
 "cells": [
  {
   "cell_type": "markdown",
   "metadata": {},
   "source": [
    "## Generate and use test trade data\n",
    "\n",
    "Here we use the RTS 2 Annex 3 model to generate test trade data which we then classify.\n",
    "\n",
    "In these first examples we generate a couple of really simple cases.  Read the comments in the code which explain what  is happening at each step.\n",
    "\n",
    "Do run the steps in order.  The later steps build on work done by the earlier steps ... if you skip a step something may break.  If that happens, just start again from the top."
   ]
  },
  {
   "cell_type": "code",
   "execution_count": 1,
   "metadata": {
    "collapsed": false
   },
   "outputs": [
    {
     "name": "stdout",
     "output_type": "stream",
     "text": [
      "<rts2_annex3_model.AssetClassSet object at 0x7ffa446cd400>\n"
     ]
    }
   ],
   "source": [
    "# Import the RTS 2 Annex III taxonomy \n",
    "# ... and get hold of the object which represents the root of the taxonomy tree.\n",
    "import rts2_annex3\n",
    "root = rts2_annex3.class_root\n",
    "\n",
    "# Now we print the root object to see what it is.\n",
    "print(root)"
   ]
  },
  {
   "cell_type": "code",
   "execution_count": 2,
   "metadata": {
    "collapsed": false
   },
   "outputs": [
    {
     "name": "stdout",
     "output_type": "stream",
     "text": [
      "OrderedDict([('RTS2 version', 'EU 2017/583 of 14 July 2016'), ('Asset class', 'Bonds (ETC and ETN bond types)'), ('Sub-asset class', 'Exchange Traded Notes (ETNs)')])\n"
     ]
    }
   ],
   "source": [
    "# Now we'll use the taxonomy to generate some test data.\n",
    "# First a really simple example using a Sub-asset class which has no criteria:\n",
    "sub_asset_class = root.sub_asset_class_by_name(\"Exchange Traded Notes (ETNs)\")\n",
    "sample_trade = sub_asset_class.make_test_samples(1)[0]\n",
    "classification = root.classification_for(subject=sample_trade)\n",
    "print(classification.classification_dict())"
   ]
  },
  {
   "cell_type": "code",
   "execution_count": 3,
   "metadata": {
    "collapsed": false
   },
   "outputs": [
    {
     "name": "stdout",
     "output_type": "stream",
     "text": [
      "{\n",
      "    \"RTS2 version\": \"EU 2017/583 of 14 July 2016\",\n",
      "    \"Asset class\": \"Bonds (ETC and ETN bond types)\",\n",
      "    \"Sub-asset class\": \"Exchange Traded Notes (ETNs)\"\n",
      "}\n"
     ]
    }
   ],
   "source": [
    "# The model is implemented in Python and the printed result above is just the\n",
    "# literal form of a Python dictionary.\n",
    "\n",
    "# We can make the classification easier to understand using JSON.\n",
    "# ... but note that the content is just the same as above.\n",
    "\n",
    "import json\n",
    "print(json.dumps(classification.classification_dict(), indent=4))\n"
   ]
  },
  {
   "cell_type": "code",
   "execution_count": 4,
   "metadata": {
    "collapsed": false
   },
   "outputs": [
    {
     "name": "stdout",
     "output_type": "stream",
     "text": [
      "{\n",
      "    \"RTS2 version\": \"EU 2017/583 of 14 July 2016\",\n",
      "    \"Asset class\": \"Bonds (ETC and ETN bond types)\",\n",
      "    \"Sub-asset class\": \"Exchange Traded Commodities (ETCs)\"\n",
      "}\n"
     ]
    }
   ],
   "source": [
    "# Above we made a sample trade for a specific Sub-asset class.  Now we'll \n",
    "# make a sample for a specifc Asset class.  The Asset class will make the \n",
    "# sample trade using one (a random one) of it's Sub-asset classes.\n",
    "# Run this code many times and you'll see that you get about 50/50 of each\n",
    "# of the 2 (in this case) Sub-asset classes.\n",
    "\n",
    "asset_class = root.asset_class_by_name(\"Bonds (ETC and ETN bond types)\")\n",
    "sample = asset_class.make_test_samples(1)[0]\n",
    "classification = root.classification_for(subject=sample)\n",
    "print(json.dumps(classification.classification_dict(), indent=4))\n"
   ]
  },
  {
   "cell_type": "code",
   "execution_count": 7,
   "metadata": {
    "collapsed": false
   },
   "outputs": [
    {
     "name": "stdout",
     "output_type": "stream",
     "text": [
      "{\n",
      "    \"sub_asset_class_name\": \"Energy commodity swaps\",\n",
      "    \"asset_class_name\": \"Commodity Derivatives\"\n",
      "}\n",
      "{\n",
      "    \"RTS2 version\": \"EU 2017/583 of 14 July 2016\",\n",
      "    \"Asset class\": \"Commodity Derivatives\",\n",
      "    \"Sub-asset class\": \"Energy commodity swaps\",\n",
      "    \"errors\": \"['EnergyTypeCriterion got no value.  Should be one of [COAL, DIST, INRG, RNNG, ELEC, NGAS, OILP, LGHT].', \\\"<class 'rts2_annex3_model.UnderlyingEnergyCriterion'> exception: 'SampleTrade' object has no attribute 'underlying_energy'\\\", \\\"<class 'rts2_annex3_model.NotionalCurrencyCriterion'> exception: 'SampleTrade' object has no attribute 'notional_currency'\\\", \\\"<class 'rts2_annex3_model.SettlementTypeCriterion'> exception: 'SampleTrade' object has no attribute 'settlement_type'\\\", \\\"<class 'rts2_annex3_model.LoadTypeCriterion'> exception: 'SampleTrade' object has no attribute 'load_type'\\\", \\\"<class 'rts2_annex3_model.DeliveryCriterion'> exception: 'SampleTrade' object has no attribute 'delivery'\\\", 'Bad energy maturity bucket.  Subject has no energy type.']\"\n",
      "}\n"
     ]
    }
   ],
   "source": [
    "# Now to make a more complex Sub-asset class.  One with lots of criteria\n",
    "sub_asset_class = root.sub_asset_class_by_name(\"Energy commodity swaps\")\n",
    "sample = sub_asset_class.make_test_samples(1)[0]\n",
    "print(json.dumps(sample.__dict__, indent=4))\n",
    "classification = root.classification_for(subject=sample)\n",
    "print(json.dumps(classification.classification_dict(), indent=4))"
   ]
  },
  {
   "cell_type": "code",
   "execution_count": 6,
   "metadata": {
    "collapsed": false
   },
   "outputs": [
    {
     "name": "stdout",
     "output_type": "stream",
     "text": [
      "{\n",
      "    \"RTS2 version\": \"EU 2017/583 of 14 July 2016\",\n",
      "    \"Asset class\": \"Commodity Derivatives\",\n",
      "    \"Sub-asset class\": \"Energy commodity swaps\",\n",
      "    \"Segmentation criterion 1 description\": \"energy type: oil, oil distillates, coal, oil light ends, natural gas, electricity, inter-energy\",\n",
      "    \"Segmentation criterion 1\": \"OILP\",\n",
      "    \"Segmentation criterion 2 description\": \"underlying energy\",\n",
      "    \"Segmentation criterion 2\": \"www\",\n",
      "    \"Segmentation criterion 3 description\": \"notional currency defined as the currency in which the notional amount of the swap is denominated\",\n",
      "    \"Segmentation criterion 3\": \"GBP\",\n",
      "    \"Segmentation criterion 4 description\": \"settlement type defined as cash, physical or other\",\n",
      "    \"Segmentation criterion 4\": \"xxx\",\n",
      "    \"Segmentation criterion 5 description\": \"load type defined as baseload, peakload, off-peak or others, applicable to energy type: electricity\",\n",
      "    \"Segmentation criterion 5\": \"yyy\",\n",
      "    \"Segmentation criterion 6 description\": \"delivery/ cash settlement location applicable to energy types: oil, oil distillates, oil light ends, electricity, inter-energy\",\n",
      "    \"Segmentation criterion 6\": \"zzz\",\n",
      "    \"Segmentation criterion 7 description\": \"Oil/ Oil Distillates/ Oil Light ends\",\n",
      "    \"Segmentation criterion 7\": \"Maturity bucket 3: 8 months to 1 year\"\n",
      "}\n"
     ]
    }
   ],
   "source": [
    "# Now to make a more complex Sub-asset class.  One with lots of criteria\n",
    "sub_asset_class = root.sub_asset_class_by_name(\n",
    "    sub_asset_class_name=\"Energy commodity swaps\")\n",
    "sample = sub_asset_class.make_test_samples(1)[0]\n",
    "sample.energy_type = 'OILP'\n",
    "import datetime\n",
    "sample.from_date = datetime.date(2018, 4, 1)\n",
    "sample.to_date = datetime.date(2019, 4, 1)\n",
    "sample.underlying_energy = 'www'\n",
    "sample.notional_currency = 'GBP'\n",
    "sample.settlement_type = 'xxx'\n",
    "sample.load_type = 'yyy'\n",
    "sample.delivery = 'zzz'\n",
    "classification = root.classification_for(subject=sample)\n",
    "print(json.dumps(classification.classification_dict(), indent=4))"
   ]
  }
 ],
 "metadata": {
  "kernelspec": {
   "display_name": "Python 3",
   "language": "python",
   "name": "python3"
  },
  "language_info": {
   "codemirror_mode": {
    "name": "ipython",
    "version": 3
   },
   "file_extension": ".py",
   "mimetype": "text/x-python",
   "name": "python",
   "nbconvert_exporter": "python",
   "pygments_lexer": "ipython3",
   "version": "3.5.3"
  }
 },
 "nbformat": 4,
 "nbformat_minor": 2
}
