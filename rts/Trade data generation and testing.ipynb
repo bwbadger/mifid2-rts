{
 "cells": [
  {
   "cell_type": "markdown",
   "metadata": {},
   "source": [
    "## Generate and use test trade data\n",
    "\n",
    "Here we use the RTS 2 Annex 3 model to generate test trade data which we then classify.\n",
    "\n",
    "In these first examples we generate a couple of really simple cases:\n",
    "* Generate a sample trade for a specific Sub-asset class\n",
    "* Generate a sample trade for a specific Asset class and a random Sub-asset class"
   ]
  },
  {
   "cell_type": "code",
   "execution_count": 4,
   "metadata": {
    "collapsed": false
   },
   "outputs": [
    {
     "name": "stdout",
     "output_type": "stream",
     "text": [
      "{\n",
      "    \"RTS2 version\": \"EU 2017/583 of 14 July 2016\",\n",
      "    \"Asset class\": \"Bonds (ETC and ETN bond types)\",\n",
      "    \"Sub-asset class\": \"Exchange Traded Notes (ETNs)\"\n",
      "}\n",
      "{\n",
      "    \"RTS2 version\": \"EU 2017/583 of 14 July 2016\",\n",
      "    \"Asset class\": \"Bonds (ETC and ETN bond types)\",\n",
      "    \"Sub-asset class\": \"Exchange Traded Commodities (ETCs)\"\n",
      "}\n"
     ]
    }
   ],
   "source": [
    "import rts2_annex3\n",
    "import json\n",
    "\n",
    "root = rts2_annex3.class_root\n",
    "\n",
    "# Generate a test sample for a sub-asset class with no criteria\n",
    "sub_asset_class = root.sub_asset_class_by_name(\n",
    "    sub_asset_class_name=\"Exchange Traded Notes (ETNs)\")\n",
    "sample = sub_asset_class.make_test_samples(1)[0]\n",
    "classification = root.classification_for(subject=sample)\n",
    "print(json.dumps(classification.classification_dict(), indent=4))\n",
    "\n",
    "# Now make a sample for a specifc asset class, but let the sub-asset class be random\n",
    "asset_class = root.asset_class_by_name(asset_class_name=\"Bonds (ETC and ETN bond types)\")\n",
    "sample = asset_class.make_test_samples(1)[0]\n",
    "classification = root.classification_for(subject=sample)\n",
    "print(json.dumps(classification.classification_dict(), indent=4))\n"
   ]
  },
  {
   "cell_type": "code",
   "execution_count": 5,
   "metadata": {
    "collapsed": false
   },
   "outputs": [
    {
     "name": "stdout",
     "output_type": "stream",
     "text": [
      "{\n",
      "    \"RTS2 version\": \"EU 2017/583 of 14 July 2016\",\n",
      "    \"Asset class\": \"Commodity Derivatives\",\n",
      "    \"Sub-asset class\": \"Energy commodity swaps\",\n",
      "    \"Segmentation criterion 1 description\": \"energy type: oil, oil distillates, coal, oil light ends, natural gas, electricity, inter-energy\",\n",
      "    \"Segmentation criterion 1\": \"OILP\",\n",
      "    \"Segmentation criterion 2 description\": \"underlying energy\",\n",
      "    \"Segmentation criterion 2\": \"www\",\n",
      "    \"Segmentation criterion 3 description\": \"notional currency defined as the currency in which the notional amount of the swap is denominated\",\n",
      "    \"Segmentation criterion 3\": \"GBP\",\n",
      "    \"Segmentation criterion 4 description\": \"settlement type defined as cash, physical or other\",\n",
      "    \"Segmentation criterion 4\": \"xxx\",\n",
      "    \"Segmentation criterion 5 description\": \"load type defined as baseload, peakload, off-peak or others, applicable to energy type: electricity\",\n",
      "    \"Segmentation criterion 5\": \"yyy\",\n",
      "    \"Segmentation criterion 6 description\": \"delivery/ cash settlement location applicable to energy types: oil, oil distillates, oil light ends, electricity, inter-energy\",\n",
      "    \"Segmentation criterion 6\": \"zzz\",\n",
      "    \"Segmentation criterion 7 description\": \"Oil/ Oil Distillates/ Oil Light ends\",\n",
      "    \"Segmentation criterion 7\": \"Maturity bucket 3: 8 months to 1 year\"\n",
      "}\n"
     ]
    }
   ],
   "source": [
    "# Now to get a more complex Sub-asset class.  One with lots of criteria\n",
    "sub_asset_class = root.sub_asset_class_by_name(\n",
    "    sub_asset_class_name=\"Energy commodity swaps\")\n",
    "sample = sub_asset_class.make_test_samples(1)[0]\n",
    "sample.energy_type = 'OILP'\n",
    "import datetime\n",
    "sample.from_date = datetime.date(2018, 4, 1)\n",
    "sample.to_date = datetime.date(2019, 4, 1)\n",
    "sample.underlying_energy = 'www'\n",
    "sample.notional_currency = 'GBP'\n",
    "sample.settlement_type = 'xxx'\n",
    "sample.load_type = 'yyy'\n",
    "sample.delivery = 'zzz'\n",
    "classification = root.classification_for(subject=sample)\n",
    "print(json.dumps(classification.classification_dict(), indent=4))"
   ]
  }
 ],
 "metadata": {
  "kernelspec": {
   "display_name": "Python 3",
   "language": "python",
   "name": "python3"
  },
  "language_info": {
   "codemirror_mode": {
    "name": "ipython",
    "version": 3
   },
   "file_extension": ".py",
   "mimetype": "text/x-python",
   "name": "python",
   "nbconvert_exporter": "python",
   "pygments_lexer": "ipython3",
   "version": "3.5.3"
  }
 },
 "nbformat": 4,
 "nbformat_minor": 2
}
