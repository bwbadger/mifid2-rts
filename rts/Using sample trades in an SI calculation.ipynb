{
 "cells": [
  {
   "cell_type": "markdown",
   "metadata": {},
   "source": [
    "## SI Calculation: an example using generated sample trades\n",
    "\n",
    "Here we will generate a few sample trades from the RTS 2 Annex III taxonomy, enrich the trades with EUR notionals and run a very simple SI calculation.\n",
    "\n",
    "The SI calculation includes a number of tests.  See the official word:\n",
    "https://ec.europa.eu/transparency/regdoc/rep/3/2016/EN/3-2016-2398-EN-F1-1.PDF\n"
   ]
  },
  {
   "cell_type": "code",
   "execution_count": 1,
   "metadata": {
    "collapsed": false
   },
   "outputs": [
    {
     "name": "stdout",
     "output_type": "stream",
     "text": [
      "{'sub_asset_class_name': 'Index credit default swap (CDS)', 'notional_currency': 'notional_currency.value', 'to_date': datetime.date(2019, 4, 23), 'asset_class_name': 'Credit Derivatives', 'underlying_index': 'underlying_index.value', 'from_date': datetime.date(2018, 4, 23)}\n"
     ]
    }
   ],
   "source": [
    "import rts2_annex3\n",
    "import random\n",
    "import json\n",
    "\n",
    "root = rts2_annex3.class_root\n",
    "\n",
    "asset_class = root.asset_class_by_name(\"Credit Derivatives\")\n",
    "\n",
    "# Ask the Asset class to generate some sample trade\n",
    "sample_trades = asset_class.make_test_samples(number=50)\n",
    "\n",
    "# Print the one of the generated trades\n",
    "print(vars(random.choice(sample_trades)))\n"
   ]
  },
  {
   "cell_type": "markdown",
   "metadata": {},
   "source": [
    "## LEIs\n",
    "\n",
    "In a real firm with real trades we would need to know the LEI (Legal Entity Identifier) of the legal entity which did each trade because SI status is reported distinctly for each legal entity (LEI).\n",
    "\n",
    "Quite often firms will do trades within a single legal entity, perhaps to move risk from one trading desk to another.  These are called intra-entity trades and must be filtered out before the SI calculation.  For this example we'll say that all the trades we generated are inter-entity trades, trades between distinct legal entities, so we count them all.\n",
    "\n",
    "In this example we'll use just one LEI, and not even a valid one, but it will suffice for the example."
   ]
  },
  {
   "cell_type": "code",
   "execution_count": 2,
   "metadata": {
    "collapsed": false
   },
   "outputs": [
    {
     "name": "stdout",
     "output_type": "stream",
     "text": [
      "{'sub_asset_class_name': 'Bespoke basket credit default swap (CDS)', 'asset_class_name': 'Credit Derivatives', 'our_lei': 'Our_LEI_here'}\n"
     ]
    }
   ],
   "source": [
    "# Add our LEI to each trade\n",
    "our_lei = 'Our_LEI_here'\n",
    "for sample_trade in sample_trades:\n",
    "    sample_trade.our_lei = our_lei\n",
    "\n",
    "# Print the one of the modified sample trades\n",
    "print(vars(random.choice(sample_trades)))"
   ]
  },
  {
   "cell_type": "markdown",
   "metadata": {},
   "source": [
    "## Trade Date\n",
    "The SI calculation includes checks for frequency, the number of trades done in a single week.  To work that out we need a trade date for each trade.  Here we'll just use a few dates and add these to our sample trades."
   ]
  },
  {
   "cell_type": "code",
   "execution_count": 3,
   "metadata": {
    "collapsed": false
   },
   "outputs": [
    {
     "name": "stdout",
     "output_type": "stream",
     "text": [
      "{'sub_asset_class_name': 'Bespoke basket credit default swap (CDS)', 'trade_date': datetime.date(2018, 3, 29), 'asset_class_name': 'Credit Derivatives', 'our_lei': 'Our_LEI_here'}\n"
     ]
    }
   ],
   "source": [
    "# We give each sample trade a trade date in a 30 day range of dates\n",
    "import datetime\n",
    "\n",
    "sample_dates = []\n",
    "today = datetime.date.today()\n",
    "for day_number in range(-30, 0):\n",
    "    a_date =  today + datetime.timedelta(day_number)\n",
    "    if a_date.weekday() < 6:\n",
    "        sample_dates.append(a_date)\n",
    "\n",
    "for sample_trade in sample_trades:\n",
    "    sample_trade.trade_date = random.choice(sample_dates)\n",
    "    \n",
    "# Print the one of the modified sample trades\n",
    "print(vars(random.choice(sample_trades)))"
   ]
  },
  {
   "cell_type": "markdown",
   "metadata": {},
   "source": [
    "## MIC\n",
    "The Market Identifier Code (MIC) is the ISO 10383 ID for a trading venue, for example a stock exchange.  The regulator is expected to provide a list of MIC values which identify venues which are recognised for the purposes of the SI calculation.  Trades which are done on vs. off recognised venues are counted differently."
   ]
  },
  {
   "cell_type": "code",
   "execution_count": 4,
   "metadata": {
    "collapsed": false
   },
   "outputs": [
    {
     "name": "stdout",
     "output_type": "stream",
     "text": [
      "{'sub_asset_class_name': 'Other credit derivatives', 'trade_date': datetime.date(2018, 3, 30), 'mic': 'OFF4', 'asset_class_name': 'Credit Derivatives', 'our_lei': 'Our_LEI_here'}\n"
     ]
    }
   ],
   "source": [
    "# We define our MICs.  A MIC value is always 4 charcters in length.  The values used\n",
    "# here are made-up nonsense, but good enough for an illustration\n",
    "\n",
    "eea_mics = ['EEA1', 'EEA2', 'EEA3']\n",
    "non_eea_mics = ['OFF1', 'OFF2', 'OFF3', 'OFF4']\n",
    "all_mics = eea_mics + non_eea_mics\n",
    "\n",
    "# Add a MIC to each sample trade\n",
    "for sample_trade in sample_trades:\n",
    "    sample_trade.mic = random.choice(all_mics)\n",
    "\n",
    "# Print the one of the modified sample trades\n",
    "print(vars(random.choice(sample_trades)))"
   ]
  },
  {
   "cell_type": "markdown",
   "metadata": {},
   "source": [
    "## Own Account\n",
    "\n",
    "We need to know if a trade was done on the firms own account in response to a client order.  Such trades are counted differently. "
   ]
  },
  {
   "cell_type": "code",
   "execution_count": 5,
   "metadata": {
    "collapsed": false
   },
   "outputs": [
    {
     "name": "stdout",
     "output_type": "stream",
     "text": [
      "{'sub_asset_class_name': 'Index credit default swap (CDS)', 'trade_date': datetime.date(2018, 4, 12), 'mic': 'OFF4', 'asset_class_name': 'Credit Derivatives', 'own_account': False, 'notional_currency': 'notional_currency.value', 'to_date': datetime.date(2021, 1, 17), 'our_lei': 'Our_LEI_here', 'underlying_index': 'underlying_index.value', 'from_date': datetime.date(2018, 4, 23)}\n"
     ]
    }
   ],
   "source": [
    "# Own Account is simply a boolean.  Either this is a trade which the regulator views\n",
    "# as being on own account in response to a client order, or not.  I use a random\n",
    "# boolean.  It's more likely the firm will trade with a clients money that their\n",
    "# own, so ...\n",
    "\n",
    "own_account_booleans = [True, False, False, False]\n",
    "\n",
    "for sample_trade in sample_trades:\n",
    "    sample_trade.own_account = random.choice(own_account_booleans)\n",
    "    \n",
    "# Print the one of the modified sample trades\n",
    "print(vars(random.choice(sample_trades)))"
   ]
  },
  {
   "cell_type": "markdown",
   "metadata": {},
   "source": [
    "## EUR Notional\n",
    "Another measure used by the SI calculation is the EUR notional value of each trade.  Here we assign a notional value to each trade."
   ]
  },
  {
   "cell_type": "code",
   "execution_count": 6,
   "metadata": {
    "collapsed": false
   },
   "outputs": [
    {
     "name": "stdout",
     "output_type": "stream",
     "text": [
      "{'sub_asset_class_name': 'Single name CDS options', 'trade_date': datetime.date(2018, 4, 13), 'cds_sub_class': 'cds_sub_class.value', 'mic': 'OFF4', 'asset_class_name': 'Credit Derivatives', 'own_account': False, 'to_date': datetime.date(2018, 10, 20), 'our_lei': 'Our_LEI_here', 'eur_notional': 1000000, 'from_date': datetime.date(2018, 4, 23)}\n"
     ]
    }
   ],
   "source": [
    "# Add a random-ish Euro Notional amount of n million EUR to each trade\n",
    "notional_amounts = [x * 1000000 for x in [1, 1, 1, 2, 2, 5, 10, 25]]\n",
    "\n",
    "for sample_trade in sample_trades:\n",
    "    sample_trade.eur_notional = random.choice(notional_amounts)\n",
    "\n",
    "# Print the one of the modified sample trades\n",
    "print(vars(random.choice(sample_trades)))"
   ]
  },
  {
   "cell_type": "markdown",
   "metadata": {},
   "source": [
    "## RTS 2 Annex III Classification\n",
    "The last step before we start the SI calculation is to add the RTS 2 Annex III classification to each trade."
   ]
  },
  {
   "cell_type": "code",
   "execution_count": 7,
   "metadata": {
    "collapsed": false
   },
   "outputs": [
    {
     "name": "stdout",
     "output_type": "stream",
     "text": [
      "{\n",
      "    \"RTS2 version\": \"EU 2017/583 of 14 July 2016\",\n",
      "    \"Asset class\": \"Credit Derivatives\",\n",
      "    \"Sub-asset class\": \"CDS index options\",\n",
      "    \"Segmentation criterion 1 description\": \"CDS index sub-class as specified for the sub-asset class of index credit default swap (CDS )\",\n",
      "    \"Segmentation criterion 1\": \"cds_index_sub_class.value\",\n",
      "    \"Segmentation criterion 2 description\": \"time maturity bucket of the option defined as follows:\",\n",
      "    \"Segmentation criterion 2\": \"Maturity bucket 2: 6 months to 1 year\"\n",
      "}\n"
     ]
    }
   ],
   "source": [
    "# Now classify each trade and add the JSON classification back to the trade\n",
    "for sample_trade in sample_trades:\n",
    "    classification = root.classification_for(subject=sample_trade)\n",
    "    json_classification = json.dumps(classification.classification_dict(), indent=4)\n",
    "    sample_trade.rts2_classification = json_classification\n",
    "\n",
    "print(random.choice(sample_trades).rts2_classification)\n",
    "\n"
   ]
  },
  {
   "cell_type": "markdown",
   "metadata": {},
   "source": [
    "## SI Calculation\n",
    "The next step is to run the SI Calculation.  This is more a series of grouping exercises than a real calculation, but here we go ..."
   ]
  }
 ],
 "metadata": {
  "kernelspec": {
   "display_name": "Python 3",
   "language": "python",
   "name": "python3"
  },
  "language_info": {
   "codemirror_mode": {
    "name": "ipython",
    "version": 3
   },
   "file_extension": ".py",
   "mimetype": "text/x-python",
   "name": "python",
   "nbconvert_exporter": "python",
   "pygments_lexer": "ipython3",
   "version": "3.5.3"
  }
 },
 "nbformat": 4,
 "nbformat_minor": 2
}
