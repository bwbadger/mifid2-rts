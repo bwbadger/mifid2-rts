{
 "cells": [
  {
   "cell_type": "markdown",
   "metadata": {
    "collapsed": true
   },
   "source": [
    "## SI Calculation: an example using generated sample trades\n",
    "\n",
    "Here we will generate sample trades from the RTS 2 Annex III taxonomy.  Each sample trade is then enriched with the information needed run an SI calculation.\n",
    "\n",
    "Once the trade data is assembled the the data normally provided by the regulator is synthesised.\n",
    "\n",
    "Lastly, the SI calculations are run\n",
    "\n",
    "The SI calculation includes a number of tests.  See the official word:\n",
    "https://ec.europa.eu/transparency/regdoc/rep/3/2016/EN/3-2016-2398-EN-F1-1.PDF\n",
    "\n",
    "# Step 1 - Prepare the trade data\n",
    "\n",
    "The first step is to use the RTS 2 Annex III taxonomy to generate some sample trades.\n"
   ]
  },
  {
   "cell_type": "code",
   "execution_count": 1,
   "metadata": {
    "collapsed": false
   },
   "outputs": [
    {
     "name": "stdout",
     "output_type": "stream",
     "text": [
      "{'to_date': datetime.date(2018, 5, 24), 'ref_entity_type': 'ref_entity_type.value', 'asset_class_name': 'Credit Derivatives', 'sub_asset_class_name': 'Single name credit default swap (CDS)', 'from_date': datetime.date(2018, 4, 24), 'notional_currency': 'notional_currency.value', 'underlying_ref_entity': 'underlying_ref_entity.value'}\n"
     ]
    }
   ],
   "source": [
    "import rts2_annex3\n",
    "import random\n",
    "import json\n",
    "\n",
    "random.seed()\n",
    "\n",
    "root = rts2_annex3.class_root\n",
    "\n",
    "asset_class = root.asset_class_by_name(\"Credit Derivatives\")\n",
    "\n",
    "# Ask the Asset class to generate some sample trade\n",
    "sample_trades = asset_class.make_test_samples(number=500)\n",
    "\n",
    "# Print the one of the generated trades\n",
    "print(vars(random.choice(sample_trades)))\n"
   ]
  },
  {
   "cell_type": "markdown",
   "metadata": {},
   "source": [
    "## LEIs\n",
    "\n",
    "In a real firm with real trades we would need to know the LEI (Legal Entity Identifier) of the legal entity which did each trade because SI status is reported distinctly for each legal entity (LEI).\n",
    "\n",
    "Quite often firms will do trades within a single legal entity, perhaps to move risk from one trading desk to another.  These are called intra-entity trades and must be filtered out before the SI calculation.  For this example we'll say that all the trades we generated are inter-entity trades, trades between distinct legal entities, so we count them all.\n",
    "\n",
    "In this example we'll use just one LEI, and not even a valid one, but it will suffice for the example."
   ]
  },
  {
   "cell_type": "code",
   "execution_count": 2,
   "metadata": {
    "collapsed": false
   },
   "outputs": [
    {
     "name": "stdout",
     "output_type": "stream",
     "text": [
      "{'our_lei': 'Our_LEI_here', 'to_date': datetime.date(2018, 7, 23), 'asset_class_name': 'Credit Derivatives', 'sub_asset_class_name': 'Single name CDS options', 'cds_sub_class': 'cds_sub_class.value', 'from_date': datetime.date(2018, 4, 24)}\n"
     ]
    }
   ],
   "source": [
    "# Add our LEI to each trade\n",
    "our_lei = 'Our_LEI_here'\n",
    "for sample_trade in sample_trades:\n",
    "    sample_trade.our_lei = our_lei\n",
    "\n",
    "# Print the one of the modified sample trades\n",
    "print(vars(random.choice(sample_trades)))"
   ]
  },
  {
   "cell_type": "markdown",
   "metadata": {},
   "source": [
    "## Trade Date\n",
    "The SI calculation includes checks for frequency, the number of trades done in a single week.  To work that out we need a trade date for each trade.  Here we'll just use a few dates and add these to our sample trades."
   ]
  },
  {
   "cell_type": "code",
   "execution_count": 3,
   "metadata": {
    "collapsed": false
   },
   "outputs": [
    {
     "name": "stdout",
     "output_type": "stream",
     "text": [
      "{'asset_class_name': 'Credit Derivatives', 'sub_asset_class_name': 'Bespoke basket credit default swap (CDS)', 'our_lei': 'Our_LEI_here', 'trade_date': datetime.date(2018, 4, 12)}\n"
     ]
    }
   ],
   "source": [
    "# We give each sample trade a trade date in a 30 day range of dates\n",
    "import datetime\n",
    "\n",
    "sample_dates = []\n",
    "today = datetime.date.today()\n",
    "for day_number in range(-30, 0):\n",
    "    a_date =  today + datetime.timedelta(day_number)\n",
    "    if a_date.weekday() < 6:\n",
    "        sample_dates.append(a_date)\n",
    "\n",
    "for sample_trade in sample_trades:\n",
    "    sample_trade.trade_date = random.choice(sample_dates)\n",
    "    \n",
    "# Print the one of the modified sample trades\n",
    "print(vars(random.choice(sample_trades)))"
   ]
  },
  {
   "cell_type": "markdown",
   "metadata": {},
   "source": [
    "## MIC\n",
    "The Market Identifier Code (MIC) is the ISO 10383 ID for a trading venue, for example a stock exchange.  The regulator is expected to provide a list of MIC values which identify venues which are recognised for the purposes of the SI calculation.  Trades which are done on vs. off recognised venues are counted differently."
   ]
  },
  {
   "cell_type": "code",
   "execution_count": 4,
   "metadata": {
    "collapsed": false
   },
   "outputs": [
    {
     "name": "stdout",
     "output_type": "stream",
     "text": [
      "{'trade_date': datetime.date(2018, 4, 2), 'sub_asset_class_name': 'CDS index options', 'from_date': datetime.date(2018, 4, 24), 'mic': 'OFF3', 'to_date': datetime.date(2021, 1, 18), 'asset_class_name': 'Credit Derivatives', 'our_lei': 'Our_LEI_here', 'cds_index_sub_class': 'cds_index_sub_class.value'}\n"
     ]
    }
   ],
   "source": [
    "# We define our MICs.  A MIC value is always 4 charcters in length.  The values used\n",
    "# here are made-up nonsense, but good enough for an illustration\n",
    "\n",
    "eea_mics = ['EEA1', 'EEA2', 'EEA3']\n",
    "non_eea_mics = ['OFF1', 'OFF2', 'OFF3', 'OFF4']\n",
    "all_mics = eea_mics + non_eea_mics\n",
    "\n",
    "# Add a MIC to each sample trade\n",
    "for sample_trade in sample_trades:\n",
    "    sample_trade.mic = random.choice(all_mics)\n",
    "\n",
    "# Print the one of the modified sample trades\n",
    "print(vars(random.choice(sample_trades)))"
   ]
  },
  {
   "cell_type": "markdown",
   "metadata": {},
   "source": [
    "## Own Account\n",
    "\n",
    "We need to know if a trade was done on the firms own account.  Such trades are counted differently. "
   ]
  },
  {
   "cell_type": "code",
   "execution_count": 5,
   "metadata": {
    "collapsed": false
   },
   "outputs": [
    {
     "name": "stdout",
     "output_type": "stream",
     "text": [
      "{'trade_date': datetime.date(2018, 3, 31), 'sub_asset_class_name': 'Single name CDS options', 'cds_sub_class': 'cds_sub_class.value', 'from_date': datetime.date(2018, 4, 24), 'mic': 'EEA3', 'to_date': datetime.date(2021, 1, 18), 'own_account': False, 'asset_class_name': 'Credit Derivatives', 'our_lei': 'Our_LEI_here'}\n"
     ]
    }
   ],
   "source": [
    "# Own Account is simply a boolean.  Either this is a trade which the regulator views\n",
    "# as being on own account, or not.  I use a random boolean with a probability.\n",
    "\n",
    "own_account_probability = 0.25\n",
    "\n",
    "for sample_trade in sample_trades:\n",
    "    sample_trade.own_account = random.random() < own_account_probability\n",
    "    \n",
    "# Print the one of the modified sample trades\n",
    "print(vars(random.choice(sample_trades)))"
   ]
  },
  {
   "cell_type": "markdown",
   "metadata": {},
   "source": [
    "## Client Order\n",
    "\n",
    "We need to know if a trade was done in response to a client order.  Such trades are counted differently. "
   ]
  },
  {
   "cell_type": "code",
   "execution_count": 6,
   "metadata": {
    "collapsed": false
   },
   "outputs": [
    {
     "name": "stdout",
     "output_type": "stream",
     "text": [
      "{'ref_entity_type': 'ref_entity_type.value', 'trade_date': datetime.date(2018, 4, 18), 'sub_asset_class_name': 'Single name credit default swap (CDS)', 'from_date': datetime.date(2018, 4, 24), 'client_order': True, 'mic': 'EEA1', 'to_date': datetime.date(2018, 7, 23), 'own_account': True, 'asset_class_name': 'Credit Derivatives', 'our_lei': 'Our_LEI_here', 'notional_currency': 'notional_currency.value', 'underlying_ref_entity': 'underlying_ref_entity.value'}\n"
     ]
    }
   ],
   "source": [
    "# Client Order is also simply a boolean.  Either this is a trade which was done\n",
    "# in response to a client order, or not.  I use a random boolean.\n",
    "\n",
    "client_order_probability = 0.5\n",
    "\n",
    "for sample_trade in sample_trades:\n",
    "    sample_trade.client_order = random.random() < client_order_probability\n",
    "    \n",
    "# Print the one of the modified sample trades\n",
    "print(vars(random.choice(sample_trades)))"
   ]
  },
  {
   "cell_type": "markdown",
   "metadata": {},
   "source": [
    "## EUR Notional\n",
    "Another measure used by the SI calculation is the EUR notional value of each trade.  Here we assign a notional value to each trade."
   ]
  },
  {
   "cell_type": "code",
   "execution_count": 7,
   "metadata": {
    "collapsed": false
   },
   "outputs": [
    {
     "name": "stdout",
     "output_type": "stream",
     "text": [
      "{'eur_notional': 2000000, 'own_account': False, 'asset_class_name': 'Credit Derivatives', 'sub_asset_class_name': 'Other credit derivatives', 'our_lei': 'Our_LEI_here', 'client_order': True, 'mic': 'OFF3', 'trade_date': datetime.date(2018, 4, 18)}\n"
     ]
    }
   ],
   "source": [
    "# Add a random-ish Euro Notional amount of n million EUR to each trade\n",
    "notional_amounts = [x * 1000000 for x in [1, 1, 1, 2, 2, 5, 10, 25]]\n",
    "\n",
    "for sample_trade in sample_trades:\n",
    "    sample_trade.eur_notional = random.choice(notional_amounts)\n",
    "\n",
    "# Print the one of the modified sample trades\n",
    "print(vars(random.choice(sample_trades)))"
   ]
  },
  {
   "cell_type": "markdown",
   "metadata": {},
   "source": [
    "## RTS 2 Annex III Classification\n",
    "The last step before we start the SI calculation is to add the RTS 2 Annex III classification to each trade."
   ]
  },
  {
   "cell_type": "code",
   "execution_count": 8,
   "metadata": {
    "collapsed": false
   },
   "outputs": [
    {
     "name": "stdout",
     "output_type": "stream",
     "text": [
      "{\"RTS2 version\": \"EU 2017/583 of 14 July 2016\", \"Asset class\": \"Credit Derivatives\", \"Sub-asset class\": \"Single name CDS options\", \"Segmentation criterion 1 description\": \"single name CDS sub-class as specified for the sub-asset class of single name CDS\", \"Segmentation criterion 1\": \"cds_sub_class.value\", \"Segmentation criterion 2 description\": \"time maturity bucket of the option defined as follows:\", \"Segmentation criterion 2\": \"Maturity bucket 1: Zero to 6 months\"}\n"
     ]
    }
   ],
   "source": [
    "# Now classify each trade and add the JSON classification back to the trade\n",
    "for sample_trade in sample_trades:\n",
    "    classification = root.classification_for(subject=sample_trade)\n",
    "    json_classification = json.dumps(classification.classification_dict())\n",
    "    sample_trade.rts2_classification = json_classification\n",
    "\n",
    "print(random.choice(sample_trades).rts2_classification)"
   ]
  },
  {
   "cell_type": "markdown",
   "metadata": {},
   "source": [
    "## Put the trade data in to Pandas tables\n",
    "\n",
    "The SI calculation requires a number of selections of the trade population.  See the comments below for details of each selection."
   ]
  },
  {
   "cell_type": "code",
   "execution_count": 9,
   "metadata": {
    "collapsed": false
   },
   "outputs": [],
   "source": [
    "# Put the essential information for each trade into a Pandas table\n",
    "\n",
    "import pandas as pd\n",
    "\n",
    "def si_details_from_sample(sample_trade):\n",
    "    return dict(\n",
    "        lei=sample_trade.our_lei,\n",
    "        trade_date=sample_trade.trade_date,\n",
    "        mic=sample_trade.mic,\n",
    "        own_account=sample_trade.own_account,\n",
    "        client_order=sample_trade.client_order,\n",
    "        eur_notional=sample_trade.eur_notional,\n",
    "        rts2_classification=sample_trade.rts2_classification,\n",
    "        )\n",
    "\n",
    "# The set of all trades (by LEI if there is more than one)\n",
    "all_trades = pd.DataFrame.from_records([si_details_from_sample(s) for s in sample_trades])\n",
    "\n",
    "# The subset of all trades which were not done on an EEA venue (i.e. OTC trades)\n",
    "otc_trades = all_trades[~all_trades.mic.isin(eea_mics)]\n",
    "\n",
    "# The subset of OTC trades which were done on the banks own account\n",
    "own_account_otc_trades = otc_trades[otc_trades.own_account]\n",
    "\n",
    "# The subset of own account OTC trades which were done in response to client orders\n",
    "client_own_account_otc_trades = own_account_otc_trades[own_account_otc_trades.client_order]\n"
   ]
  },
  {
   "cell_type": "markdown",
   "metadata": {},
   "source": [
    "# Step 2 - The Regulator Supplied Data\n",
    "\n",
    "The regulator is expected to provide information about each sub class:\n",
    "* Is the sub class liquid?\n",
    "* How many trades of that sub class were done in the whole EU?\n",
    "* What is the total EUR notional value traded in that sub class in the whole EU?\n",
    "\n",
    "We don't have any regulator supplied data here so we synthesise some."
   ]
  },
  {
   "cell_type": "code",
   "execution_count": 10,
   "metadata": {
    "collapsed": false
   },
   "outputs": [
    {
     "data": {
      "text/plain": [
       "dict_values([True, False, False, False, False, True, False, False, True, False, True, False])"
      ]
     },
     "execution_count": 10,
     "metadata": {},
     "output_type": "execute_result"
    }
   ],
   "source": [
    "# For every RTS 2 sub class we need to decide if it is liquid or not\n",
    "# We simply generate a random true/false for each sub class and use\n",
    "# a dictionary to hold the result so we can look it up later.\n",
    "\n",
    "distinct_sub_classes = all_trades.rts2_classification.unique()\n",
    "liquidity_dictionary = dict()\n",
    "for sub_class in distinct_sub_classes:\n",
    "    is_liquid = random.random() < 0.5\n",
    "    liquidity_dictionary[sub_class] = is_liquid\n",
    "liquidity_dictionary.values()\n"
   ]
  },
  {
   "cell_type": "code",
   "execution_count": 15,
   "metadata": {
    "collapsed": false
   },
   "outputs": [
    {
     "data": {
      "text/html": [
       "<div>\n",
       "<table border=\"1\" class=\"dataframe\">\n",
       "  <thead>\n",
       "    <tr>\n",
       "      <th></th>\n",
       "      <th colspan=\"2\" halign=\"left\">eur_notional</th>\n",
       "      <th>eu_count</th>\n",
       "      <th>eu_eur_notional</th>\n",
       "    </tr>\n",
       "    <tr>\n",
       "      <th></th>\n",
       "      <th>count</th>\n",
       "      <th>sum</th>\n",
       "      <th></th>\n",
       "      <th></th>\n",
       "    </tr>\n",
       "    <tr>\n",
       "      <th>rts2_classification</th>\n",
       "      <th></th>\n",
       "      <th></th>\n",
       "      <th></th>\n",
       "      <th></th>\n",
       "    </tr>\n",
       "  </thead>\n",
       "  <tbody>\n",
       "    <tr>\n",
       "      <th>{\"RTS2 version\": \"EU 2017/583 of 14 July 2016\", \"Asset class\": \"Credit Derivatives\", \"Sub-asset class\": \"Bespoke basket credit default swap (CDS)\"}</th>\n",
       "      <td>5</td>\n",
       "      <td>13000000</td>\n",
       "      <td>195</td>\n",
       "      <td>1287000000</td>\n",
       "    </tr>\n",
       "    <tr>\n",
       "      <th>{\"RTS2 version\": \"EU 2017/583 of 14 July 2016\", \"Asset class\": \"Credit Derivatives\", \"Sub-asset class\": \"CDS index options\", \"Segmentation criterion 1 description\": \"CDS index sub-class as specified for the sub-asset class of index credit default swap (CDS )\", \"Segmentation criterion 1\": \"cds_index_sub_class.value\", \"Segmentation criterion 2 description\": \"time maturity bucket of the option defined as follows:\", \"Segmentation criterion 2\": \"Maturity bucket 1: Zero to 6 months\"}</th>\n",
       "      <td>4</td>\n",
       "      <td>21000000</td>\n",
       "      <td>164</td>\n",
       "      <td>2121000000</td>\n",
       "    </tr>\n",
       "  </tbody>\n",
       "</table>\n",
       "</div>"
      ],
      "text/plain": [
       "                                                   eur_notional            \\\n",
       "                                                          count       sum   \n",
       "rts2_classification                                                         \n",
       "{\"RTS2 version\": \"EU 2017/583 of 14 July 2016\",...            5  13000000   \n",
       "{\"RTS2 version\": \"EU 2017/583 of 14 July 2016\",...            4  21000000   \n",
       "\n",
       "                                                   eu_count eu_eur_notional  \n",
       "                                                                             \n",
       "rts2_classification                                                          \n",
       "{\"RTS2 version\": \"EU 2017/583 of 14 July 2016\",...      195      1287000000  \n",
       "{\"RTS2 version\": \"EU 2017/583 of 14 July 2016\",...      164      2121000000  "
      ]
     },
     "execution_count": 15,
     "metadata": {},
     "output_type": "execute_result"
    }
   ],
   "source": [
    "# The values which will be compared with the EU trade count and sum(eur_notional)\n",
    "# are the counts and totals of the own account OTC trades which were done in \n",
    "# response to client orders.  We synthesise the test EU numbers from these.\n",
    "\n",
    "# First we get the counts and sum of notional, grouping by sub class (RTS 2 string)\n",
    "notional_by_sub_class = client_own_account_otc_trades[['rts2_classification', 'eur_notional']] \\\n",
    "    .groupby(by='rts2_classification')\n",
    "sums_series = notional_by_sub_class.agg(['count', 'sum'])\n",
    "sums_df = pd.DataFrame(sums_series)\n",
    "\n",
    "# We add a column for the EU trade count for each sub class.  For this exercise, the\n",
    "# threshold for being an SI is if our LEO count for the subclass is >= 2.5% of\n",
    "# the EU count.  The EU figure is randomly set to be a bit more or a bit less than\n",
    "# will trigger SI status.\n",
    "\n",
    "sums_df['eu_count'] = sums_df['eur_notional']['count']\\\n",
    "    .apply(lambda x: x * 40 + random.choice([x * -1, x]) )\n",
    "\n",
    "# Now we ass a columns for the EU notional for each sub class.  The threshold for\n",
    "# notional is 1% of the EU figure.  Again the EU number is randomly tweaked\n",
    "sums_df['eu_eur_notional'] = sums_df['eur_notional']['sum']\\\n",
    "    .apply(lambda x: x * 100 + random.choice([x * -1, x]) )\n",
    "\n",
    "sums_df.head(2)"
   ]
  },
  {
   "cell_type": "markdown",
   "metadata": {},
   "source": [
    "# Step 3 - Do the SI calculation\n",
    "\n",
    "The \"calculation\" is really a set of filters which might catch an RTS 2 subclass for an LEI\n",
    "\n",
    "1. If the RTS 2 Annex III sub class is liquid\n",
    "   - and the count of client own-account otc trades >= 2.5% of eu_rts2_trade_count\n",
    "   - and average weekly number of client own-account otc trades >= 1\n",
    "2. If the RTS 2 Annex III sub class is not liquid \n",
    "   - and average weekly number of client own-account otc trade >= 1\n",
    "3. If the sum of EUR notional for client own-account otc trades is\n",
    "   - \\>= 25% of all trades notional for the LEI\n",
    "   - **or** >= 1% of EU trade notional"
   ]
  },
  {
   "cell_type": "code",
   "execution_count": null,
   "metadata": {
    "collapsed": true
   },
   "outputs": [],
   "source": [
    "# Filter 1:  For the sub_classes which are liquid check the counts and frequency ...\n"
   ]
  }
 ],
 "metadata": {
  "kernelspec": {
   "display_name": "Python 3",
   "language": "python",
   "name": "python3"
  },
  "language_info": {
   "codemirror_mode": {
    "name": "ipython",
    "version": 3
   },
   "file_extension": ".py",
   "mimetype": "text/x-python",
   "name": "python",
   "nbconvert_exporter": "python",
   "pygments_lexer": "ipython3",
   "version": "3.5.3"
  }
 },
 "nbformat": 4,
 "nbformat_minor": 2
}
