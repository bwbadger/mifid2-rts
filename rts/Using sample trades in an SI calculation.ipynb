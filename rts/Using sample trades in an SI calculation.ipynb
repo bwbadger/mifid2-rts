{
 "cells": [
  {
   "cell_type": "markdown",
   "metadata": {
    "collapsed": true
   },
   "source": [
    "# SI Calculation: an example using generated sample trades\n",
    "\n",
    "Here we will generate sample trades from the RTS 2 Annex III taxonomy.  Each sample trade is then enriched with the information needed run an SI calculation.\n",
    "\n",
    "Once the trade data is assembled the the data normally provided by the regulator is synthesised.\n",
    "\n",
    "Lastly, the SI calculations are run\n",
    "\n",
    "The SI calculation includes a number of tests.  See Article 15 (page 39) of  [Brussels, 25.4.2016 C(2016) 2398 final](https://ec.europa.eu/transparency/regdoc/rep/3/2016/EN/3-2016-2398-EN-F1-1.PDF) for the three derivatives tests: a, b and c.\n"
   ]
  },
  {
   "cell_type": "markdown",
   "metadata": {},
   "source": [
    "# Generate some trade data\n",
    "\n",
    "The first step is to use the RTS 2 Annex III taxonomy to generate some sample trades."
   ]
  },
  {
   "cell_type": "code",
   "execution_count": 1,
   "metadata": {
    "collapsed": false
   },
   "outputs": [],
   "source": [
    "# First we need to import the libraries we'll be needing\n",
    "import rts2_annex3\n",
    "import pandas as pd\n",
    "\n",
    "import random\n",
    "random.seed()"
   ]
  },
  {
   "cell_type": "code",
   "execution_count": 2,
   "metadata": {
    "collapsed": false
   },
   "outputs": [],
   "source": [
    "# Get the root of the RTS 2 Annex III taxonomy\n",
    "root = rts2_annex3.class_root\n",
    "\n",
    "# Get the Asset Class we would like to generate trades for\n",
    "asset_class = root.asset_class_by_name(\"Credit Derivatives\")\n",
    "\n",
    "# Ask the Asset class to generate some sample trade\n",
    "sample_trades = asset_class.make_test_samples(number=500)"
   ]
  },
  {
   "cell_type": "code",
   "execution_count": 3,
   "metadata": {
    "collapsed": false
   },
   "outputs": [
    {
     "name": "stdout",
     "output_type": "stream",
     "text": [
      "Generated 500 trades.  here is one example:\n",
      "\n",
      "{'cds_index_sub_class': 'cds_index_sub_class.value', 'to_date': datetime.date(2021, 3, 13), 'asset_class_name': 'Credit Derivatives', 'sub_asset_class_name': 'CDS index options', 'from_date': datetime.date(2018, 6, 17)}\n"
     ]
    }
   ],
   "source": [
    "print(\"Generated {count} trades.  here is one example:\\n\".format(count=len(sample_trades)))\n",
    "print(vars(random.choice(sample_trades)))"
   ]
  },
  {
   "cell_type": "markdown",
   "metadata": {},
   "source": [
    "## LEIs\n",
    "\n",
    "In a real firm with real trades we would need to know the [LEI (Legal Entity Identifier - ISO 17442)](https://en.wikipedia.org/wiki/Legal_Entity_Identifier) of the legal entity which did each trade because SI status is reported distinctly for each legal entity, identified by an LEI.\n",
    "\n",
    "Firms may do trades within a single legal entity, perhaps to move risk from one trading desk to another.  These are called intra-entity trades and must be filtered out before the SI calculation.  For this example we'll say that all the trades we generated are inter-entity trades (i.e. trades *between* distinct legal entities), so we count them all.\n",
    "\n",
    "In this example we'll use just one LEI, and not even a valid one, but it will suffice for the example."
   ]
  },
  {
   "cell_type": "code",
   "execution_count": 4,
   "metadata": {
    "collapsed": false
   },
   "outputs": [
    {
     "name": "stdout",
     "output_type": "stream",
     "text": [
      "Our_bank_LEI\n"
     ]
    }
   ],
   "source": [
    "# Typically trades invole two parties, the bank and a counterparty (the client).\n",
    "# For the SI calculation we just need the bank LEI.\n",
    "\n",
    "for sample_trade in sample_trades:\n",
    "    sample_trade.lei = 'Our_bank_LEI'\n",
    "\n",
    "# Print the LEI from one of the trades (they're all the same!)\n",
    "\n",
    "print(random.choice(sample_trades).lei)"
   ]
  },
  {
   "cell_type": "markdown",
   "metadata": {},
   "source": [
    "## Trade Date\n",
    "The SI calculation includes checks for frequency, the number of trades done in a single week.  To work that out we need a trade date for each trade.  Here we'll just use a few dates and add these to our sample trades."
   ]
  },
  {
   "cell_type": "code",
   "execution_count": 5,
   "metadata": {
    "collapsed": false
   },
   "outputs": [
    {
     "name": "stdout",
     "output_type": "stream",
     "text": [
      "2018-05-28\n",
      "22\n"
     ]
    }
   ],
   "source": [
    "# We give each sample trade a trade date in a 30 day range of dates\n",
    "# and an ISO week number (c.f. https://en.wikipedia.org/wiki/ISO_week_date)\n",
    "\n",
    "import datetime\n",
    "\n",
    "sample_dates = []\n",
    "today = datetime.date.today()\n",
    "for day_number in range(-30, 0):\n",
    "    a_date =  today + datetime.timedelta(day_number)\n",
    "    if a_date.weekday() < 6:\n",
    "        sample_dates.append(a_date)\n",
    "\n",
    "for sample_trade in sample_trades:\n",
    "    selected_date = random.choice(sample_dates)\n",
    "    sample_trade.trade_date = selected_date\n",
    "    sample_trade.trade_date_week = selected_date.isocalendar()[1]\n",
    "    \n",
    "# Print the one of the modified sample trades\n",
    "\n",
    "a_trade = random.choice(sample_trades)\n",
    "print(a_trade.trade_date)\n",
    "print(a_trade.trade_date_week)"
   ]
  },
  {
   "cell_type": "markdown",
   "metadata": {},
   "source": [
    "## MIC\n",
    "A [MIC (Market Identifier Code - ISO 10383)](https://en.wikipedia.org/wiki/Market_Identifier_Code) is an ID for a trading venue, for example a stock exchange.  The regulator is expected to provide a list of MIC values which identify venues which are recognised for the purposes of the SI calculation.  Trades which are done on vs. off recognised venues are counted differently."
   ]
  },
  {
   "cell_type": "code",
   "execution_count": 6,
   "metadata": {
    "collapsed": false
   },
   "outputs": [
    {
     "name": "stdout",
     "output_type": "stream",
     "text": [
      "EEA1\n"
     ]
    }
   ],
   "source": [
    "# We define our MICs.  A MIC value is always 4 charcters in length.  The values used\n",
    "# here are made-up nonsense, but good enough for an illustration\n",
    "\n",
    "eea_mics = ['EEA1', 'EEA2', 'EEA3']\n",
    "non_eea_mics = ['OFF1', 'OFF2', 'OFF3', 'OFF4']\n",
    "all_mics = eea_mics + non_eea_mics\n",
    "\n",
    "# Add a MIC to each sample trade\n",
    "for sample_trade in sample_trades:\n",
    "    sample_trade.mic = random.choice(all_mics)\n",
    "\n",
    "# Print the one of the modified sample trades\n",
    "a_trade = random.choice(sample_trades)\n",
    "print(a_trade.mic)"
   ]
  },
  {
   "cell_type": "markdown",
   "metadata": {},
   "source": [
    "## Own Account\n",
    "\n",
    "We need to know if a trade was done on the firms own account.  Such trades are counted differently. "
   ]
  },
  {
   "cell_type": "code",
   "execution_count": 7,
   "metadata": {
    "collapsed": false
   },
   "outputs": [
    {
     "name": "stdout",
     "output_type": "stream",
     "text": [
      "False\n"
     ]
    }
   ],
   "source": [
    "# Own Account is a boolean; either this is a trade which the regulator views as being\n",
    "# on the bank's own account, or not.  I use a random boolean with a probability.\n",
    "\n",
    "own_account_probability = 0.25\n",
    "\n",
    "for sample_trade in sample_trades:\n",
    "    sample_trade.own_account = random.random() < own_account_probability\n",
    "    \n",
    "# Print the one of the modified sample trades\n",
    "a_trade = random.choice(sample_trades)\n",
    "print(a_trade.own_account)"
   ]
  },
  {
   "cell_type": "markdown",
   "metadata": {},
   "source": [
    "## Client Order\n",
    "\n",
    "We need to know if a trade was done in response to a client order.  Such trades are counted differently. "
   ]
  },
  {
   "cell_type": "code",
   "execution_count": 8,
   "metadata": {
    "collapsed": false
   },
   "outputs": [
    {
     "name": "stdout",
     "output_type": "stream",
     "text": [
      "False\n"
     ]
    }
   ],
   "source": [
    "# Client Order is also simply a boolean.  Either this is a trade which was done\n",
    "# in response to a client order, or not.  I use a random boolean.\n",
    "\n",
    "client_order_probability = 0.5\n",
    "\n",
    "for sample_trade in sample_trades:\n",
    "    sample_trade.client_order = random.random() < client_order_probability\n",
    "    \n",
    "# Print the one of the modified sample trades\n",
    "a_trade = random.choice(sample_trades)\n",
    "print(a_trade.client_order)"
   ]
  },
  {
   "cell_type": "markdown",
   "metadata": {},
   "source": [
    "## EUR Notional\n",
    "Another measure used by the SI calculation is the EUR notional value of each trade.  Here we assign a notional value to each trade."
   ]
  },
  {
   "cell_type": "code",
   "execution_count": 9,
   "metadata": {
    "collapsed": false
   },
   "outputs": [
    {
     "name": "stdout",
     "output_type": "stream",
     "text": [
      "25000000\n"
     ]
    }
   ],
   "source": [
    "# Add a random-ish Euro Notional amount of n million EUR to each trade\n",
    "\n",
    "notional_amounts = [x * 1000000 for x in [1, 1, 1, 2, 2, 5, 10, 25]]\n",
    "\n",
    "for sample_trade in sample_trades:\n",
    "    sample_trade.eur_notional = random.choice(notional_amounts)\n",
    "\n",
    "# Print the one of the modified sample trades\n",
    "a_trade = random.choice(sample_trades)\n",
    "print(a_trade.eur_notional)"
   ]
  },
  {
   "cell_type": "markdown",
   "metadata": {},
   "source": [
    "## RTS 2 Annex III Classification\n",
    "The last step before we start the SI calculation is to add the RTS 2 Annex III classification to each trade."
   ]
  },
  {
   "cell_type": "code",
   "execution_count": 10,
   "metadata": {
    "collapsed": false
   },
   "outputs": [
    {
     "name": "stdout",
     "output_type": "stream",
     "text": [
      "{\n",
      "    \"RTS2 version\": \"EU 2017/583 of 14 July 2016\",\n",
      "    \"Asset class\": \"Credit Derivatives\",\n",
      "    \"Sub-asset class\": \"Single name credit default swap (CDS)\",\n",
      "    \"Segmentation criterion 1 description\": \"underlying reference entity\",\n",
      "    \"Segmentation criterion 1\": \"underlying_ref_entity.value\",\n",
      "    \"Segmentation criterion 2 description\": \"underlying reference entity type defined as follows: \\\"Issuer of sovereign and public type\\\" means an issuer entity which is either: (a) the Union; (b) a Member State including a government department, an agency or a special purpose vehicle of a Member State; (c) a sovereign entity which is not listed under points (a) and (b); (d) in the case of a federal Member State, a member of that federation; (e) a special purpose vehicle for several Member States; (f) an international financial institution established by two or more Member States which have the purpose of mobilising funding and providing financial assistance to the benefit of its members that are experiencing or are threatened by severe financial problems; (g) the European Investment Bank; (h) a public entity which is not a sovereign issuer as specified in the points (a) to (c). \\\"Issuer of corporate type\\\" means an issuer entity which is not an issuer of sovereign and public type.\",\n",
      "    \"Segmentation criterion 2\": \"ref_entity_type.value\",\n",
      "    \"Segmentation criterion 3 description\": \"notional currency defined as the currency in which the notional amount of the derivative is denominated\",\n",
      "    \"Segmentation criterion 3\": \"notional_currency.value\",\n",
      "    \"Segmentation criterion 4 description\": \"time maturity bucket of the CDS defined as follows:\",\n",
      "    \"Segmentation criterion 4\": \"Maturity bucket 1: Zero to 1 year\"\n",
      "}\n"
     ]
    }
   ],
   "source": [
    "# Now classify each trade and add the JSON classification back to the trade\n",
    "for sample_trade in sample_trades:\n",
    "    classification = root.classification_for(subject=sample_trade)\n",
    "    sample_trade.rts2_classification = classification\n",
    "\n",
    "# Print the one of the modified sample trades\n",
    "a_trade = random.choice(sample_trades)\n",
    "print(a_trade.rts2_classification.as_json(indent=4))"
   ]
  },
  {
   "cell_type": "markdown",
   "metadata": {},
   "source": [
    "# Do the SI calculation\n",
    "\n",
    "The \"calculation\" is really a set of filters 3 filters (a, b & c as shown below), which might identify an firm as being an SI for a particular RTS 2 subclass.\n",
    "\n",
    "The filters all focus on the count and notional sums of trades which are OTC (not traded on EEA recognised venue), own account (traded using the banks money) and in response to a client order.  Here we'll call this subset of trades **SI-trades**.\n",
    "\n",
    "Tests a & b also ask if a particulat RTS 2 sub class is liquid.  Whether an instrument is liquid or not is determined by the regulator, and the regulator must publish this, together with the total trade count and total notional, for each sub class.\n",
    "\n",
    "a. If the RTS 2 Annex III sub class is liquid\n",
    "   - and the count of SI-trades >= 2.5% of eu_rts2_trade_count\n",
    "   - and average weekly number of SI-trades >= 1\n",
    "   \n",
    "b. If the RTS 2 Annex III sub class is not liquid \n",
    "   - and average weekly number of SI-trades >= 1\n",
    "\n",
    "c. If the sum of EUR notional for SI-trades is\n",
    "   - \\>= 25% of all trades notional for the LEI\n",
    "   - **or** >= 1% of EU trade notional"
   ]
  },
  {
   "cell_type": "markdown",
   "metadata": {},
   "source": [
    "# An Object Oriented Calculator\n",
    "\n",
    "Here we build a tiny Python application to do the SI calculation on the generated trades.\n",
    "\n",
    "The result of the calculation is a JSON report of the RTS 2 Annex III sub classes for which our LEI is a Systematic Internaliser.\n",
    "\n",
    "We define 3 classes:\n",
    "* SIReport - This represents the report spanning all RTS 2 classes for one LEI\n",
    "* RTS2SubClass - This represents the information in a report for just one RTS 2 sub class\n",
    "* Aggregations - Represents the various counts and sums for one RTS 2 sub class\n",
    "\n",
    "If you want to see the report, scroll past the code to the next text box."
   ]
  },
  {
   "cell_type": "code",
   "execution_count": 11,
   "metadata": {
    "collapsed": false
   },
   "outputs": [],
   "source": [
    "import collections\n",
    "import json\n",
    "\n",
    "class SIReport(object):\n",
    "    \n",
    "    @classmethod\n",
    "    def for_trades(cls, trades):\n",
    "        new_report = cls()\n",
    "        new_report.add_trades(trades)\n",
    "        return new_report\n",
    "    \n",
    "    def __init__(self):\n",
    "        self.trades = []\n",
    "        self.sub_classes = dict()\n",
    "        self._number_of_weeks = None\n",
    "        \n",
    "    def add_trades(self, trades):\n",
    "        self.trades.extend(trades)\n",
    "        for trade in trades:\n",
    "            rts2_string = trade.rts2_classification.as_json()\n",
    "            if not rts2_string in self.sub_classes:\n",
    "                self.sub_classes[rts2_string] = RTS2SubClass(self, trade)\n",
    "            sub_class = self.sub_classes[rts2_string]\n",
    "            sub_class.add_trade(trade)\n",
    "        self._number_of_weeks = None\n",
    "\n",
    "    @property\n",
    "    def number_of_weeks(self):\n",
    "        if self._number_of_weeks is None:\n",
    "            min_week = min(self.trades, key=lambda t: t.trade_date_week).trade_date_week\n",
    "            max_week = max(self.trades, key=lambda t: t.trade_date_week).trade_date_week\n",
    "            self._number_of_weeks = max_week - min_week + 1\n",
    "        return self._number_of_weeks\n",
    "\n",
    "    def si_sub_classes(self):\n",
    "        return [sub_class for sub_class in self.sub_classes.values() \n",
    "                if sub_class.si_status()]\n",
    "        \n",
    "    def report(self):\n",
    "        si_sub_classes = self.si_sub_classes()\n",
    "        report_items = [\n",
    "            'This LEI is an SI for {si_count} of {all_count} '\n",
    "            'sub classes traded over {weeks} weeks.'.format(\n",
    "                si_count=len(si_sub_classes),\n",
    "                all_count=len(self.sub_classes),\n",
    "                weeks=self.number_of_weeks)]\n",
    "        for sub_class in si_sub_classes:\n",
    "            report_items.append(sub_class.report())\n",
    "        return json.dumps(report_items, indent=4)\n",
    "\n",
    "\n",
    "class RTS2SubClass(object):\n",
    "    def __init__(self, si_report, sample_trade):\n",
    "        self.si_report = si_report\n",
    "        self.sample_trade = sample_trade\n",
    "        self.is_liquid = random.random() < 0.5\n",
    "        self.trades = []\n",
    "        self._aggregations = None\n",
    "\n",
    "    @property\n",
    "    def aggregations(self):\n",
    "        # I keep all the computed results in one object so I can drop the cache\n",
    "        # if a trade is added\n",
    "        if self._aggregations is None:\n",
    "            self._aggregations = Aggregations(sub_class=self)\n",
    "        return self._aggregations\n",
    "        \n",
    "    def add_trade(self, trade):\n",
    "        self.trades.append(trade)\n",
    "        self._aggregations = None\n",
    "\n",
    "    def si_status(self):\n",
    "        \"\"\"\n",
    "        This is the SI Calculation.  It is applied distinctly to each sub class.\n",
    "        It's quite simple once everything is aggregated.\n",
    "        Note that these are the rules for derivatives trades only.\n",
    "        \"\"\"\n",
    "        agg = self.aggregations\n",
    "        if self.is_liquid \\\n",
    "            and agg.trade_count >= (0.025 * agg.eu_trade_count) \\\n",
    "            and agg.avg_weekly_trades >= 1:\n",
    "                return \"SI - (a) Liquid instrument test\"\n",
    "        if not self.is_liquid \\\n",
    "            and agg.avg_weekly_trades >= 1:\n",
    "                return \"SI - (b) Non-liquid instrument test\"\n",
    "        if agg.notional_sum >= (0.25 * agg.lei_notional_sum) \\\n",
    "            or agg.notional_sum >= (0.01 * agg.eu_notional_sum):\n",
    "                return \"SI - (c) Notional size test\"\n",
    "        return None\n",
    "    \n",
    "    def report(self):\n",
    "        report_list = ['Status: {status}.'.format(status=self.si_status())]\n",
    "        agg_dict = vars(self.aggregations).copy()\n",
    "        del agg_dict['sub_class']\n",
    "        del agg_dict['si_trades']\n",
    "        report_list.append(agg_dict)\n",
    "        report_list.append(self.sample_trade.rts2_classification.classification_dict())\n",
    "        return report_list\n",
    "\n",
    "\n",
    "class Aggregations(object):\n",
    "    \"\"\"\n",
    "    Each instance of Aggregations represents the subset of the trades for\n",
    "    a sub class which are OTC client orders on the own account of the LEI.\n",
    "    The SI calculation tests are with respect to this subset of the trades.\n",
    "    \"\"\"\n",
    "\n",
    "    def __init__(self, sub_class):\n",
    "        self.sub_class = sub_class\n",
    "        \n",
    "        # Build the aggregations for this sub class\n",
    "        self.si_trades = [\n",
    "                trade for trade in self.sub_class.trades\n",
    "                if (not trade.mic in eea_mics)  # OTC\n",
    "                    and trade.own_account       # Traded on own account\n",
    "                    and trade.client_order]     # in response to a client order\n",
    "        self.trade_count = len(self.si_trades)\n",
    "        self.notional_sum = sum([abs(trade.eur_notional) for trade in self.si_trades])\n",
    "        self.avg_weekly_trades = self.trade_count / self.sub_class.si_report.number_of_weeks\n",
    "        \n",
    "        # Now I synthesise the EU figures which should really come from the regulator\n",
    "        self.eu_trade_count = self.trade_count * 40 + random.choice([\n",
    "                                self.trade_count * -1, self.trade_count])\n",
    "        if self.notional_sum:\n",
    "            self.eu_notional_sum  = self.notional_sum * 100 + random.choice([\n",
    "                                    self.notional_sum * -1, self.notional_sum])\n",
    "        else:\n",
    "            self.eu_notional_sum = 1\n",
    "\n",
    "        # I keep this sub class sum here so it gets flushed if trades added\n",
    "        self.lei_notional_sum = sum(\n",
    "                [abs(trade.eur_notional) for trade in self.sub_class.trades])"
   ]
  },
  {
   "cell_type": "markdown",
   "metadata": {},
   "source": [
    "## Run the report\n",
    "Having defined the classes we should be able to just run the report.\n",
    "\n",
    "Note that the result is different every time the report is run because the EU totals are re-synthesised each time and are random.  With real data the report would be stable, and indeed this test could be changed to always produce the same results; the current implementaion is intended to show some variety."
   ]
  },
  {
   "cell_type": "code",
   "execution_count": 12,
   "metadata": {
    "collapsed": false
   },
   "outputs": [
    {
     "name": "stdout",
     "output_type": "stream",
     "text": [
      "[\n",
      "    \"This LEI is an SI for 6 of 12 sub classes traded over 5 weeks.\",\n",
      "    [\n",
      "        \"Status: SI - (b) Non-liquid instrument test.\",\n",
      "        {\n",
      "            \"eu_notional_sum\": 4554000000,\n",
      "            \"notional_sum\": 46000000,\n",
      "            \"avg_weekly_trades\": 1.0,\n",
      "            \"trade_count\": 5,\n",
      "            \"lei_notional_sum\": 304000000,\n",
      "            \"eu_trade_count\": 205\n",
      "        },\n",
      "        {\n",
      "            \"RTS2 version\": \"EU 2017/583 of 14 July 2016\",\n",
      "            \"Asset class\": \"Credit Derivatives\",\n",
      "            \"Sub-asset class\": \"Single name CDS options\",\n",
      "            \"Segmentation criterion 1 description\": \"single name CDS sub-class as specified for the sub-asset class of single name CDS\",\n",
      "            \"Segmentation criterion 1\": \"cds_sub_class.value\",\n",
      "            \"Segmentation criterion 2 description\": \"time maturity bucket of the option defined as follows:\",\n",
      "            \"Segmentation criterion 2\": \"Maturity bucket 1: Zero to 6 months\"\n",
      "        }\n",
      "    ],\n",
      "    [\n",
      "        \"Status: SI - (c) Notional size test.\",\n",
      "        {\n",
      "            \"eu_notional_sum\": 693000000,\n",
      "            \"notional_sum\": 7000000,\n",
      "            \"avg_weekly_trades\": 0.6,\n",
      "            \"trade_count\": 3,\n",
      "            \"lei_notional_sum\": 184000000,\n",
      "            \"eu_trade_count\": 123\n",
      "        },\n",
      "        {\n",
      "            \"RTS2 version\": \"EU 2017/583 of 14 July 2016\",\n",
      "            \"Asset class\": \"Credit Derivatives\",\n",
      "            \"Sub-asset class\": \"CDS index options\",\n",
      "            \"Segmentation criterion 1 description\": \"CDS index sub-class as specified for the sub-asset class of index credit default swap (CDS )\",\n",
      "            \"Segmentation criterion 1\": \"cds_index_sub_class.value\",\n",
      "            \"Segmentation criterion 2 description\": \"time maturity bucket of the option defined as follows:\",\n",
      "            \"Segmentation criterion 2\": \"Maturity bucket 1: Zero to 6 months\"\n",
      "        }\n",
      "    ],\n",
      "    [\n",
      "        \"Status: SI - (a) Liquid instrument test.\",\n",
      "        {\n",
      "            \"eu_notional_sum\": 4752000000,\n",
      "            \"notional_sum\": 48000000,\n",
      "            \"avg_weekly_trades\": 1.0,\n",
      "            \"trade_count\": 5,\n",
      "            \"lei_notional_sum\": 448000000,\n",
      "            \"eu_trade_count\": 195\n",
      "        },\n",
      "        {\n",
      "            \"RTS2 version\": \"EU 2017/583 of 14 July 2016\",\n",
      "            \"Asset class\": \"Credit Derivatives\",\n",
      "            \"Sub-asset class\": \"Single name credit default swap (CDS)\",\n",
      "            \"Segmentation criterion 1 description\": \"underlying reference entity\",\n",
      "            \"Segmentation criterion 1\": \"underlying_ref_entity.value\",\n",
      "            \"Segmentation criterion 2 description\": \"underlying reference entity type defined as follows: \\\"Issuer of sovereign and public type\\\" means an issuer entity which is either: (a) the Union; (b) a Member State including a government department, an agency or a special purpose vehicle of a Member State; (c) a sovereign entity which is not listed under points (a) and (b); (d) in the case of a federal Member State, a member of that federation; (e) a special purpose vehicle for several Member States; (f) an international financial institution established by two or more Member States which have the purpose of mobilising funding and providing financial assistance to the benefit of its members that are experiencing or are threatened by severe financial problems; (g) the European Investment Bank; (h) a public entity which is not a sovereign issuer as specified in the points (a) to (c). \\\"Issuer of corporate type\\\" means an issuer entity which is not an issuer of sovereign and public type.\",\n",
      "            \"Segmentation criterion 2\": \"ref_entity_type.value\",\n",
      "            \"Segmentation criterion 3 description\": \"notional currency defined as the currency in which the notional amount of the derivative is denominated\",\n",
      "            \"Segmentation criterion 3\": \"notional_currency.value\",\n",
      "            \"Segmentation criterion 4 description\": \"time maturity bucket of the CDS defined as follows:\",\n",
      "            \"Segmentation criterion 4\": \"Maturity bucket 1: Zero to 1 year\"\n",
      "        }\n",
      "    ],\n",
      "    [\n",
      "        \"Status: SI - (b) Non-liquid instrument test.\",\n",
      "        {\n",
      "            \"eu_notional_sum\": 3232000000,\n",
      "            \"notional_sum\": 32000000,\n",
      "            \"avg_weekly_trades\": 1.2,\n",
      "            \"trade_count\": 6,\n",
      "            \"lei_notional_sum\": 444000000,\n",
      "            \"eu_trade_count\": 246\n",
      "        },\n",
      "        {\n",
      "            \"RTS2 version\": \"EU 2017/583 of 14 July 2016\",\n",
      "            \"Asset class\": \"Credit Derivatives\",\n",
      "            \"Sub-asset class\": \"Index credit default swap (CDS)\",\n",
      "            \"Segmentation criterion 1 description\": \"underlying index\",\n",
      "            \"Segmentation criterion 1\": \"underlying_index.value\",\n",
      "            \"Segmentation criterion 2 description\": \"notional currency defined as the currency in which the notional amount of the derivative is denominated\",\n",
      "            \"Segmentation criterion 2\": \"notional_currency.value\",\n",
      "            \"Segmentation criterion 3 description\": \"time maturity bucket of the CDS defined as follows:\",\n",
      "            \"Segmentation criterion 3\": \"Maturity bucket 1: Zero to 1 year\"\n",
      "        }\n",
      "    ],\n",
      "    [\n",
      "        \"Status: SI - (a) Liquid instrument test.\",\n",
      "        {\n",
      "            \"eu_notional_sum\": 2323000000,\n",
      "            \"notional_sum\": 23000000,\n",
      "            \"avg_weekly_trades\": 1.6,\n",
      "            \"trade_count\": 8,\n",
      "            \"lei_notional_sum\": 400000000,\n",
      "            \"eu_trade_count\": 312\n",
      "        },\n",
      "        {\n",
      "            \"RTS2 version\": \"EU 2017/583 of 14 July 2016\",\n",
      "            \"Asset class\": \"Credit Derivatives\",\n",
      "            \"Sub-asset class\": \"Other credit derivatives\"\n",
      "        }\n",
      "    ],\n",
      "    [\n",
      "        \"Status: SI - (c) Notional size test.\",\n",
      "        {\n",
      "            \"eu_notional_sum\": 5050000000,\n",
      "            \"notional_sum\": 50000000,\n",
      "            \"avg_weekly_trades\": 0.4,\n",
      "            \"trade_count\": 2,\n",
      "            \"lei_notional_sum\": 121000000,\n",
      "            \"eu_trade_count\": 78\n",
      "        },\n",
      "        {\n",
      "            \"RTS2 version\": \"EU 2017/583 of 14 July 2016\",\n",
      "            \"Asset class\": \"Credit Derivatives\",\n",
      "            \"Sub-asset class\": \"CDS index options\",\n",
      "            \"Segmentation criterion 1 description\": \"CDS index sub-class as specified for the sub-asset class of index credit default swap (CDS )\",\n",
      "            \"Segmentation criterion 1\": \"cds_index_sub_class.value\",\n",
      "            \"Segmentation criterion 2 description\": \"time maturity bucket of the option defined as follows:\",\n",
      "            \"Segmentation criterion 2\": \"Maturity bucket 2: 6 months to 1 year\"\n",
      "        }\n",
      "    ]\n",
      "]\n"
     ]
    }
   ],
   "source": [
    "# First create an instance of our report\n",
    "\n",
    "report = SIReport.for_trades(sample_trades)\n",
    "\n",
    "# Then get the JSON report and print it\n",
    "\n",
    "print(report.report())\n"
   ]
  },
  {
   "cell_type": "markdown",
   "metadata": {},
   "source": [
    "# A Declarative Calculator\n",
    "\n",
    "Here we use Pandas to run the calculation in a more declarative, relational kind of way.\n",
    "\n",
    "First we pick up the EU data from the OO model so the results here will be the same as the results in the OO report above."
   ]
  },
  {
   "cell_type": "code",
   "execution_count": 13,
   "metadata": {
    "collapsed": false
   },
   "outputs": [],
   "source": [
    "def eu_data_for_sub_class(sub_class):\n",
    "    return dict(\n",
    "        rts2_classification=sub_class.sample_trade.rts2_classification.as_json(),\n",
    "        is_liquid=sub_class.is_liquid,\n",
    "        eu_trade_count=sub_class.aggregations.eu_trade_count,\n",
    "        eu_notional_sum=sub_class.aggregations.eu_notional_sum,\n",
    "        )\n",
    "\n",
    "# The set of all trades (by LEI if there is more than one)\n",
    "sub_classes = pd.DataFrame\\\n",
    "    .from_records([eu_data_for_sub_class(s) for s in list(report.sub_classes.values())])\\\n",
    "    .set_index('rts2_classification')"
   ]
  },
  {
   "cell_type": "code",
   "execution_count": 14,
   "metadata": {
    "collapsed": false
   },
   "outputs": [],
   "source": [
    "# Put the essential information for each trade into a Pandas table.\n",
    "\n",
    "def si_details_from_sample(sample_trade):\n",
    "    return dict(\n",
    "        lei=sample_trade.lei,\n",
    "        trade_date=sample_trade.trade_date,\n",
    "        trade_date_week=sample_trade.trade_date_week,\n",
    "        mic=sample_trade.mic,\n",
    "        own_account=sample_trade.own_account,\n",
    "        client_order=sample_trade.client_order,\n",
    "        eur_notional=sample_trade.eur_notional,\n",
    "        rts2_classification=sample_trade.rts2_classification.as_json(),\n",
    "        )\n",
    "\n",
    "all_trades = pd.DataFrame.from_records([si_details_from_sample(s) for s in sample_trades])"
   ]
  },
  {
   "cell_type": "code",
   "execution_count": 15,
   "metadata": {
    "collapsed": false
   },
   "outputs": [],
   "source": [
    "# Get the sum of all trades by RTS 2 sub class and add it as a column to the \n",
    "# This should exactly match the figure in the OO report.\n",
    "\n",
    "lei_notional_sum_series = \\\n",
    "    all_trades[['rts2_classification', 'eur_notional']]\\\n",
    "    .groupby(by='rts2_classification')\\\n",
    "    .sum()\n",
    "\n",
    "sub_classes['lei_notional_sum'] = lei_notional_sum_series"
   ]
  },
  {
   "cell_type": "code",
   "execution_count": 16,
   "metadata": {
    "collapsed": false
   },
   "outputs": [],
   "source": [
    "# Get the trades which are OTC own account client trades\n",
    "si_trades = all_trades[\n",
    "    ~all_trades.mic.isin(eea_mics)\n",
    "    & all_trades.own_account\n",
    "    & all_trades.client_order]"
   ]
  },
  {
   "cell_type": "code",
   "execution_count": 17,
   "metadata": {
    "collapsed": false
   },
   "outputs": [],
   "source": [
    "# For the SI trades, group by RTS 2 classification geting counts and notional sums\n",
    "si_agg_series = si_trades[['rts2_classification', 'eur_notional']]\\\n",
    "    .groupby(by='rts2_classification')\\\n",
    "    .agg(['count', 'sum'])\n",
    "\n",
    "agg_df = pd.DataFrame(si_agg_series)\n",
    "agg_df.columns = ['trade_count', 'notional_sum']\n",
    "\n",
    "sub_classes2 = pd.merge(\n",
    "    sub_classes.reset_index(), \n",
    "    agg_df.reset_index(), \n",
    "    how='inner', on='rts2_classification')"
   ]
  },
  {
   "cell_type": "code",
   "execution_count": 18,
   "metadata": {
    "collapsed": false
   },
   "outputs": [],
   "source": [
    "# Add a column for the average number of trades per week\n",
    "min_week_number = all_trades['trade_date_week'].min()\n",
    "max_week_number = all_trades['trade_date_week'].max()\n",
    "number_of_weeks = max_week_number - min_week_number + 1\n",
    "\n",
    "sub_classes3 = sub_classes2.copy()\n",
    "sub_classes3['avg_weekly_trades'] = sub_classes3['trade_count']\\\n",
    "    .apply(lambda x: x /  number_of_weeks)"
   ]
  },
  {
   "cell_type": "markdown",
   "metadata": {},
   "source": [
    "## This is the calculation"
   ]
  },
  {
   "cell_type": "code",
   "execution_count": 19,
   "metadata": {
    "collapsed": false
   },
   "outputs": [
    {
     "data": {
      "text/html": [
       "<div>\n",
       "<table border=\"1\" class=\"dataframe\">\n",
       "  <thead>\n",
       "    <tr style=\"text-align: right;\">\n",
       "      <th></th>\n",
       "      <th>rts2_classification</th>\n",
       "      <th>eu_notional_sum</th>\n",
       "      <th>eu_trade_count</th>\n",
       "      <th>is_liquid</th>\n",
       "      <th>lei_notional_sum</th>\n",
       "      <th>trade_count</th>\n",
       "      <th>notional_sum</th>\n",
       "      <th>avg_weekly_trades</th>\n",
       "    </tr>\n",
       "  </thead>\n",
       "  <tbody>\n",
       "    <tr>\n",
       "      <th>2</th>\n",
       "      <td>{\"RTS2 version\": \"EU 2017/583 of 14 July 2016\"...</td>\n",
       "      <td>4752000000</td>\n",
       "      <td>195</td>\n",
       "      <td>True</td>\n",
       "      <td>448000000</td>\n",
       "      <td>5</td>\n",
       "      <td>48000000</td>\n",
       "      <td>1.0</td>\n",
       "    </tr>\n",
       "    <tr>\n",
       "      <th>5</th>\n",
       "      <td>{\"RTS2 version\": \"EU 2017/583 of 14 July 2016\"...</td>\n",
       "      <td>2323000000</td>\n",
       "      <td>312</td>\n",
       "      <td>True</td>\n",
       "      <td>400000000</td>\n",
       "      <td>8</td>\n",
       "      <td>23000000</td>\n",
       "      <td>1.6</td>\n",
       "    </tr>\n",
       "  </tbody>\n",
       "</table>\n",
       "</div>"
      ],
      "text/plain": [
       "                                 rts2_classification  eu_notional_sum  \\\n",
       "2  {\"RTS2 version\": \"EU 2017/583 of 14 July 2016\"...       4752000000   \n",
       "5  {\"RTS2 version\": \"EU 2017/583 of 14 July 2016\"...       2323000000   \n",
       "\n",
       "   eu_trade_count is_liquid  lei_notional_sum  trade_count  notional_sum  \\\n",
       "2             195      True         448000000            5      48000000   \n",
       "5             312      True         400000000            8      23000000   \n",
       "\n",
       "   avg_weekly_trades  \n",
       "2                1.0  \n",
       "5                1.6  "
      ]
     },
     "execution_count": 19,
     "metadata": {},
     "output_type": "execute_result"
    }
   ],
   "source": [
    "# Filter a\n",
    "\n",
    "fa = sub_classes3.copy()\n",
    "fa[(fa.is_liquid) \n",
    "   & (fa.trade_count >= (fa.eu_trade_count * 0.025))\n",
    "   & (fa.avg_weekly_trades >= 1)]\n"
   ]
  },
  {
   "cell_type": "code",
   "execution_count": 20,
   "metadata": {
    "collapsed": false
   },
   "outputs": [
    {
     "data": {
      "text/html": [
       "<div>\n",
       "<table border=\"1\" class=\"dataframe\">\n",
       "  <thead>\n",
       "    <tr style=\"text-align: right;\">\n",
       "      <th></th>\n",
       "      <th>rts2_classification</th>\n",
       "      <th>eu_notional_sum</th>\n",
       "      <th>eu_trade_count</th>\n",
       "      <th>is_liquid</th>\n",
       "      <th>lei_notional_sum</th>\n",
       "      <th>trade_count</th>\n",
       "      <th>notional_sum</th>\n",
       "      <th>avg_weekly_trades</th>\n",
       "    </tr>\n",
       "  </thead>\n",
       "  <tbody>\n",
       "    <tr>\n",
       "      <th>0</th>\n",
       "      <td>{\"RTS2 version\": \"EU 2017/583 of 14 July 2016\"...</td>\n",
       "      <td>4554000000</td>\n",
       "      <td>205</td>\n",
       "      <td>False</td>\n",
       "      <td>304000000</td>\n",
       "      <td>5</td>\n",
       "      <td>46000000</td>\n",
       "      <td>1.0</td>\n",
       "    </tr>\n",
       "    <tr>\n",
       "      <th>4</th>\n",
       "      <td>{\"RTS2 version\": \"EU 2017/583 of 14 July 2016\"...</td>\n",
       "      <td>3232000000</td>\n",
       "      <td>246</td>\n",
       "      <td>False</td>\n",
       "      <td>444000000</td>\n",
       "      <td>6</td>\n",
       "      <td>32000000</td>\n",
       "      <td>1.2</td>\n",
       "    </tr>\n",
       "  </tbody>\n",
       "</table>\n",
       "</div>"
      ],
      "text/plain": [
       "                                 rts2_classification  eu_notional_sum  \\\n",
       "0  {\"RTS2 version\": \"EU 2017/583 of 14 July 2016\"...       4554000000   \n",
       "4  {\"RTS2 version\": \"EU 2017/583 of 14 July 2016\"...       3232000000   \n",
       "\n",
       "   eu_trade_count is_liquid  lei_notional_sum  trade_count  notional_sum  \\\n",
       "0             205     False         304000000            5      46000000   \n",
       "4             246     False         444000000            6      32000000   \n",
       "\n",
       "   avg_weekly_trades  \n",
       "0                1.0  \n",
       "4                1.2  "
      ]
     },
     "execution_count": 20,
     "metadata": {},
     "output_type": "execute_result"
    }
   ],
   "source": [
    "# Filter b\n",
    "\n",
    "fb = sub_classes3.copy()\n",
    "fb[(~fb.is_liquid) \n",
    "   & (fb.avg_weekly_trades >= 1)]\n"
   ]
  },
  {
   "cell_type": "code",
   "execution_count": 21,
   "metadata": {
    "collapsed": false
   },
   "outputs": [
    {
     "data": {
      "text/html": [
       "<div>\n",
       "<table border=\"1\" class=\"dataframe\">\n",
       "  <thead>\n",
       "    <tr style=\"text-align: right;\">\n",
       "      <th></th>\n",
       "      <th>rts2_classification</th>\n",
       "      <th>eu_notional_sum</th>\n",
       "      <th>eu_trade_count</th>\n",
       "      <th>is_liquid</th>\n",
       "      <th>lei_notional_sum</th>\n",
       "      <th>trade_count</th>\n",
       "      <th>notional_sum</th>\n",
       "      <th>avg_weekly_trades</th>\n",
       "    </tr>\n",
       "  </thead>\n",
       "  <tbody>\n",
       "    <tr>\n",
       "      <th>0</th>\n",
       "      <td>{\"RTS2 version\": \"EU 2017/583 of 14 July 2016\"...</td>\n",
       "      <td>4554000000</td>\n",
       "      <td>205</td>\n",
       "      <td>False</td>\n",
       "      <td>304000000</td>\n",
       "      <td>5</td>\n",
       "      <td>46000000</td>\n",
       "      <td>1.0</td>\n",
       "    </tr>\n",
       "    <tr>\n",
       "      <th>1</th>\n",
       "      <td>{\"RTS2 version\": \"EU 2017/583 of 14 July 2016\"...</td>\n",
       "      <td>693000000</td>\n",
       "      <td>123</td>\n",
       "      <td>True</td>\n",
       "      <td>184000000</td>\n",
       "      <td>3</td>\n",
       "      <td>7000000</td>\n",
       "      <td>0.6</td>\n",
       "    </tr>\n",
       "    <tr>\n",
       "      <th>2</th>\n",
       "      <td>{\"RTS2 version\": \"EU 2017/583 of 14 July 2016\"...</td>\n",
       "      <td>4752000000</td>\n",
       "      <td>195</td>\n",
       "      <td>True</td>\n",
       "      <td>448000000</td>\n",
       "      <td>5</td>\n",
       "      <td>48000000</td>\n",
       "      <td>1.0</td>\n",
       "    </tr>\n",
       "    <tr>\n",
       "      <th>7</th>\n",
       "      <td>{\"RTS2 version\": \"EU 2017/583 of 14 July 2016\"...</td>\n",
       "      <td>5050000000</td>\n",
       "      <td>78</td>\n",
       "      <td>True</td>\n",
       "      <td>121000000</td>\n",
       "      <td>2</td>\n",
       "      <td>50000000</td>\n",
       "      <td>0.4</td>\n",
       "    </tr>\n",
       "  </tbody>\n",
       "</table>\n",
       "</div>"
      ],
      "text/plain": [
       "                                 rts2_classification  eu_notional_sum  \\\n",
       "0  {\"RTS2 version\": \"EU 2017/583 of 14 July 2016\"...       4554000000   \n",
       "1  {\"RTS2 version\": \"EU 2017/583 of 14 July 2016\"...        693000000   \n",
       "2  {\"RTS2 version\": \"EU 2017/583 of 14 July 2016\"...       4752000000   \n",
       "7  {\"RTS2 version\": \"EU 2017/583 of 14 July 2016\"...       5050000000   \n",
       "\n",
       "   eu_trade_count is_liquid  lei_notional_sum  trade_count  notional_sum  \\\n",
       "0             205     False         304000000            5      46000000   \n",
       "1             123      True         184000000            3       7000000   \n",
       "2             195      True         448000000            5      48000000   \n",
       "7              78      True         121000000            2      50000000   \n",
       "\n",
       "   avg_weekly_trades  \n",
       "0                1.0  \n",
       "1                0.6  \n",
       "2                1.0  \n",
       "7                0.4  "
      ]
     },
     "execution_count": 21,
     "metadata": {},
     "output_type": "execute_result"
    }
   ],
   "source": [
    "# Filter c\n",
    "\n",
    "fc = sub_classes3.copy()\n",
    "fc[  (fc.notional_sum >= (fc.lei_notional_sum * 0.25))\n",
    "   | (fc.notional_sum >= (fc.eu_notional_sum * 0.01))]\n"
   ]
  }
 ],
 "metadata": {
  "kernelspec": {
   "display_name": "Python 3",
   "language": "python",
   "name": "python3"
  },
  "language_info": {
   "codemirror_mode": {
    "name": "ipython",
    "version": 3
   },
   "file_extension": ".py",
   "mimetype": "text/x-python",
   "name": "python",
   "nbconvert_exporter": "python",
   "pygments_lexer": "ipython3",
   "version": "3.5.3"
  }
 },
 "nbformat": 4,
 "nbformat_minor": 2
}
