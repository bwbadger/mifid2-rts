{
 "cells": [
  {
   "cell_type": "markdown",
   "metadata": {
    "collapsed": true
   },
   "source": [
    "## SI Calculation: an example using generated sample trades\n",
    "\n",
    "Here we will generate sample trades from the RTS 2 Annex III taxonomy.  Each sample trade is then enriched with the information needed run an SI calculation.\n",
    "\n",
    "Once the trade data is assembled the the data normally provided by the regulator is synthesised.\n",
    "\n",
    "Lastly, the SI calculations are run\n",
    "\n",
    "The SI calculation includes a number of tests.  See the official word:\n",
    "https://ec.europa.eu/transparency/regdoc/rep/3/2016/EN/3-2016-2398-EN-F1-1.PDF\n",
    "\n",
    "# Step 1 - Prepare the trade data\n",
    "\n",
    "The first step is to use the RTS 2 Annex III taxonomy to generate some sample trades.\n"
   ]
  },
  {
   "cell_type": "code",
   "execution_count": 1,
   "metadata": {
    "collapsed": false
   },
   "outputs": [
    {
     "name": "stdout",
     "output_type": "stream",
     "text": [
      "{'sub_asset_class_name': 'Bespoke basket credit default swap (CDS)', 'asset_class_name': 'Credit Derivatives'}\n"
     ]
    }
   ],
   "source": [
    "import rts2_annex3\n",
    "import random\n",
    "import json\n",
    "\n",
    "random.seed()\n",
    "\n",
    "root = rts2_annex3.class_root\n",
    "\n",
    "asset_class = root.asset_class_by_name(\"Credit Derivatives\")\n",
    "\n",
    "# Ask the Asset class to generate some sample trade\n",
    "sample_trades = asset_class.make_test_samples(number=500)\n",
    "\n",
    "# Print the one of the generated trades\n",
    "print(vars(random.choice(sample_trades)))\n"
   ]
  },
  {
   "cell_type": "markdown",
   "metadata": {},
   "source": [
    "## LEIs\n",
    "\n",
    "In a real firm with real trades we would need to know the LEI (Legal Entity Identifier) of the legal entity which did each trade because SI status is reported distinctly for each legal entity (LEI).\n",
    "\n",
    "Quite often firms will do trades within a single legal entity, perhaps to move risk from one trading desk to another.  These are called intra-entity trades and must be filtered out before the SI calculation.  For this example we'll say that all the trades we generated are inter-entity trades, trades between distinct legal entities, so we count them all.\n",
    "\n",
    "In this example we'll use just one LEI, and not even a valid one, but it will suffice for the example."
   ]
  },
  {
   "cell_type": "code",
   "execution_count": 2,
   "metadata": {
    "collapsed": false
   },
   "outputs": [
    {
     "name": "stdout",
     "output_type": "stream",
     "text": [
      "{'sub_asset_class_name': 'Other credit derivatives', 'asset_class_name': 'Credit Derivatives', 'our_lei': 'Our_LEI_here'}\n"
     ]
    }
   ],
   "source": [
    "# Add our LEI to each trade\n",
    "our_lei = 'Our_LEI_here'\n",
    "for sample_trade in sample_trades:\n",
    "    sample_trade.our_lei = our_lei\n",
    "\n",
    "# Print the one of the modified sample trades\n",
    "print(vars(random.choice(sample_trades)))"
   ]
  },
  {
   "cell_type": "markdown",
   "metadata": {},
   "source": [
    "## Trade Date\n",
    "The SI calculation includes checks for frequency, the number of trades done in a single week.  To work that out we need a trade date for each trade.  Here we'll just use a few dates and add these to our sample trades."
   ]
  },
  {
   "cell_type": "code",
   "execution_count": 3,
   "metadata": {
    "collapsed": false
   },
   "outputs": [
    {
     "name": "stdout",
     "output_type": "stream",
     "text": [
      "{'cds_sub_class': 'cds_sub_class.value', 'from_date': datetime.date(2018, 4, 25), 'sub_asset_class_name': 'Single name CDS options', 'to_date': datetime.date(2018, 5, 25), 'asset_class_name': 'Credit Derivatives', 'trade_date': datetime.date(2018, 4, 18), 'trade_date_week': 16, 'our_lei': 'Our_LEI_here'}\n"
     ]
    }
   ],
   "source": [
    "# We give each sample trade a trade date in a 30 day range of dates\n",
    "# and an ISO week number (c.f. https://en.wikipedia.org/wiki/ISO_week_date)\n",
    "\n",
    "import datetime\n",
    "\n",
    "sample_dates = []\n",
    "today = datetime.date.today()\n",
    "for day_number in range(-30, 0):\n",
    "    a_date =  today + datetime.timedelta(day_number)\n",
    "    if a_date.weekday() < 6:\n",
    "        sample_dates.append(a_date)\n",
    "\n",
    "for sample_trade in sample_trades:\n",
    "    selected_date = random.choice(sample_dates)\n",
    "    sample_trade.trade_date = selected_date\n",
    "    sample_trade.trade_date_week = selected_date.isocalendar()[1]\n",
    "    \n",
    "# Print the one of the modified sample trades\n",
    "print(vars(random.choice(sample_trades)))"
   ]
  },
  {
   "cell_type": "markdown",
   "metadata": {},
   "source": [
    "## MIC\n",
    "The Market Identifier Code (MIC) is the ISO 10383 ID for a trading venue, for example a stock exchange.  The regulator is expected to provide a list of MIC values which identify venues which are recognised for the purposes of the SI calculation.  Trades which are done on vs. off recognised venues are counted differently."
   ]
  },
  {
   "cell_type": "code",
   "execution_count": 4,
   "metadata": {
    "collapsed": false
   },
   "outputs": [
    {
     "name": "stdout",
     "output_type": "stream",
     "text": [
      "{'cds_sub_class': 'cds_sub_class.value', 'from_date': datetime.date(2018, 4, 25), 'mic': 'OFF1', 'sub_asset_class_name': 'Single name CDS options', 'to_date': datetime.date(2018, 5, 25), 'asset_class_name': 'Credit Derivatives', 'trade_date': datetime.date(2018, 4, 20), 'trade_date_week': 16, 'our_lei': 'Our_LEI_here'}\n"
     ]
    }
   ],
   "source": [
    "# We define our MICs.  A MIC value is always 4 charcters in length.  The values used\n",
    "# here are made-up nonsense, but good enough for an illustration\n",
    "\n",
    "eea_mics = ['EEA1', 'EEA2', 'EEA3']\n",
    "non_eea_mics = ['OFF1', 'OFF2', 'OFF3', 'OFF4']\n",
    "all_mics = eea_mics + non_eea_mics\n",
    "\n",
    "# Add a MIC to each sample trade\n",
    "for sample_trade in sample_trades:\n",
    "    sample_trade.mic = random.choice(all_mics)\n",
    "\n",
    "# Print the one of the modified sample trades\n",
    "print(vars(random.choice(sample_trades)))"
   ]
  },
  {
   "cell_type": "markdown",
   "metadata": {},
   "source": [
    "## Own Account\n",
    "\n",
    "We need to know if a trade was done on the firms own account.  Such trades are counted differently. "
   ]
  },
  {
   "cell_type": "code",
   "execution_count": 5,
   "metadata": {
    "collapsed": false
   },
   "outputs": [
    {
     "name": "stdout",
     "output_type": "stream",
     "text": [
      "{'sub_asset_class_name': 'Other credit derivatives', 'own_account': True, 'asset_class_name': 'Credit Derivatives', 'mic': 'EEA2', 'trade_date': datetime.date(2018, 4, 5), 'trade_date_week': 14, 'our_lei': 'Our_LEI_here'}\n"
     ]
    }
   ],
   "source": [
    "# Own Account is simply a boolean.  Either this is a trade which the regulator views\n",
    "# as being on own account, or not.  I use a random boolean with a probability.\n",
    "\n",
    "own_account_probability = 0.25\n",
    "\n",
    "for sample_trade in sample_trades:\n",
    "    sample_trade.own_account = random.random() < own_account_probability\n",
    "    \n",
    "# Print the one of the modified sample trades\n",
    "print(vars(random.choice(sample_trades)))"
   ]
  },
  {
   "cell_type": "markdown",
   "metadata": {},
   "source": [
    "## Client Order\n",
    "\n",
    "We need to know if a trade was done in response to a client order.  Such trades are counted differently. "
   ]
  },
  {
   "cell_type": "code",
   "execution_count": 6,
   "metadata": {
    "collapsed": false
   },
   "outputs": [
    {
     "name": "stdout",
     "output_type": "stream",
     "text": [
      "{'client_order': True, 'sub_asset_class_name': 'Other credit derivatives', 'own_account': False, 'asset_class_name': 'Credit Derivatives', 'mic': 'OFF2', 'trade_date': datetime.date(2018, 4, 23), 'trade_date_week': 17, 'our_lei': 'Our_LEI_here'}\n"
     ]
    }
   ],
   "source": [
    "# Client Order is also simply a boolean.  Either this is a trade which was done\n",
    "# in response to a client order, or not.  I use a random boolean.\n",
    "\n",
    "client_order_probability = 0.5\n",
    "\n",
    "for sample_trade in sample_trades:\n",
    "    sample_trade.client_order = random.random() < client_order_probability\n",
    "    \n",
    "# Print the one of the modified sample trades\n",
    "print(vars(random.choice(sample_trades)))"
   ]
  },
  {
   "cell_type": "markdown",
   "metadata": {},
   "source": [
    "## EUR Notional\n",
    "Another measure used by the SI calculation is the EUR notional value of each trade.  Here we assign a notional value to each trade."
   ]
  },
  {
   "cell_type": "code",
   "execution_count": 7,
   "metadata": {
    "collapsed": false
   },
   "outputs": [
    {
     "name": "stdout",
     "output_type": "stream",
     "text": [
      "{'from_date': datetime.date(2018, 4, 25), 'own_account': True, 'mic': 'OFF3', 'cds_index_sub_class': 'cds_index_sub_class.value', 'eur_notional': 10000000, 'sub_asset_class_name': 'CDS index options', 'to_date': datetime.date(2018, 10, 22), 'asset_class_name': 'Credit Derivatives', 'client_order': True, 'trade_date': datetime.date(2018, 3, 28), 'trade_date_week': 13, 'our_lei': 'Our_LEI_here'}\n"
     ]
    }
   ],
   "source": [
    "# Add a random-ish Euro Notional amount of n million EUR to each trade\n",
    "notional_amounts = [x * 1000000 for x in [1, 1, 1, 2, 2, 5, 10, 25]]\n",
    "\n",
    "for sample_trade in sample_trades:\n",
    "    sample_trade.eur_notional = random.choice(notional_amounts)\n",
    "\n",
    "# Print one of the modified sample trades\n",
    "print(vars(random.choice(sample_trades)))"
   ]
  },
  {
   "cell_type": "markdown",
   "metadata": {},
   "source": [
    "## RTS 2 Annex III Classification\n",
    "The last step before we start the SI calculation is to add the RTS 2 Annex III classification to each trade."
   ]
  },
  {
   "cell_type": "code",
   "execution_count": 8,
   "metadata": {
    "collapsed": false
   },
   "outputs": [
    {
     "name": "stdout",
     "output_type": "stream",
     "text": [
      "{\"RTS2 version\": \"EU 2017/583 of 14 July 2016\", \"Asset class\": \"Credit Derivatives\", \"Sub-asset class\": \"CDS index options\", \"Segmentation criterion 1 description\": \"CDS index sub-class as specified for the sub-asset class of index credit default swap (CDS )\", \"Segmentation criterion 1\": \"cds_index_sub_class.value\", \"Segmentation criterion 2 description\": \"time maturity bucket of the option defined as follows:\", \"Segmentation criterion 2\": \"Maturity bucket 1: Zero to 6 months\"}\n"
     ]
    }
   ],
   "source": [
    "# Now classify each trade and add the JSON classification back to the trade\n",
    "for sample_trade in sample_trades:\n",
    "    classification = root.classification_for(subject=sample_trade)\n",
    "    json_classification = json.dumps(classification.classification_dict())\n",
    "    sample_trade.rts2_classification = json_classification\n",
    "\n",
    "print(random.choice(sample_trades).rts2_classification)"
   ]
  },
  {
   "cell_type": "code",
   "execution_count": null,
   "metadata": {
    "collapsed": true
   },
   "outputs": [],
   "source": [
    "# We define a class to represent an RTS2 sub class in the context of an\n",
    "# SI calculation.  Instances can answer all the questions for three tests\n",
    "# To keep the variable names a bit shorter I call \n",
    "\n",
    "class SubClass(object):\n",
    "    def __init__(self, classification)\n",
    "        self.classification = classification\n",
    "        self.trades = []\n",
    "        self._results = None\n",
    "        self._is_liquid = None\n",
    "        self._client_own_otc_count = None\n",
    "        self._client_own_otc_avg_weekly_count = None\n",
    "        self._client_own_otc_notional = None\n",
    "        \n",
    "        "
   ]
  },
  {
   "cell_type": "markdown",
   "metadata": {},
   "source": [
    "## Put the trade data in to Pandas tables\n",
    "\n",
    "The SI calculation requires a number of selections of the trade population.  See the comments below for details of each selection."
   ]
  },
  {
   "cell_type": "code",
   "execution_count": 9,
   "metadata": {
    "collapsed": false
   },
   "outputs": [],
   "source": [
    "# Put the essential information for each trade into a Pandas table.\n",
    "\n",
    "import pandas as pd\n",
    "\n",
    "def si_details_from_sample(sample_trade):\n",
    "    return dict(\n",
    "        lei=sample_trade.our_lei,\n",
    "        trade_date=sample_trade.trade_date,\n",
    "        trade_date_week=sample_trade.trade_date_week,\n",
    "        mic=sample_trade.mic,\n",
    "        own_account=sample_trade.own_account,\n",
    "        client_order=sample_trade.client_order,\n",
    "        eur_notional=sample_trade.eur_notional,\n",
    "        rts2_classification=sample_trade.rts2_classification,\n",
    "        )\n",
    "\n",
    "# The set of all trades (by LEI if there is more than one)\n",
    "all_trades = pd.DataFrame.from_records([si_details_from_sample(s) for s in sample_trades])\n",
    "\n",
    "# The subset of all trades which were not done on an EEA venue (i.e. OTC trades)\n",
    "otc_trades = all_trades[~all_trades.mic.isin(eea_mics)]\n",
    "\n",
    "# The subset of OTC trades which were done on the banks own account\n",
    "own_account_otc_trades = otc_trades[otc_trades.own_account]\n",
    "\n",
    "# The subset of own account OTC trades which were done in response to client orders\n",
    "client_own_account_otc_trades = own_account_otc_trades[own_account_otc_trades.client_order]\n"
   ]
  },
  {
   "cell_type": "markdown",
   "metadata": {},
   "source": [
    "# Step 2 - The Regulator Supplied Data\n",
    "\n",
    "The regulator is expected to provide information about each sub class:\n",
    "* Is the sub class liquid?\n",
    "* How many trades of that sub class were done in the whole EU?\n",
    "* What is the total EUR notional value traded in that sub class in the whole EU?\n",
    "\n",
    "We don't have any regulator supplied data here so we synthesise some."
   ]
  },
  {
   "cell_type": "code",
   "execution_count": 10,
   "metadata": {
    "collapsed": false
   },
   "outputs": [
    {
     "data": {
      "text/plain": [
       "dict_values([False, False, False, True, True, True, True, False, True, True, False, True])"
      ]
     },
     "execution_count": 10,
     "metadata": {},
     "output_type": "execute_result"
    }
   ],
   "source": [
    "# For every RTS 2 sub class we need to decide if it is liquid or not\n",
    "# We simply generate a random true/false for each sub class and use\n",
    "# a dictionary to hold the result so we can look it up later.\n",
    "\n",
    "distinct_sub_classes = all_trades.rts2_classification.unique()\n",
    "liquidity_dictionary = dict()\n",
    "for sub_class in distinct_sub_classes:\n",
    "    is_liquid = random.random() < 0.5\n",
    "    liquidity_dictionary[sub_class] = is_liquid\n",
    "liquidity_dictionary.values()\n"
   ]
  },
  {
   "cell_type": "code",
   "execution_count": 41,
   "metadata": {
    "collapsed": false
   },
   "outputs": [
    {
     "data": {
      "text/html": [
       "<div>\n",
       "<table border=\"1\" class=\"dataframe\">\n",
       "  <thead>\n",
       "    <tr style=\"text-align: right;\">\n",
       "      <th></th>\n",
       "      <th>rts2_classification</th>\n",
       "      <th>trade_count</th>\n",
       "      <th>trade_notional_sum</th>\n",
       "      <th>eu_count</th>\n",
       "      <th>eu_eur_notional</th>\n",
       "      <th>avg_weekly_trades</th>\n",
       "      <th>is_liquid</th>\n",
       "    </tr>\n",
       "  </thead>\n",
       "  <tbody>\n",
       "    <tr>\n",
       "      <th>0</th>\n",
       "      <td>{\"RTS2 version\": \"EU 2017/583 of 14 July 2016\"...</td>\n",
       "      <td>8</td>\n",
       "      <td>82000000</td>\n",
       "      <td>328</td>\n",
       "      <td>8118000000</td>\n",
       "      <td>1.6</td>\n",
       "      <td>False</td>\n",
       "    </tr>\n",
       "    <tr>\n",
       "      <th>1</th>\n",
       "      <td>{\"RTS2 version\": \"EU 2017/583 of 14 July 2016\"...</td>\n",
       "      <td>5</td>\n",
       "      <td>49000000</td>\n",
       "      <td>205</td>\n",
       "      <td>4949000000</td>\n",
       "      <td>1.0</td>\n",
       "      <td>False</td>\n",
       "    </tr>\n",
       "  </tbody>\n",
       "</table>\n",
       "</div>"
      ],
      "text/plain": [
       "                                 rts2_classification  trade_count  \\\n",
       "0  {\"RTS2 version\": \"EU 2017/583 of 14 July 2016\"...            8   \n",
       "1  {\"RTS2 version\": \"EU 2017/583 of 14 July 2016\"...            5   \n",
       "\n",
       "   trade_notional_sum  eu_count  eu_eur_notional  avg_weekly_trades is_liquid  \n",
       "0            82000000       328       8118000000                1.6     False  \n",
       "1            49000000       205       4949000000                1.0     False  "
      ]
     },
     "execution_count": 41,
     "metadata": {},
     "output_type": "execute_result"
    }
   ],
   "source": [
    "# The values which will be compared with the EU trade count and sum(eur_notional)\n",
    "# are the counts and totals of the own account OTC trades which were done in \n",
    "# response to client orders.  We synthesise the test EU numbers from these.\n",
    "\n",
    "# First we get the counts and sum of notional, grouping by sub class (RTS 2 string)\n",
    "notional_by_sub_class = client_own_account_otc_trades[['rts2_classification', 'eur_notional']]\\\n",
    "    .groupby(by='rts2_classification')\n",
    "sums_series = notional_by_sub_class.agg(['count', 'sum'])\n",
    "sums_df = pd.DataFrame(sums_series)\n",
    "\n",
    "sums_df.columns = sums_df.columns.get_level_values(0)\n",
    "sums_df = sums_df.reset_index()\n",
    "sums_df.columns = pd.Index(\n",
    "    ['rts2_classification', 'trade_count', 'trade_notional_sum'], \n",
    "    dtype='object')\n",
    "\n",
    "# We add a column for the EU trade count for each sub class.  For this exercise, the\n",
    "# threshold for being an SI is if our LEO count for the subclass is >= 2.5% of\n",
    "# the EU count.  The EU figure is randomly set to be a bit more or a bit less than\n",
    "# will trigger SI status.\n",
    "\n",
    "sums_df['eu_count'] = sums_df['trade_count']\\\n",
    "    .apply(lambda x: x * 40 + random.choice([x * -1, x]) )\n",
    "\n",
    "# Add a column for the EU notional for each sub class.  The threshold for\n",
    "# notional is 1% of the EU figure.  Again the EU number is randomly tweaked\n",
    "sums_df['eu_eur_notional'] = sums_df['trade_notional_sum']\\\n",
    "    .apply(lambda x: x * 100 + random.choice([x * -1, x]) )\n",
    "\n",
    "\n",
    "# Add a column for the average number of trades per week\n",
    "min_week_number = all_trades['trade_date_week'].min()\n",
    "max_week_number = all_trades['trade_date_week'].max()\n",
    "number_of_weeks = max_week_number - min_week_number + 1\n",
    "sums_df['avg_weekly_trades'] = sums_df['trade_count']\\\n",
    "    .apply(lambda x: x /  number_of_weeks)\n",
    "\n",
    "# Add a column which indicates if the subclass is liquid\n",
    "sums_df['is_liquid'] = sums_df['rts2_classification']\\\n",
    "    .apply(lambda x: liquidity_dictionary[x] )\n",
    "\n",
    "sums_df.head(2)"
   ]
  },
  {
   "cell_type": "markdown",
   "metadata": {},
   "source": [
    "# Step 3 - Do the SI calculation\n",
    "\n",
    "The \"calculation\" is really a set of filters which might catch an RTS 2 subclass for an LEI\n",
    "\n",
    "1. If the RTS 2 Annex III sub class is liquid\n",
    "   - and the count of client own-account otc trades >= 2.5% of eu_rts2_trade_count\n",
    "   - and average weekly number of client own-account otc trades >= 1\n",
    "2. If the RTS 2 Annex III sub class is not liquid \n",
    "   - and average weekly number of client own-account otc trade >= 1\n",
    "3. If the sum of EUR notional for client own-account otc trades is\n",
    "   - \\>= 25% of all trades notional for the LEI\n",
    "   - **or** >= 1% of EU trade notional"
   ]
  },
  {
   "cell_type": "code",
   "execution_count": 38,
   "metadata": {
    "collapsed": false
   },
   "outputs": [
    {
     "data": {
      "text/html": [
       "<div>\n",
       "<table border=\"1\" class=\"dataframe\">\n",
       "  <thead>\n",
       "    <tr style=\"text-align: right;\">\n",
       "      <th></th>\n",
       "      <th>rts2_classification</th>\n",
       "      <th>trade_count</th>\n",
       "      <th>trade_notional_sum</th>\n",
       "      <th>eu_count</th>\n",
       "      <th>eu_eur_notional</th>\n",
       "      <th>avg_weekly_trades</th>\n",
       "      <th>is_liquid</th>\n",
       "    </tr>\n",
       "  </thead>\n",
       "  <tbody>\n",
       "    <tr>\n",
       "      <th>3</th>\n",
       "      <td>{\"RTS2 version\": \"EU 2017/583 of 14 July 2016\"...</td>\n",
       "      <td>8</td>\n",
       "      <td>78000000</td>\n",
       "      <td>312</td>\n",
       "      <td>7722000000</td>\n",
       "      <td>1.6</td>\n",
       "      <td>True</td>\n",
       "    </tr>\n",
       "    <tr>\n",
       "      <th>4</th>\n",
       "      <td>{\"RTS2 version\": \"EU 2017/583 of 14 July 2016\"...</td>\n",
       "      <td>6</td>\n",
       "      <td>55000000</td>\n",
       "      <td>234</td>\n",
       "      <td>5445000000</td>\n",
       "      <td>1.2</td>\n",
       "      <td>True</td>\n",
       "    </tr>\n",
       "  </tbody>\n",
       "</table>\n",
       "</div>"
      ],
      "text/plain": [
       "                                 rts2_classification  trade_count  \\\n",
       "3  {\"RTS2 version\": \"EU 2017/583 of 14 July 2016\"...            8   \n",
       "4  {\"RTS2 version\": \"EU 2017/583 of 14 July 2016\"...            6   \n",
       "\n",
       "   trade_notional_sum  eu_count  eu_eur_notional  avg_weekly_trades is_liquid  \n",
       "3            78000000       312       7722000000                1.6      True  \n",
       "4            55000000       234       5445000000                1.2      True  "
      ]
     },
     "execution_count": 38,
     "metadata": {},
     "output_type": "execute_result"
    }
   ],
   "source": [
    "# Filter 1:  This is looking at the trades we have in client_own_account_otc_trades.\n",
    "# We need to join the liquidity, EU trade count and weekly trade avereages data \n",
    "# with trades data frame, then we can for which the following three things are true:\n",
    "#    The RTS 2 sub class is liquid\n",
    "#    The count of our trades for that sub class >= 2.5% of the EU count\n",
    "#    More than one trade per week was done on average\n",
    "\n",
    "x1 = sums_df.copy()\n",
    "x1[(x1.is_liquid) \n",
    "   & (x1.trade_count >= (x1.eu_count * 0.025))\n",
    "   & (x1.avg_weekly_trades >= 1)]\n"
   ]
  },
  {
   "cell_type": "code",
   "execution_count": 40,
   "metadata": {
    "collapsed": false
   },
   "outputs": [
    {
     "data": {
      "text/html": [
       "<div>\n",
       "<table border=\"1\" class=\"dataframe\">\n",
       "  <thead>\n",
       "    <tr style=\"text-align: right;\">\n",
       "      <th></th>\n",
       "      <th>rts2_classification</th>\n",
       "      <th>trade_count</th>\n",
       "      <th>trade_notional_sum</th>\n",
       "      <th>eu_count</th>\n",
       "      <th>eu_eur_notional</th>\n",
       "      <th>avg_weekly_trades</th>\n",
       "      <th>is_liquid</th>\n",
       "    </tr>\n",
       "  </thead>\n",
       "  <tbody>\n",
       "    <tr>\n",
       "      <th>0</th>\n",
       "      <td>{\"RTS2 version\": \"EU 2017/583 of 14 July 2016\"...</td>\n",
       "      <td>8</td>\n",
       "      <td>82000000</td>\n",
       "      <td>312</td>\n",
       "      <td>8118000000</td>\n",
       "      <td>1.6</td>\n",
       "      <td>False</td>\n",
       "    </tr>\n",
       "  </tbody>\n",
       "</table>\n",
       "</div>"
      ],
      "text/plain": [
       "                                 rts2_classification  trade_count  \\\n",
       "0  {\"RTS2 version\": \"EU 2017/583 of 14 July 2016\"...            8   \n",
       "\n",
       "   trade_notional_sum  eu_count  eu_eur_notional  avg_weekly_trades is_liquid  \n",
       "0            82000000       312       8118000000                1.6     False  "
      ]
     },
     "execution_count": 40,
     "metadata": {},
     "output_type": "execute_result"
    }
   ],
   "source": [
    "# Filter 2 just looks at the average weekly number of trades for non liquid sub classes\n",
    "\n",
    "x2 = sums_df.copy()\n",
    "x2[(~x2.is_liquid) \n",
    "   & (x1.avg_weekly_trades > 1)]\n"
   ]
  },
  {
   "cell_type": "code",
   "execution_count": null,
   "metadata": {
    "collapsed": true
   },
   "outputs": [],
   "source": [
    "# Filter 3\n",
    "# If the sum of EUR notional for client own-account otc trades is\n",
    "#    >= 25% of all trades notional for the LEI\n",
    "#    or >= 1% of EU trade notional\n"
   ]
  }
 ],
 "metadata": {
  "kernelspec": {
   "display_name": "Python 3",
   "language": "python",
   "name": "python3"
  },
  "language_info": {
   "codemirror_mode": {
    "name": "ipython",
    "version": 3
   },
   "file_extension": ".py",
   "mimetype": "text/x-python",
   "name": "python",
   "nbconvert_exporter": "python",
   "pygments_lexer": "ipython3",
   "version": "3.5.3"
  }
 },
 "nbformat": 4,
 "nbformat_minor": 2
}
