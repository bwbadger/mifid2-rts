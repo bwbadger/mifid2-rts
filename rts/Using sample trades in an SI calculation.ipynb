{
 "cells": [
  {
   "cell_type": "markdown",
   "metadata": {
    "collapsed": true
   },
   "source": [
    "## SI Calculation: an example using generated sample trades\n",
    "\n",
    "Here we will generate sample trades from the RTS 2 Annex III taxonomy.  Each sample trade is then enriched with the information needed run an SI calculation.\n",
    "\n",
    "Once the trade data is assembled the the data normally provided by the regulator is synthesised.\n",
    "\n",
    "Lastly, the SI calculations are run\n",
    "\n",
    "The SI calculation includes a number of tests.  See the official word:\n",
    "https://ec.europa.eu/transparency/regdoc/rep/3/2016/EN/3-2016-2398-EN-F1-1.PDF\n",
    "\n",
    "# Step 1 - Prepare the trade data\n",
    "\n",
    "The first step is to use the RTS 2 Annex III taxonomy to generate some sample trades.\n"
   ]
  },
  {
   "cell_type": "code",
   "execution_count": 6,
   "metadata": {
    "collapsed": false
   },
   "outputs": [
    {
     "name": "stdout",
     "output_type": "stream",
     "text": [
      "{'notional_currency': 'notional_currency.value', 'from_date': datetime.date(2018, 4, 26), 'underlying_index': 'underlying_index.value', 'to_date': datetime.date(2018, 10, 23), 'sub_asset_class_name': 'Index credit default swap (CDS)', 'asset_class_name': 'Credit Derivatives'}\n"
     ]
    }
   ],
   "source": [
    "import rts2_annex3\n",
    "import random\n",
    "import json\n",
    "\n",
    "random.seed()\n",
    "\n",
    "root = rts2_annex3.class_root\n",
    "\n",
    "asset_class = root.asset_class_by_name(\"Credit Derivatives\")\n",
    "\n",
    "# Ask the Asset class to generate some sample trade\n",
    "sample_trades = asset_class.make_test_samples(number=500)\n",
    "\n",
    "# Print the one of the generated trades\n",
    "print(vars(random.choice(sample_trades)))\n"
   ]
  },
  {
   "cell_type": "markdown",
   "metadata": {},
   "source": [
    "## LEIs\n",
    "\n",
    "In a real firm with real trades we would need to know the LEI (Legal Entity Identifier) of the legal entity which did each trade because SI status is reported distinctly for each legal entity (LEI).\n",
    "\n",
    "Quite often firms will do trades within a single legal entity, perhaps to move risk from one trading desk to another.  These are called intra-entity trades and must be filtered out before the SI calculation.  For this example we'll say that all the trades we generated are inter-entity trades, trades between distinct legal entities, so we count them all.\n",
    "\n",
    "In this example we'll use just one LEI, and not even a valid one, but it will suffice for the example."
   ]
  },
  {
   "cell_type": "code",
   "execution_count": 7,
   "metadata": {
    "collapsed": false
   },
   "outputs": [
    {
     "name": "stdout",
     "output_type": "stream",
     "text": [
      "{'notional_currency': 'notional_currency.value', 'from_date': datetime.date(2018, 4, 26), 'ref_entity_type': 'ref_entity_type.value', 'our_lei': 'Our_LEI_here', 'to_date': datetime.date(2018, 10, 23), 'sub_asset_class_name': 'Single name credit default swap (CDS)', 'underlying_ref_entity': 'underlying_ref_entity.value', 'asset_class_name': 'Credit Derivatives'}\n"
     ]
    }
   ],
   "source": [
    "# Add our LEI to each trade\n",
    "our_lei = 'Our_LEI_here'\n",
    "for sample_trade in sample_trades:\n",
    "    sample_trade.our_lei = our_lei\n",
    "\n",
    "# Print the one of the modified sample trades\n",
    "print(vars(random.choice(sample_trades)))"
   ]
  },
  {
   "cell_type": "markdown",
   "metadata": {},
   "source": [
    "## Trade Date\n",
    "The SI calculation includes checks for frequency, the number of trades done in a single week.  To work that out we need a trade date for each trade.  Here we'll just use a few dates and add these to our sample trades."
   ]
  },
  {
   "cell_type": "code",
   "execution_count": 8,
   "metadata": {
    "collapsed": false
   },
   "outputs": [
    {
     "name": "stdout",
     "output_type": "stream",
     "text": [
      "{'notional_currency': 'notional_currency.value', 'from_date': datetime.date(2018, 4, 26), 'ref_entity_type': 'ref_entity_type.value', 'our_lei': 'Our_LEI_here', 'trade_date_week': 17, 'to_date': datetime.date(2018, 10, 23), 'sub_asset_class_name': 'Single name credit default swap (CDS)', 'trade_date': datetime.date(2018, 4, 24), 'underlying_ref_entity': 'underlying_ref_entity.value', 'asset_class_name': 'Credit Derivatives'}\n"
     ]
    }
   ],
   "source": [
    "# We give each sample trade a trade date in a 30 day range of dates\n",
    "# and an ISO week number (c.f. https://en.wikipedia.org/wiki/ISO_week_date)\n",
    "\n",
    "import datetime\n",
    "\n",
    "sample_dates = []\n",
    "today = datetime.date.today()\n",
    "for day_number in range(-30, 0):\n",
    "    a_date =  today + datetime.timedelta(day_number)\n",
    "    if a_date.weekday() < 6:\n",
    "        sample_dates.append(a_date)\n",
    "\n",
    "for sample_trade in sample_trades:\n",
    "    selected_date = random.choice(sample_dates)\n",
    "    sample_trade.trade_date = selected_date\n",
    "    sample_trade.trade_date_week = selected_date.isocalendar()[1]\n",
    "    \n",
    "# Print the one of the modified sample trades\n",
    "print(vars(random.choice(sample_trades)))"
   ]
  },
  {
   "cell_type": "markdown",
   "metadata": {},
   "source": [
    "## MIC\n",
    "The Market Identifier Code (MIC) is the ISO 10383 ID for a trading venue, for example a stock exchange.  The regulator is expected to provide a list of MIC values which identify venues which are recognised for the purposes of the SI calculation.  Trades which are done on vs. off recognised venues are counted differently."
   ]
  },
  {
   "cell_type": "code",
   "execution_count": 9,
   "metadata": {
    "collapsed": false
   },
   "outputs": [
    {
     "name": "stdout",
     "output_type": "stream",
     "text": [
      "{'mic': 'EEA3', 'our_lei': 'Our_LEI_here', 'trade_date_week': 13, 'sub_asset_class_name': 'Other credit derivatives', 'trade_date': datetime.date(2018, 3, 29), 'asset_class_name': 'Credit Derivatives'}\n"
     ]
    }
   ],
   "source": [
    "# We define our MICs.  A MIC value is always 4 charcters in length.  The values used\n",
    "# here are made-up nonsense, but good enough for an illustration\n",
    "\n",
    "eea_mics = ['EEA1', 'EEA2', 'EEA3']\n",
    "non_eea_mics = ['OFF1', 'OFF2', 'OFF3', 'OFF4']\n",
    "all_mics = eea_mics + non_eea_mics\n",
    "\n",
    "# Add a MIC to each sample trade\n",
    "for sample_trade in sample_trades:\n",
    "    sample_trade.mic = random.choice(all_mics)\n",
    "\n",
    "# Print the one of the modified sample trades\n",
    "print(vars(random.choice(sample_trades)))"
   ]
  },
  {
   "cell_type": "markdown",
   "metadata": {},
   "source": [
    "## Own Account\n",
    "\n",
    "We need to know if a trade was done on the firms own account.  Such trades are counted differently. "
   ]
  },
  {
   "cell_type": "code",
   "execution_count": 10,
   "metadata": {
    "collapsed": false
   },
   "outputs": [
    {
     "name": "stdout",
     "output_type": "stream",
     "text": [
      "{'notional_currency': 'notional_currency.value', 'own_account': False, 'from_date': datetime.date(2018, 4, 26), 'underlying_index': 'underlying_index.value', 'our_lei': 'Our_LEI_here', 'trade_date_week': 16, 'to_date': datetime.date(2021, 1, 20), 'sub_asset_class_name': 'Index credit default swap (CDS)', 'mic': 'OFF2', 'trade_date': datetime.date(2018, 4, 21), 'asset_class_name': 'Credit Derivatives'}\n"
     ]
    }
   ],
   "source": [
    "# Own Account is simply a boolean.  Either this is a trade which the regulator views\n",
    "# as being on own account, or not.  I use a random boolean with a probability.\n",
    "\n",
    "own_account_probability = 0.25\n",
    "\n",
    "for sample_trade in sample_trades:\n",
    "    sample_trade.own_account = random.random() < own_account_probability\n",
    "    \n",
    "# Print the one of the modified sample trades\n",
    "print(vars(random.choice(sample_trades)))"
   ]
  },
  {
   "cell_type": "markdown",
   "metadata": {},
   "source": [
    "## Client Order\n",
    "\n",
    "We need to know if a trade was done in response to a client order.  Such trades are counted differently. "
   ]
  },
  {
   "cell_type": "code",
   "execution_count": 11,
   "metadata": {
    "collapsed": false
   },
   "outputs": [
    {
     "name": "stdout",
     "output_type": "stream",
     "text": [
      "{'mic': 'EEA1', 'ref_entity_type': 'ref_entity_type.value', 'underlying_ref_entity': 'underlying_ref_entity.value', 'asset_class_name': 'Credit Derivatives', 'notional_currency': 'notional_currency.value', 'client_order': False, 'from_date': datetime.date(2018, 4, 26), 'own_account': False, 'our_lei': 'Our_LEI_here', 'trade_date_week': 14, 'sub_asset_class_name': 'Single name credit default swap (CDS)', 'trade_date': datetime.date(2018, 4, 2), 'to_date': datetime.date(2018, 10, 23)}\n"
     ]
    }
   ],
   "source": [
    "# Client Order is also simply a boolean.  Either this is a trade which was done\n",
    "# in response to a client order, or not.  I use a random boolean.\n",
    "\n",
    "client_order_probability = 0.5\n",
    "\n",
    "for sample_trade in sample_trades:\n",
    "    sample_trade.client_order = random.random() < client_order_probability\n",
    "    \n",
    "# Print the one of the modified sample trades\n",
    "print(vars(random.choice(sample_trades)))"
   ]
  },
  {
   "cell_type": "markdown",
   "metadata": {},
   "source": [
    "## EUR Notional\n",
    "Another measure used by the SI calculation is the EUR notional value of each trade.  Here we assign a notional value to each trade."
   ]
  },
  {
   "cell_type": "code",
   "execution_count": 12,
   "metadata": {
    "collapsed": false
   },
   "outputs": [
    {
     "name": "stdout",
     "output_type": "stream",
     "text": [
      "{'mic': 'OFF1', 'client_order': False, 'own_account': True, 'our_lei': 'Our_LEI_here', 'trade_date_week': 15, 'sub_asset_class_name': 'Other credit derivatives', 'eur_notional': 25000000, 'trade_date': datetime.date(2018, 4, 12), 'asset_class_name': 'Credit Derivatives'}\n"
     ]
    }
   ],
   "source": [
    "# Add a random-ish Euro Notional amount of n million EUR to each trade\n",
    "notional_amounts = [x * 1000000 for x in [1, 1, 1, 2, 2, 5, 10, 25]]\n",
    "\n",
    "for sample_trade in sample_trades:\n",
    "    sample_trade.eur_notional = random.choice(notional_amounts)\n",
    "\n",
    "# Print one of the modified sample trades\n",
    "print(vars(random.choice(sample_trades)))"
   ]
  },
  {
   "cell_type": "markdown",
   "metadata": {},
   "source": [
    "## RTS 2 Annex III Classification\n",
    "The last step before we start the SI calculation is to add the RTS 2 Annex III classification to each trade."
   ]
  },
  {
   "cell_type": "code",
   "execution_count": 13,
   "metadata": {
    "collapsed": false
   },
   "outputs": [
    {
     "name": "stdout",
     "output_type": "stream",
     "text": [
      "{\"RTS2 version\": \"EU 2017/583 of 14 July 2016\", \"Asset class\": \"Credit Derivatives\", \"Sub-asset class\": \"CDS index options\", \"Segmentation criterion 1 description\": \"CDS index sub-class as specified for the sub-asset class of index credit default swap (CDS )\", \"Segmentation criterion 1\": \"cds_index_sub_class.value\", \"Segmentation criterion 2 description\": \"time maturity bucket of the option defined as follows:\", \"Segmentation criterion 2\": \"Maturity bucket 4: 2 years to 3 years\"}\n"
     ]
    }
   ],
   "source": [
    "# Now classify each trade and add the JSON classification back to the trade\n",
    "for sample_trade in sample_trades:\n",
    "    classification = root.classification_for(subject=sample_trade)\n",
    "    json_classification = json.dumps(classification.classification_dict())\n",
    "    sample_trade.rts2_classification = json_classification\n",
    "\n",
    "print(random.choice(sample_trades).rts2_classification)"
   ]
  },
  {
   "cell_type": "markdown",
   "metadata": {},
   "source": [
    "## Put the trade data in to Pandas tables\n",
    "\n",
    "The SI calculation requires a number of selections of the trade population.  See the comments below for details of each selection."
   ]
  },
  {
   "cell_type": "code",
   "execution_count": 14,
   "metadata": {
    "collapsed": false
   },
   "outputs": [],
   "source": [
    "# Put the essential information for each trade into a Pandas table.\n",
    "\n",
    "import pandas as pd\n",
    "\n",
    "def si_details_from_sample(sample_trade):\n",
    "    return dict(\n",
    "        lei=sample_trade.our_lei,\n",
    "        trade_date=sample_trade.trade_date,\n",
    "        trade_date_week=sample_trade.trade_date_week,\n",
    "        mic=sample_trade.mic,\n",
    "        own_account=sample_trade.own_account,\n",
    "        client_order=sample_trade.client_order,\n",
    "        eur_notional=sample_trade.eur_notional,\n",
    "        rts2_classification=sample_trade.rts2_classification,\n",
    "        )\n",
    "\n",
    "# The set of all trades (by LEI if there is more than one)\n",
    "all_trades = pd.DataFrame.from_records([si_details_from_sample(s) for s in sample_trades])\n",
    "\n",
    "# The subset of all trades which were not done on an EEA venue (i.e. OTC trades)\n",
    "otc_trades = all_trades[~all_trades.mic.isin(eea_mics)]\n",
    "\n",
    "# The subset of OTC trades which were done on the banks own account\n",
    "own_account_otc_trades = otc_trades[otc_trades.own_account]\n",
    "\n",
    "# The subset of own account OTC trades which were done in response to client orders\n",
    "client_own_account_otc_trades = own_account_otc_trades[own_account_otc_trades.client_order]\n"
   ]
  },
  {
   "cell_type": "markdown",
   "metadata": {},
   "source": [
    "# Step 2 - The Regulator Supplied Data\n",
    "\n",
    "The regulator is expected to provide information about each sub class:\n",
    "* Is the sub class liquid?\n",
    "* How many trades of that sub class were done in the whole EU?\n",
    "* What is the total EUR notional value traded in that sub class in the whole EU?\n",
    "\n",
    "We don't have any regulator supplied data here so we synthesise some."
   ]
  },
  {
   "cell_type": "code",
   "execution_count": 15,
   "metadata": {
    "collapsed": false
   },
   "outputs": [
    {
     "data": {
      "text/plain": [
       "dict_values([True, False, True, False, False, True, True, True, False, True, False, True])"
      ]
     },
     "execution_count": 15,
     "metadata": {},
     "output_type": "execute_result"
    }
   ],
   "source": [
    "# For every RTS 2 sub class we need to decide if it is liquid or not\n",
    "# We simply generate a random true/false for each sub class and use\n",
    "# a dictionary to hold the result so we can look it up later.\n",
    "\n",
    "distinct_sub_classes = all_trades.rts2_classification.unique()\n",
    "liquidity_dictionary = dict()\n",
    "for sub_class in distinct_sub_classes:\n",
    "    is_liquid = random.random() < 0.5\n",
    "    liquidity_dictionary[sub_class] = is_liquid\n",
    "liquidity_dictionary.values()\n"
   ]
  },
  {
   "cell_type": "code",
   "execution_count": 16,
   "metadata": {
    "collapsed": false
   },
   "outputs": [
    {
     "data": {
      "text/html": [
       "<div>\n",
       "<table border=\"1\" class=\"dataframe\">\n",
       "  <thead>\n",
       "    <tr style=\"text-align: right;\">\n",
       "      <th></th>\n",
       "      <th>rts2_classification</th>\n",
       "      <th>trade_count</th>\n",
       "      <th>trade_notional_sum</th>\n",
       "      <th>eu_count</th>\n",
       "      <th>eu_eur_notional</th>\n",
       "      <th>avg_weekly_trades</th>\n",
       "      <th>is_liquid</th>\n",
       "      <th>all_trade_notional_sum</th>\n",
       "    </tr>\n",
       "  </thead>\n",
       "  <tbody>\n",
       "    <tr>\n",
       "      <th>0</th>\n",
       "      <td>{\"RTS2 version\": \"EU 2017/583 of 14 July 2016\"...</td>\n",
       "      <td>4</td>\n",
       "      <td>22000000</td>\n",
       "      <td>156</td>\n",
       "      <td>2178000000</td>\n",
       "      <td>0.8</td>\n",
       "      <td>False</td>\n",
       "      <td>22000000</td>\n",
       "    </tr>\n",
       "    <tr>\n",
       "      <th>1</th>\n",
       "      <td>{\"RTS2 version\": \"EU 2017/583 of 14 July 2016\"...</td>\n",
       "      <td>5</td>\n",
       "      <td>10000000</td>\n",
       "      <td>205</td>\n",
       "      <td>990000000</td>\n",
       "      <td>1.0</td>\n",
       "      <td>True</td>\n",
       "      <td>10000000</td>\n",
       "    </tr>\n",
       "    <tr>\n",
       "      <th>2</th>\n",
       "      <td>{\"RTS2 version\": \"EU 2017/583 of 14 July 2016\"...</td>\n",
       "      <td>2</td>\n",
       "      <td>2000000</td>\n",
       "      <td>82</td>\n",
       "      <td>202000000</td>\n",
       "      <td>0.4</td>\n",
       "      <td>False</td>\n",
       "      <td>2000000</td>\n",
       "    </tr>\n",
       "    <tr>\n",
       "      <th>3</th>\n",
       "      <td>{\"RTS2 version\": \"EU 2017/583 of 14 July 2016\"...</td>\n",
       "      <td>3</td>\n",
       "      <td>17000000</td>\n",
       "      <td>123</td>\n",
       "      <td>1717000000</td>\n",
       "      <td>0.6</td>\n",
       "      <td>True</td>\n",
       "      <td>17000000</td>\n",
       "    </tr>\n",
       "    <tr>\n",
       "      <th>4</th>\n",
       "      <td>{\"RTS2 version\": \"EU 2017/583 of 14 July 2016\"...</td>\n",
       "      <td>3</td>\n",
       "      <td>40000000</td>\n",
       "      <td>123</td>\n",
       "      <td>3960000000</td>\n",
       "      <td>0.6</td>\n",
       "      <td>True</td>\n",
       "      <td>40000000</td>\n",
       "    </tr>\n",
       "    <tr>\n",
       "      <th>5</th>\n",
       "      <td>{\"RTS2 version\": \"EU 2017/583 of 14 July 2016\"...</td>\n",
       "      <td>1</td>\n",
       "      <td>2000000</td>\n",
       "      <td>39</td>\n",
       "      <td>198000000</td>\n",
       "      <td>0.2</td>\n",
       "      <td>False</td>\n",
       "      <td>2000000</td>\n",
       "    </tr>\n",
       "    <tr>\n",
       "      <th>6</th>\n",
       "      <td>{\"RTS2 version\": \"EU 2017/583 of 14 July 2016\"...</td>\n",
       "      <td>5</td>\n",
       "      <td>20000000</td>\n",
       "      <td>205</td>\n",
       "      <td>2020000000</td>\n",
       "      <td>1.0</td>\n",
       "      <td>True</td>\n",
       "      <td>20000000</td>\n",
       "    </tr>\n",
       "    <tr>\n",
       "      <th>7</th>\n",
       "      <td>{\"RTS2 version\": \"EU 2017/583 of 14 July 2016\"...</td>\n",
       "      <td>8</td>\n",
       "      <td>39000000</td>\n",
       "      <td>312</td>\n",
       "      <td>3939000000</td>\n",
       "      <td>1.6</td>\n",
       "      <td>True</td>\n",
       "      <td>39000000</td>\n",
       "    </tr>\n",
       "    <tr>\n",
       "      <th>8</th>\n",
       "      <td>{\"RTS2 version\": \"EU 2017/583 of 14 July 2016\"...</td>\n",
       "      <td>2</td>\n",
       "      <td>4000000</td>\n",
       "      <td>78</td>\n",
       "      <td>396000000</td>\n",
       "      <td>0.4</td>\n",
       "      <td>False</td>\n",
       "      <td>4000000</td>\n",
       "    </tr>\n",
       "    <tr>\n",
       "      <th>9</th>\n",
       "      <td>{\"RTS2 version\": \"EU 2017/583 of 14 July 2016\"...</td>\n",
       "      <td>1</td>\n",
       "      <td>1000000</td>\n",
       "      <td>41</td>\n",
       "      <td>99000000</td>\n",
       "      <td>0.2</td>\n",
       "      <td>True</td>\n",
       "      <td>1000000</td>\n",
       "    </tr>\n",
       "    <tr>\n",
       "      <th>10</th>\n",
       "      <td>{\"RTS2 version\": \"EU 2017/583 of 14 July 2016\"...</td>\n",
       "      <td>3</td>\n",
       "      <td>31000000</td>\n",
       "      <td>123</td>\n",
       "      <td>3131000000</td>\n",
       "      <td>0.6</td>\n",
       "      <td>False</td>\n",
       "      <td>31000000</td>\n",
       "    </tr>\n",
       "    <tr>\n",
       "      <th>11</th>\n",
       "      <td>{\"RTS2 version\": \"EU 2017/583 of 14 July 2016\"...</td>\n",
       "      <td>1</td>\n",
       "      <td>25000000</td>\n",
       "      <td>41</td>\n",
       "      <td>2475000000</td>\n",
       "      <td>0.2</td>\n",
       "      <td>True</td>\n",
       "      <td>25000000</td>\n",
       "    </tr>\n",
       "  </tbody>\n",
       "</table>\n",
       "</div>"
      ],
      "text/plain": [
       "                                  rts2_classification  trade_count  \\\n",
       "0   {\"RTS2 version\": \"EU 2017/583 of 14 July 2016\"...            4   \n",
       "1   {\"RTS2 version\": \"EU 2017/583 of 14 July 2016\"...            5   \n",
       "2   {\"RTS2 version\": \"EU 2017/583 of 14 July 2016\"...            2   \n",
       "3   {\"RTS2 version\": \"EU 2017/583 of 14 July 2016\"...            3   \n",
       "4   {\"RTS2 version\": \"EU 2017/583 of 14 July 2016\"...            3   \n",
       "5   {\"RTS2 version\": \"EU 2017/583 of 14 July 2016\"...            1   \n",
       "6   {\"RTS2 version\": \"EU 2017/583 of 14 July 2016\"...            5   \n",
       "7   {\"RTS2 version\": \"EU 2017/583 of 14 July 2016\"...            8   \n",
       "8   {\"RTS2 version\": \"EU 2017/583 of 14 July 2016\"...            2   \n",
       "9   {\"RTS2 version\": \"EU 2017/583 of 14 July 2016\"...            1   \n",
       "10  {\"RTS2 version\": \"EU 2017/583 of 14 July 2016\"...            3   \n",
       "11  {\"RTS2 version\": \"EU 2017/583 of 14 July 2016\"...            1   \n",
       "\n",
       "    trade_notional_sum  eu_count  eu_eur_notional  avg_weekly_trades  \\\n",
       "0             22000000       156       2178000000                0.8   \n",
       "1             10000000       205        990000000                1.0   \n",
       "2              2000000        82        202000000                0.4   \n",
       "3             17000000       123       1717000000                0.6   \n",
       "4             40000000       123       3960000000                0.6   \n",
       "5              2000000        39        198000000                0.2   \n",
       "6             20000000       205       2020000000                1.0   \n",
       "7             39000000       312       3939000000                1.6   \n",
       "8              4000000        78        396000000                0.4   \n",
       "9              1000000        41         99000000                0.2   \n",
       "10            31000000       123       3131000000                0.6   \n",
       "11            25000000        41       2475000000                0.2   \n",
       "\n",
       "   is_liquid  all_trade_notional_sum  \n",
       "0      False                22000000  \n",
       "1       True                10000000  \n",
       "2      False                 2000000  \n",
       "3       True                17000000  \n",
       "4       True                40000000  \n",
       "5      False                 2000000  \n",
       "6       True                20000000  \n",
       "7       True                39000000  \n",
       "8      False                 4000000  \n",
       "9       True                 1000000  \n",
       "10     False                31000000  \n",
       "11      True                25000000  "
      ]
     },
     "execution_count": 16,
     "metadata": {},
     "output_type": "execute_result"
    }
   ],
   "source": [
    "# The values which will be compared with the EU trade count and sum(eur_notional)\n",
    "# are the counts and totals of the own account OTC trades which were done in \n",
    "# response to client orders.  We synthesise the test EU numbers from these.\n",
    "\n",
    "# First we get the counts and sum of notional, grouping by sub class (RTS 2 string)\n",
    "notional_by_sub_class = client_own_account_otc_trades[['rts2_classification', 'eur_notional']]\\\n",
    "    .groupby(by='rts2_classification')\n",
    "sums_series = notional_by_sub_class.agg(['count', 'sum'])\n",
    "sums_df = pd.DataFrame(sums_series)\n",
    "\n",
    "sums_df.columns = sums_df.columns.get_level_values(0)\n",
    "sums_df = sums_df.reset_index()\n",
    "sums_df.columns = pd.Index(\n",
    "    ['rts2_classification', 'trade_count', 'trade_notional_sum'], \n",
    "    dtype='object')\n",
    "\n",
    "# We add a column for the EU trade count for each sub class.  For this exercise, the\n",
    "# threshold for being an SI is if our LEO count for the subclass is >= 2.5% of\n",
    "# the EU count.  The EU figure is randomly set to be a bit more or a bit less than\n",
    "# will trigger SI status.\n",
    "\n",
    "sums_df['eu_count'] = sums_df['trade_count']\\\n",
    "    .apply(lambda x: x * 40 + random.choice([x * -1, x]) )\n",
    "\n",
    "# Add a column for the EU notional for each sub class.  The threshold for\n",
    "# notional is 1% of the EU figure.  Again the EU number is randomly tweaked\n",
    "sums_df['eu_eur_notional'] = sums_df['trade_notional_sum']\\\n",
    "    .apply(lambda x: x * 100 + random.choice([x * -1, x]) )\n",
    "\n",
    "\n",
    "# Add a column for the average number of trades per week\n",
    "min_week_number = all_trades['trade_date_week'].min()\n",
    "max_week_number = all_trades['trade_date_week'].max()\n",
    "number_of_weeks = max_week_number - min_week_number + 1\n",
    "sums_df['avg_weekly_trades'] = sums_df['trade_count']\\\n",
    "    .apply(lambda x: x /  number_of_weeks)\n",
    "\n",
    "# Add a column which indicates if the subclass is liquid\n",
    "sums_df['is_liquid'] = sums_df['rts2_classification']\\\n",
    "    .apply(lambda x: liquidity_dictionary[x] )\n",
    "    \n",
    "# Add a column which is the total notional of all trades by the LEI\n",
    "# TODO: This is picking up the same sum as the client-own-otc ... why?\n",
    "all_notional_by_sub_class = all_trades[['rts2_classification', 'eur_notional']]\\\n",
    "    .groupby(by='rts2_classification')\n",
    "all_sums_series = notional_by_sub_class.sum()\n",
    "all_sums_df = pd.DataFrame(all_sums_series)\n",
    "all_sums_df = all_sums_df.reset_index()\n",
    "all_sums_df.columns = pd.Index(\n",
    "    ['rts2_classification', 'all_trade_notional_sum'], \n",
    "    dtype='object')\n",
    "\n",
    "# Join the all sums df with the client-own_account-otc table\n",
    "sums_df = pd.merge(sums_df, all_sums_df, how='left', on='rts2_classification')\n",
    "\n",
    "sums_df.head(2)"
   ]
  },
  {
   "cell_type": "markdown",
   "metadata": {},
   "source": [
    "# Step 3 - Do the SI calculation\n",
    "\n",
    "The \"calculation\" is really a set of filters which might catch an RTS 2 subclass for an LEI\n",
    "\n",
    "1. If the RTS 2 Annex III sub class is liquid\n",
    "   - and the count of client own-account otc trades >= 2.5% of eu_rts2_trade_count\n",
    "   - and average weekly number of client own-account otc trades >= 1\n",
    "2. If the RTS 2 Annex III sub class is not liquid \n",
    "   - and average weekly number of client own-account otc trade >= 1\n",
    "3. If the sum of EUR notional for client own-account otc trades is\n",
    "   - \\>= 25% of all trades notional for the LEI\n",
    "   - **or** >= 1% of EU trade notional"
   ]
  },
  {
   "cell_type": "code",
   "execution_count": 17,
   "metadata": {
    "collapsed": false
   },
   "outputs": [
    {
     "data": {
      "text/html": [
       "<div>\n",
       "<table border=\"1\" class=\"dataframe\">\n",
       "  <thead>\n",
       "    <tr style=\"text-align: right;\">\n",
       "      <th></th>\n",
       "      <th>rts2_classification</th>\n",
       "      <th>trade_count</th>\n",
       "      <th>trade_notional_sum</th>\n",
       "      <th>eu_count</th>\n",
       "      <th>eu_eur_notional</th>\n",
       "      <th>avg_weekly_trades</th>\n",
       "      <th>is_liquid</th>\n",
       "      <th>all_trade_notional_sum</th>\n",
       "    </tr>\n",
       "  </thead>\n",
       "  <tbody>\n",
       "    <tr>\n",
       "      <th>7</th>\n",
       "      <td>{\"RTS2 version\": \"EU 2017/583 of 14 July 2016\"...</td>\n",
       "      <td>8</td>\n",
       "      <td>39000000</td>\n",
       "      <td>312</td>\n",
       "      <td>3939000000</td>\n",
       "      <td>1.6</td>\n",
       "      <td>True</td>\n",
       "      <td>39000000</td>\n",
       "    </tr>\n",
       "  </tbody>\n",
       "</table>\n",
       "</div>"
      ],
      "text/plain": [
       "                                 rts2_classification  trade_count  \\\n",
       "7  {\"RTS2 version\": \"EU 2017/583 of 14 July 2016\"...            8   \n",
       "\n",
       "   trade_notional_sum  eu_count  eu_eur_notional  avg_weekly_trades is_liquid  \\\n",
       "7            39000000       312       3939000000                1.6      True   \n",
       "\n",
       "   all_trade_notional_sum  \n",
       "7                39000000  "
      ]
     },
     "execution_count": 17,
     "metadata": {},
     "output_type": "execute_result"
    }
   ],
   "source": [
    "# Filter 1:  This is looking at the trades we have in client_own_account_otc_trades.\n",
    "# We need to join the liquidity, EU trade count and weekly trade avereages data \n",
    "# with trades data frame, then we can for which the following three things are true:\n",
    "#    The RTS 2 sub class is liquid\n",
    "#    The count of our trades for that sub class >= 2.5% of the EU count\n",
    "#    More than one trade per week was done on average\n",
    "\n",
    "x1 = sums_df.copy()\n",
    "x1[(x1.is_liquid) \n",
    "   & (x1.trade_count >= (x1.eu_count * 0.025))\n",
    "   & (x1.avg_weekly_trades >= 1)]\n"
   ]
  },
  {
   "cell_type": "code",
   "execution_count": 22,
   "metadata": {
    "collapsed": false
   },
   "outputs": [
    {
     "data": {
      "text/html": [
       "<div>\n",
       "<table border=\"1\" class=\"dataframe\">\n",
       "  <thead>\n",
       "    <tr style=\"text-align: right;\">\n",
       "      <th></th>\n",
       "      <th>rts2_classification</th>\n",
       "      <th>trade_count</th>\n",
       "      <th>trade_notional_sum</th>\n",
       "      <th>eu_count</th>\n",
       "      <th>eu_eur_notional</th>\n",
       "      <th>avg_weekly_trades</th>\n",
       "      <th>is_liquid</th>\n",
       "      <th>all_trade_notional_sum</th>\n",
       "    </tr>\n",
       "  </thead>\n",
       "  <tbody>\n",
       "  </tbody>\n",
       "</table>\n",
       "</div>"
      ],
      "text/plain": [
       "Empty DataFrame\n",
       "Columns: [rts2_classification, trade_count, trade_notional_sum, eu_count, eu_eur_notional, avg_weekly_trades, is_liquid, all_trade_notional_sum]\n",
       "Index: []"
      ]
     },
     "execution_count": 22,
     "metadata": {},
     "output_type": "execute_result"
    }
   ],
   "source": [
    "# Filter 2 just looks at the average weekly number of trades for non liquid sub classes\n",
    "\n",
    "x2 = sums_df.copy()\n",
    "x2[(~x2.is_liquid) \n",
    "   & (x2.avg_weekly_trades >= 1)]\n"
   ]
  },
  {
   "cell_type": "code",
   "execution_count": 24,
   "metadata": {
    "collapsed": false
   },
   "outputs": [
    {
     "data": {
      "text/html": [
       "<div>\n",
       "<table border=\"1\" class=\"dataframe\">\n",
       "  <thead>\n",
       "    <tr style=\"text-align: right;\">\n",
       "      <th></th>\n",
       "      <th>rts2_classification</th>\n",
       "      <th>trade_count</th>\n",
       "      <th>trade_notional_sum</th>\n",
       "      <th>eu_count</th>\n",
       "      <th>eu_eur_notional</th>\n",
       "      <th>avg_weekly_trades</th>\n",
       "      <th>is_liquid</th>\n",
       "      <th>all_trade_notional_sum</th>\n",
       "    </tr>\n",
       "  </thead>\n",
       "  <tbody>\n",
       "    <tr>\n",
       "      <th>0</th>\n",
       "      <td>{\"RTS2 version\": \"EU 2017/583 of 14 July 2016\"...</td>\n",
       "      <td>4</td>\n",
       "      <td>22000000</td>\n",
       "      <td>156</td>\n",
       "      <td>2178000000</td>\n",
       "      <td>0.8</td>\n",
       "      <td>False</td>\n",
       "      <td>22000000</td>\n",
       "    </tr>\n",
       "    <tr>\n",
       "      <th>1</th>\n",
       "      <td>{\"RTS2 version\": \"EU 2017/583 of 14 July 2016\"...</td>\n",
       "      <td>5</td>\n",
       "      <td>10000000</td>\n",
       "      <td>205</td>\n",
       "      <td>990000000</td>\n",
       "      <td>1.0</td>\n",
       "      <td>True</td>\n",
       "      <td>10000000</td>\n",
       "    </tr>\n",
       "  </tbody>\n",
       "</table>\n",
       "</div>"
      ],
      "text/plain": [
       "                                 rts2_classification  trade_count  \\\n",
       "0  {\"RTS2 version\": \"EU 2017/583 of 14 July 2016\"...            4   \n",
       "1  {\"RTS2 version\": \"EU 2017/583 of 14 July 2016\"...            5   \n",
       "\n",
       "   trade_notional_sum  eu_count  eu_eur_notional  avg_weekly_trades is_liquid  \\\n",
       "0            22000000       156       2178000000                0.8     False   \n",
       "1            10000000       205        990000000                1.0      True   \n",
       "\n",
       "   all_trade_notional_sum  \n",
       "0                22000000  \n",
       "1                10000000  "
      ]
     },
     "execution_count": 24,
     "metadata": {},
     "output_type": "execute_result"
    }
   ],
   "source": [
    "# Filter 3\n",
    "\n",
    "x3 = sums_df.copy()\n",
    "x3[  (x3.trade_notional_sum >= (x3.all_trade_notional_sum * 0.25))\n",
    "   | (x3.trade_notional_sum >= (x3.eu_eur_notional * 0.01))]\n",
    "\n",
    "# Remove this once the all_trades total notional bug is fixed\n",
    "x3.head(2)"
   ]
  },
  {
   "cell_type": "markdown",
   "metadata": {},
   "source": [
    "# An Object Oriented Calculator\n",
    "\n",
    "Here we build a tiny Python application to do the SI calculation on the generated trades.\n",
    "\n",
    "The result of the calculation is a JSON report of the RTS 2 Annex III sub classes for which our LEI is a Systematic Internaliser.\n",
    "\n",
    "We define 3 classes:\n",
    "* SIReport - This represents the report spanning all RTS 2 classes for one LEI\n",
    "* RTS2SubClass - This represents the infirmation for just one RTS 2 sub class\n",
    "* Aggregations - Represents the various counts and sums for one RTS 2 sub class\n",
    "\n",
    "If you want to see the report, scroll past the code to the next text box."
   ]
  },
  {
   "cell_type": "code",
   "execution_count": 136,
   "metadata": {
    "collapsed": false
   },
   "outputs": [],
   "source": [
    "import collections\n",
    "\n",
    "class SIReport(object):\n",
    "    \n",
    "    @classmethod\n",
    "    def for_trades(cls, trades):\n",
    "        new_report = cls()\n",
    "        new_report.add_trades(trades)\n",
    "        return new_report\n",
    "    \n",
    "    def __init__(self):\n",
    "        self.trades = []\n",
    "        self.sub_classes = dict()\n",
    "        self._number_of_weeks = None\n",
    "        \n",
    "    def add_trades(self, trades):\n",
    "        self.trades.extend(trades)\n",
    "        for trade in trades:\n",
    "            rts2_string = trade.rts2_classification\n",
    "            if not rts2_string in self.sub_classes:\n",
    "                self.sub_classes[rts2_string] = RTS2SubClass(self, rts2_string)\n",
    "            sub_class = self.sub_classes[rts2_string]\n",
    "            sub_class.add_trade(trade)\n",
    "        self._number_of_weeks = None\n",
    "\n",
    "    @property\n",
    "    def number_of_weeks(self):\n",
    "        if self._number_of_weeks is None:\n",
    "            min_trade = min(self.trades, key=lambda t: t.trade_date_week)\n",
    "            max_trade = max(self.trades, key=lambda t: t.trade_date_week)\n",
    "            self._number_of_weeks = max_trade.trade_date_week - \\\n",
    "                                    min_trade.trade_date_week + 1\n",
    "        return self._number_of_weeks\n",
    "\n",
    "    def si_sub_classes(self):\n",
    "        return [sub_class for sub_class in self.sub_classes.values() \n",
    "                if sub_class.si_status()]\n",
    "        \n",
    "    def report(self):\n",
    "        si_sub_classes = self.si_sub_classes()\n",
    "        report_items = [\n",
    "            'This LEI is an SI for {si_count} of {all_count} '\n",
    "            'sub classes traded over {weeks} weeks.'.format(\n",
    "                si_count=len(si_sub_classes),\n",
    "                all_count=len(self.sub_classes),\n",
    "                weeks=self.number_of_weeks)]\n",
    "        for sub_class in si_sub_classes:\n",
    "            report_item = ['Status: {status}.'.format(\n",
    "                    status=sub_class.si_status())]\n",
    "            agg_dict = vars(sub_class.aggregations)\n",
    "            del agg_dict['sub_class']\n",
    "            del agg_dict['trades']\n",
    "            report_item.append(vars(sub_class.aggregations))\n",
    "            report_item.append(json.loads(\n",
    "                    sub_class.rts2_string, object_pairs_hook=collections.OrderedDict))\n",
    "            report_items.append(report_item)\n",
    "        return json.dumps(report_items, indent=4)\n",
    "\n",
    "\n",
    "class RTS2SubClass(object):\n",
    "    def __init__(self, report, rts2_string):\n",
    "        self.report = report\n",
    "        self.rts2_string = rts2_string\n",
    "        self.is_liquid = random.random() < 0.5\n",
    "        self.trades = []\n",
    "        self._aggregations = None\n",
    "\n",
    "    @property\n",
    "    def aggregations(self):\n",
    "        # I keep all the computed results in one object so I can drop the cache\n",
    "        # if a trade is added\n",
    "        if self._aggregations is None:\n",
    "            self._aggregations = Aggregations(sub_class=self)\n",
    "        return self._aggregations\n",
    "        \n",
    "    def add_trade(self, trade):\n",
    "        self.trades.append(trade)\n",
    "        self._aggregations = None\n",
    "\n",
    "    def si_status(self):\n",
    "        \"\"\"\n",
    "        This is the SI Calculation.  It is applied distinctly to each sub class.\n",
    "        It's quite simple once everything is aggregated.\n",
    "        Note that these are the rules for derivatives trades only.\n",
    "        \"\"\"\n",
    "        agg = self.aggregations\n",
    "        if self.is_liquid \\\n",
    "            and agg.trade_count >= (0.025 * agg.eu_trade_count) \\\n",
    "            and agg.avg_weekly_trades >= 1:\n",
    "                return \"SI - Liquid instrument test\"\n",
    "        if not self.is_liquid \\\n",
    "            and agg.avg_weekly_trades >= 1:\n",
    "                return \"SI - Non-liquid instrument test\"\n",
    "        if agg.notional_sum >= (0.25 * agg.sub_class_trades_notional_sum) \\\n",
    "            or agg.notional_sum >= (0.01 * agg.eu_notional_sum):\n",
    "                return \"SI - Notional size test\"\n",
    "        return None\n",
    "\n",
    "    \n",
    "class Aggregations(object):\n",
    "    \"\"\"\n",
    "    Each instance of Aggregations represents the subset of the trades for\n",
    "    a sub class which are OTC client orders on the own account of the LEI.\n",
    "    The SI calculation tests are with respect to this subset of the trades.\n",
    "    \"\"\"\n",
    "\n",
    "    def __init__(self, sub_class):\n",
    "        self.sub_class = sub_class\n",
    "        \n",
    "        # Build the aggregations for this sub class\n",
    "        self.trades = [\n",
    "                trade for trade in self.sub_class.trades\n",
    "                if (not trade.mic in eea_mics)  # OTC\n",
    "                    and trade.own_account       # Traded on own account\n",
    "                    and trade.client_order]     # in response to a client order\n",
    "        self.trade_count = len(self.trades)\n",
    "        self.notional_sum = sum([abs(trade.eur_notional) for trade in self.trades])\n",
    "        self.avg_weekly_trades = self.trade_count / self.sub_class.report.number_of_weeks\n",
    "        \n",
    "        # Now I synthesise the EU figures which should really come from the regulator\n",
    "        self.eu_trade_count = self.trade_count * 40 + random.choice([\n",
    "                                self.trade_count * -1, self.trade_count])\n",
    "        self.eu_notional_sum  = self.notional_sum * 100 + random.choice([\n",
    "                                    self.notional_sum * -1, self.notional_sum])\n",
    "\n",
    "        # I keep this sub class sum here so it gets flushed if trades added\n",
    "        self.sub_class_trades_notional_sum = sum(\n",
    "                [abs(trade.eur_notional) for trade in self.sub_class.trades])\n"
   ]
  },
  {
   "cell_type": "markdown",
   "metadata": {},
   "source": [
    "## Run the report\n",
    "Having defined the classes we should be able to just run the report.\n",
    "\n",
    "Note that the result is different every time the report is run because the EU totals are re-synthesised each time and are random.  With real data the report would be stable, and indeed this test could be changed to always produce the same results; the current implementaion is intended to show some variety."
   ]
  },
  {
   "cell_type": "code",
   "execution_count": 150,
   "metadata": {
    "collapsed": false
   },
   "outputs": [
    {
     "name": "stdout",
     "output_type": "stream",
     "text": [
      "[\n",
      "    \"This LEI is an SI for 6 of 12 sub classes traded over 5 weeks.\",\n",
      "    [\n",
      "        \"Status: SI - Notional size test.\",\n",
      "        {\n",
      "            \"sub_class_trades_notional_sum\": 537000000,\n",
      "            \"trade_count\": 4,\n",
      "            \"eu_notional_sum\": 2178000000,\n",
      "            \"avg_weekly_trades\": 0.8,\n",
      "            \"eu_trade_count\": 156,\n",
      "            \"notional_sum\": 22000000\n",
      "        },\n",
      "        {\n",
      "            \"RTS2 version\": \"EU 2017/583 of 14 July 2016\",\n",
      "            \"Asset class\": \"Credit Derivatives\",\n",
      "            \"Sub-asset class\": \"Bespoke basket credit default swap (CDS)\"\n",
      "        }\n",
      "    ],\n",
      "    [\n",
      "        \"Status: SI - Notional size test.\",\n",
      "        {\n",
      "            \"sub_class_trades_notional_sum\": 401000000,\n",
      "            \"trade_count\": 3,\n",
      "            \"eu_notional_sum\": 3069000000,\n",
      "            \"avg_weekly_trades\": 0.6,\n",
      "            \"eu_trade_count\": 117,\n",
      "            \"notional_sum\": 31000000\n",
      "        },\n",
      "        {\n",
      "            \"RTS2 version\": \"EU 2017/583 of 14 July 2016\",\n",
      "            \"Asset class\": \"Credit Derivatives\",\n",
      "            \"Sub-asset class\": \"Single name credit default swap (CDS)\",\n",
      "            \"Segmentation criterion 1 description\": \"underlying reference entity\",\n",
      "            \"Segmentation criterion 1\": \"underlying_ref_entity.value\",\n",
      "            \"Segmentation criterion 2 description\": \"underlying reference entity type defined as follows: \\\"Issuer of sovereign and public type\\\" means an issuer entity which is either: (a) the Union; (b) a Member State including a government department, an agency or a special purpose vehicle of a Member State; (c) a sovereign entity which is not listed under points (a) and (b); (d) in the case of a federal Member State, a member of that federation; (e) a special purpose vehicle for several Member States; (f) an international financial institution established by two or more Member States which have the purpose of mobilising funding and providing financial assistance to the benefit of its members that are experiencing or are threatened by severe financial problems; (g) the European Investment Bank; (h) a public entity which is not a sovereign issuer as specified in the points (a) to (c). \\\"Issuer of corporate type\\\" means an issuer entity which is not an issuer of sovereign and public type.\",\n",
      "            \"Segmentation criterion 2\": \"ref_entity_type.value\",\n",
      "            \"Segmentation criterion 3 description\": \"notional currency defined as the currency in which the notional amount of the derivative is denominated\",\n",
      "            \"Segmentation criterion 3\": \"notional_currency.value\",\n",
      "            \"Segmentation criterion 4 description\": \"time maturity bucket of the CDS defined as follows:\",\n",
      "            \"Segmentation criterion 4\": \"Maturity bucket 1: Zero to 1 year\"\n",
      "        }\n",
      "    ],\n",
      "    [\n",
      "        \"Status: SI - Non-liquid instrument test.\",\n",
      "        {\n",
      "            \"sub_class_trades_notional_sum\": 367000000,\n",
      "            \"trade_count\": 8,\n",
      "            \"eu_notional_sum\": 3939000000,\n",
      "            \"avg_weekly_trades\": 1.6,\n",
      "            \"eu_trade_count\": 328,\n",
      "            \"notional_sum\": 39000000\n",
      "        },\n",
      "        {\n",
      "            \"RTS2 version\": \"EU 2017/583 of 14 July 2016\",\n",
      "            \"Asset class\": \"Credit Derivatives\",\n",
      "            \"Sub-asset class\": \"Single name CDS options\",\n",
      "            \"Segmentation criterion 1 description\": \"single name CDS sub-class as specified for the sub-asset class of single name CDS\",\n",
      "            \"Segmentation criterion 1\": \"cds_sub_class.value\",\n",
      "            \"Segmentation criterion 2 description\": \"time maturity bucket of the option defined as follows:\",\n",
      "            \"Segmentation criterion 2\": \"Maturity bucket 1: Zero to 6 months\"\n",
      "        }\n",
      "    ],\n",
      "    [\n",
      "        \"Status: SI - Notional size test.\",\n",
      "        {\n",
      "            \"sub_class_trades_notional_sum\": 96000000,\n",
      "            \"trade_count\": 1,\n",
      "            \"eu_notional_sum\": 2475000000,\n",
      "            \"avg_weekly_trades\": 0.2,\n",
      "            \"eu_trade_count\": 41,\n",
      "            \"notional_sum\": 25000000\n",
      "        },\n",
      "        {\n",
      "            \"RTS2 version\": \"EU 2017/583 of 14 July 2016\",\n",
      "            \"Asset class\": \"Credit Derivatives\",\n",
      "            \"Sub-asset class\": \"Single name credit default swap (CDS)\",\n",
      "            \"Segmentation criterion 1 description\": \"underlying reference entity\",\n",
      "            \"Segmentation criterion 1\": \"underlying_ref_entity.value\",\n",
      "            \"Segmentation criterion 2 description\": \"underlying reference entity type defined as follows: \\\"Issuer of sovereign and public type\\\" means an issuer entity which is either: (a) the Union; (b) a Member State including a government department, an agency or a special purpose vehicle of a Member State; (c) a sovereign entity which is not listed under points (a) and (b); (d) in the case of a federal Member State, a member of that federation; (e) a special purpose vehicle for several Member States; (f) an international financial institution established by two or more Member States which have the purpose of mobilising funding and providing financial assistance to the benefit of its members that are experiencing or are threatened by severe financial problems; (g) the European Investment Bank; (h) a public entity which is not a sovereign issuer as specified in the points (a) to (c). \\\"Issuer of corporate type\\\" means an issuer entity which is not an issuer of sovereign and public type.\",\n",
      "            \"Segmentation criterion 2\": \"ref_entity_type.value\",\n",
      "            \"Segmentation criterion 3 description\": \"notional currency defined as the currency in which the notional amount of the derivative is denominated\",\n",
      "            \"Segmentation criterion 3\": \"notional_currency.value\",\n",
      "            \"Segmentation criterion 4 description\": \"time maturity bucket of the CDS defined as follows:\",\n",
      "            \"Segmentation criterion 4\": \"Maturity bucket 3: 2 years to 3 years\"\n",
      "        }\n",
      "    ],\n",
      "    [\n",
      "        \"Status: SI - Non-liquid instrument test.\",\n",
      "        {\n",
      "            \"sub_class_trades_notional_sum\": 285000000,\n",
      "            \"trade_count\": 5,\n",
      "            \"eu_notional_sum\": 990000000,\n",
      "            \"avg_weekly_trades\": 1.0,\n",
      "            \"eu_trade_count\": 195,\n",
      "            \"notional_sum\": 10000000\n",
      "        },\n",
      "        {\n",
      "            \"RTS2 version\": \"EU 2017/583 of 14 July 2016\",\n",
      "            \"Asset class\": \"Credit Derivatives\",\n",
      "            \"Sub-asset class\": \"CDS index options\",\n",
      "            \"Segmentation criterion 1 description\": \"CDS index sub-class as specified for the sub-asset class of index credit default swap (CDS )\",\n",
      "            \"Segmentation criterion 1\": \"cds_index_sub_class.value\",\n",
      "            \"Segmentation criterion 2 description\": \"time maturity bucket of the option defined as follows:\",\n",
      "            \"Segmentation criterion 2\": \"Maturity bucket 1: Zero to 6 months\"\n",
      "        }\n",
      "    ],\n",
      "    [\n",
      "        \"Status: SI - Notional size test.\",\n",
      "        {\n",
      "            \"sub_class_trades_notional_sum\": 78000000,\n",
      "            \"trade_count\": 1,\n",
      "            \"eu_notional_sum\": 99000000,\n",
      "            \"avg_weekly_trades\": 0.2,\n",
      "            \"eu_trade_count\": 41,\n",
      "            \"notional_sum\": 1000000\n",
      "        },\n",
      "        {\n",
      "            \"RTS2 version\": \"EU 2017/583 of 14 July 2016\",\n",
      "            \"Asset class\": \"Credit Derivatives\",\n",
      "            \"Sub-asset class\": \"Single name CDS options\",\n",
      "            \"Segmentation criterion 1 description\": \"single name CDS sub-class as specified for the sub-asset class of single name CDS\",\n",
      "            \"Segmentation criterion 1\": \"cds_sub_class.value\",\n",
      "            \"Segmentation criterion 2 description\": \"time maturity bucket of the option defined as follows:\",\n",
      "            \"Segmentation criterion 2\": \"Maturity bucket 4: 2 years to 3 years\"\n",
      "        }\n",
      "    ]\n",
      "]\n"
     ]
    }
   ],
   "source": [
    "# First create an instance of our report\n",
    "report = SIReport.for_trades(sample_trades)\n",
    "\n",
    "# Then get the JSON report and print it\n",
    "print(report.report())\n"
   ]
  },
  {
   "cell_type": "markdown",
   "metadata": {},
   "source": [
    "# A Declarative Calculator\n",
    "\n",
    "Here we use Pandas to run the calculation in a more declarative, relational kind of way.\n",
    "\n",
    "First we pick up the EU data from the OO model so the results here will be the same as the results in the OO report above."
   ]
  },
  {
   "cell_type": "code",
   "execution_count": 151,
   "metadata": {
    "collapsed": false
   },
   "outputs": [
    {
     "data": {
      "text/html": [
       "<div>\n",
       "<table border=\"1\" class=\"dataframe\">\n",
       "  <thead>\n",
       "    <tr style=\"text-align: right;\">\n",
       "      <th></th>\n",
       "      <th>eu_trade_count</th>\n",
       "      <th>eu_trade_notional</th>\n",
       "      <th>is_liquid</th>\n",
       "      <th>rts2_classification</th>\n",
       "    </tr>\n",
       "  </thead>\n",
       "  <tbody>\n",
       "    <tr>\n",
       "      <th>0</th>\n",
       "      <td>117</td>\n",
       "      <td>1717000000</td>\n",
       "      <td>False</td>\n",
       "      <td>{\"RTS2 version\": \"EU 2017/583 of 14 July 2016\"...</td>\n",
       "    </tr>\n",
       "    <tr>\n",
       "      <th>1</th>\n",
       "      <td>156</td>\n",
       "      <td>2178000000</td>\n",
       "      <td>False</td>\n",
       "      <td>{\"RTS2 version\": \"EU 2017/583 of 14 July 2016\"...</td>\n",
       "    </tr>\n",
       "  </tbody>\n",
       "</table>\n",
       "</div>"
      ],
      "text/plain": [
       "   eu_trade_count  eu_trade_notional is_liquid  \\\n",
       "0             117         1717000000     False   \n",
       "1             156         2178000000     False   \n",
       "\n",
       "                                 rts2_classification  \n",
       "0  {\"RTS2 version\": \"EU 2017/583 of 14 July 2016\"...  \n",
       "1  {\"RTS2 version\": \"EU 2017/583 of 14 July 2016\"...  "
      ]
     },
     "execution_count": 151,
     "metadata": {},
     "output_type": "execute_result"
    }
   ],
   "source": [
    "def eu_data_for_sub_class(sub_class):\n",
    "    return dict(\n",
    "        rts2_classification=sub_class.rts2_string,\n",
    "        is_liquid=sub_class.is_liquid,\n",
    "        eu_trade_count=sub_class.aggregations.eu_trade_count,\n",
    "        eu_trade_notional=sub_class.aggregations.eu_notional_sum,\n",
    "        )\n",
    "\n",
    "# The set of all trades (by LEI if there is more than one)\n",
    "eu_sub_class_data = pd.DataFrame.from_records([eu_data_for_sub_class(s) \\\n",
    "                                     for s in list(report.sub_classes.values())])\n",
    "#len(report.sub_classes)\n",
    "eu_sub_class_data.head(2)"
   ]
  },
  {
   "cell_type": "code",
   "execution_count": 154,
   "metadata": {
    "collapsed": false
   },
   "outputs": [
    {
     "data": {
      "text/html": [
       "<div>\n",
       "<table border=\"1\" class=\"dataframe\">\n",
       "  <thead>\n",
       "    <tr style=\"text-align: right;\">\n",
       "      <th></th>\n",
       "      <th>rts2_classification</th>\n",
       "      <th>eur_notional</th>\n",
       "    </tr>\n",
       "  </thead>\n",
       "  <tbody>\n",
       "    <tr>\n",
       "      <th>0</th>\n",
       "      <td>{\"RTS2 version\": \"EU 2017/583 of 14 July 2016\"...</td>\n",
       "      <td>537000000</td>\n",
       "    </tr>\n",
       "    <tr>\n",
       "      <th>1</th>\n",
       "      <td>{\"RTS2 version\": \"EU 2017/583 of 14 July 2016\"...</td>\n",
       "      <td>285000000</td>\n",
       "    </tr>\n",
       "    <tr>\n",
       "      <th>2</th>\n",
       "      <td>{\"RTS2 version\": \"EU 2017/583 of 14 July 2016\"...</td>\n",
       "      <td>56000000</td>\n",
       "    </tr>\n",
       "    <tr>\n",
       "      <th>3</th>\n",
       "      <td>{\"RTS2 version\": \"EU 2017/583 of 14 July 2016\"...</td>\n",
       "      <td>185000000</td>\n",
       "    </tr>\n",
       "    <tr>\n",
       "      <th>4</th>\n",
       "      <td>{\"RTS2 version\": \"EU 2017/583 of 14 July 2016\"...</td>\n",
       "      <td>375000000</td>\n",
       "    </tr>\n",
       "    <tr>\n",
       "      <th>5</th>\n",
       "      <td>{\"RTS2 version\": \"EU 2017/583 of 14 July 2016\"...</td>\n",
       "      <td>96000000</td>\n",
       "    </tr>\n",
       "    <tr>\n",
       "      <th>6</th>\n",
       "      <td>{\"RTS2 version\": \"EU 2017/583 of 14 July 2016\"...</td>\n",
       "      <td>565000000</td>\n",
       "    </tr>\n",
       "    <tr>\n",
       "      <th>7</th>\n",
       "      <td>{\"RTS2 version\": \"EU 2017/583 of 14 July 2016\"...</td>\n",
       "      <td>367000000</td>\n",
       "    </tr>\n",
       "    <tr>\n",
       "      <th>8</th>\n",
       "      <td>{\"RTS2 version\": \"EU 2017/583 of 14 July 2016\"...</td>\n",
       "      <td>73000000</td>\n",
       "    </tr>\n",
       "    <tr>\n",
       "      <th>9</th>\n",
       "      <td>{\"RTS2 version\": \"EU 2017/583 of 14 July 2016\"...</td>\n",
       "      <td>78000000</td>\n",
       "    </tr>\n",
       "    <tr>\n",
       "      <th>10</th>\n",
       "      <td>{\"RTS2 version\": \"EU 2017/583 of 14 July 2016\"...</td>\n",
       "      <td>401000000</td>\n",
       "    </tr>\n",
       "    <tr>\n",
       "      <th>11</th>\n",
       "      <td>{\"RTS2 version\": \"EU 2017/583 of 14 July 2016\"...</td>\n",
       "      <td>96000000</td>\n",
       "    </tr>\n",
       "  </tbody>\n",
       "</table>\n",
       "</div>"
      ],
      "text/plain": [
       "                                  rts2_classification  eur_notional\n",
       "0   {\"RTS2 version\": \"EU 2017/583 of 14 July 2016\"...     537000000\n",
       "1   {\"RTS2 version\": \"EU 2017/583 of 14 July 2016\"...     285000000\n",
       "2   {\"RTS2 version\": \"EU 2017/583 of 14 July 2016\"...      56000000\n",
       "3   {\"RTS2 version\": \"EU 2017/583 of 14 July 2016\"...     185000000\n",
       "4   {\"RTS2 version\": \"EU 2017/583 of 14 July 2016\"...     375000000\n",
       "5   {\"RTS2 version\": \"EU 2017/583 of 14 July 2016\"...      96000000\n",
       "6   {\"RTS2 version\": \"EU 2017/583 of 14 July 2016\"...     565000000\n",
       "7   {\"RTS2 version\": \"EU 2017/583 of 14 July 2016\"...     367000000\n",
       "8   {\"RTS2 version\": \"EU 2017/583 of 14 July 2016\"...      73000000\n",
       "9   {\"RTS2 version\": \"EU 2017/583 of 14 July 2016\"...      78000000\n",
       "10  {\"RTS2 version\": \"EU 2017/583 of 14 July 2016\"...     401000000\n",
       "11  {\"RTS2 version\": \"EU 2017/583 of 14 July 2016\"...      96000000"
      ]
     },
     "execution_count": 154,
     "metadata": {},
     "output_type": "execute_result"
    }
   ],
   "source": [
    "# Get the sum of all trades by RTS 2 sub class.\n",
    "# This should exactly match the figure in the OO report.\n",
    "\n",
    "all_trades_notional_sum_series = all_trades[['rts2_classification', 'eur_notional']]\\\n",
    "    .groupby(by='rts2_classification').sum()\n",
    "sums_df = pd.DataFrame(all_trades_notional_sum_series).reset_index()\n",
    "# Rename the column to all_trades_eur_notional\n",
    "sums_df"
   ]
  }
 ],
 "metadata": {
  "kernelspec": {
   "display_name": "Python 3",
   "language": "python",
   "name": "python3"
  },
  "language_info": {
   "codemirror_mode": {
    "name": "ipython",
    "version": 3
   },
   "file_extension": ".py",
   "mimetype": "text/x-python",
   "name": "python",
   "nbconvert_exporter": "python",
   "pygments_lexer": "ipython3",
   "version": "3.5.3"
  }
 },
 "nbformat": 4,
 "nbformat_minor": 2
}
